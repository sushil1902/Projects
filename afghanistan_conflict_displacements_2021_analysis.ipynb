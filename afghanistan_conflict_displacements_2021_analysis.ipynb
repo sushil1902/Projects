{
  "nbformat": 4,
  "nbformat_minor": 0,
  "metadata": {
    "colab": {
      "name": "afghanistan_conflict_displacements_2021 analysis.ipynb",
      "provenance": [],
      "authorship_tag": "ABX9TyMRT9Z6SE6jbrQdM/S7z+a1",
      "include_colab_link": true
    },
    "kernelspec": {
      "name": "python3",
      "display_name": "Python 3"
    },
    "language_info": {
      "name": "python"
    }
  },
  "cells": [
    {
      "cell_type": "markdown",
      "metadata": {
        "id": "view-in-github",
        "colab_type": "text"
      },
      "source": [
        "<a href=\"https://colab.research.google.com/github/sushil1902/Projects/blob/Proj/afghanistan_conflict_displacements_2021_analysis.ipynb\" target=\"_parent\"><img src=\"https://colab.research.google.com/assets/colab-badge.svg\" alt=\"Open In Colab\"/></a>"
      ]
    },
    {
      "cell_type": "code",
      "execution_count": 1,
      "metadata": {
        "colab": {
          "base_uri": "https://localhost:8080/"
        },
        "id": "9NBSEQ2iUROR",
        "outputId": "59cbec04-972f-4ce8-d892-dbeff061fbe8"
      },
      "outputs": [
        {
          "output_type": "stream",
          "name": "stderr",
          "text": [
            "/usr/local/lib/python3.7/dist-packages/ipykernel_launcher.py:6: FutureWarning: Passing a negative integer is deprecated in version 1.0 and will not be supported in future version. Instead, use None to not limit the column width.\n",
            "  \n"
          ]
        }
      ],
      "source": [
        "import numpy as np\n",
        "np.set_printoptions(precision = 4)  # To display value  only upto 4 decimal place\n",
        "\n",
        "import pandas as pd\n",
        "pd.set_option('mode.chained_assignment',None)   # To Supress pandas warning\n",
        "pd.set_option('display.max_colwidth',-1)         # To display all the data in each column\n",
        "pd.options.display.max_columns = 50              # To display every column of the dataset in head()\n",
        "\n",
        "import matplotlib.pyplot as plt\n",
        "plt.style.use('seaborn-whitegrid')             # to apply seaborn whitegrid, classic style to the plots\n",
        "%matplotlib inline\n",
        "\n",
        "import seaborn as sns\n",
        "sns.set(style='whitegrid',font_scale=1.3, color_codes= True)   # To adjust seaborn setting for plot\n",
        "\n",
        "import warnings\n",
        "warnings.filterwarnings('ignore')         # To Supress all the warning in notebook\n"
      ]
    },
    {
      "cell_type": "code",
      "source": [
        "af_conf_data = pd.read_csv('https://raw.githubusercontent.com/sushil1902/Datasets/main/afghanistan_conflict_displacements_2021.csv')"
      ],
      "metadata": {
        "id": "T6ZKbYjwWLmN"
      },
      "execution_count": 3,
      "outputs": []
    },
    {
      "cell_type": "code",
      "source": [
        "af_conf_data.head()"
      ],
      "metadata": {
        "colab": {
          "base_uri": "https://localhost:8080/",
          "height": 270
        },
        "id": "sHIMvHVPWl0r",
        "outputId": "95fde0ea-274e-4ecc-acfe-978b1b22a6e0"
      },
      "execution_count": 4,
      "outputs": [
        {
          "output_type": "execute_result",
          "data": {
            "text/html": [
              "\n",
              "  <div id=\"df-3d7e2e4a-5fbf-488e-aa61-73b70809b4e4\">\n",
              "    <div class=\"colab-df-container\">\n",
              "      <div>\n",
              "<style scoped>\n",
              "    .dataframe tbody tr th:only-of-type {\n",
              "        vertical-align: middle;\n",
              "    }\n",
              "\n",
              "    .dataframe tbody tr th {\n",
              "        vertical-align: top;\n",
              "    }\n",
              "\n",
              "    .dataframe thead th {\n",
              "        text-align: right;\n",
              "    }\n",
              "</style>\n",
              "<table border=\"1\" class=\"dataframe\">\n",
              "  <thead>\n",
              "    <tr style=\"text-align: right;\">\n",
              "      <th></th>\n",
              "      <th>DISP_DATE</th>\n",
              "      <th>ORIG_PROV_CODE</th>\n",
              "      <th>ORIG_PROV_NAME</th>\n",
              "      <th>ORIG_DIST_CODE</th>\n",
              "      <th>ORIG_DIST_NAME</th>\n",
              "      <th>DISP_PROV_CODE</th>\n",
              "      <th>DISP_PROV_NAME</th>\n",
              "      <th>DISP_DIST_CODE</th>\n",
              "      <th>DISP_DIST_NAME</th>\n",
              "      <th>DISP_IND</th>\n",
              "      <th>DISP_FAM</th>\n",
              "      <th>DISP_ADULT_MALE</th>\n",
              "      <th>DISP_ADULT_FEMALE</th>\n",
              "      <th>DISP_CHILDREN_U18</th>\n",
              "    </tr>\n",
              "  </thead>\n",
              "  <tbody>\n",
              "    <tr>\n",
              "      <th>0</th>\n",
              "      <td>1-01-21</td>\n",
              "      <td>6</td>\n",
              "      <td>Nangarhar</td>\n",
              "      <td>604.0</td>\n",
              "      <td>Khogyani</td>\n",
              "      <td>6</td>\n",
              "      <td>Nangarhar</td>\n",
              "      <td>601</td>\n",
              "      <td>Jalalabad</td>\n",
              "      <td>217</td>\n",
              "      <td>31</td>\n",
              "      <td>42.0</td>\n",
              "      <td>45.0</td>\n",
              "      <td>130.0</td>\n",
              "    </tr>\n",
              "    <tr>\n",
              "      <th>1</th>\n",
              "      <td>01-01-21</td>\n",
              "      <td>28</td>\n",
              "      <td>Faryab</td>\n",
              "      <td>2806.0</td>\n",
              "      <td>Qaysar</td>\n",
              "      <td>28</td>\n",
              "      <td>Faryab</td>\n",
              "      <td>2801</td>\n",
              "      <td>Maymana</td>\n",
              "      <td>931</td>\n",
              "      <td>133</td>\n",
              "      <td>NaN</td>\n",
              "      <td>NaN</td>\n",
              "      <td>NaN</td>\n",
              "    </tr>\n",
              "    <tr>\n",
              "      <th>2</th>\n",
              "      <td>01-01-21</td>\n",
              "      <td>28</td>\n",
              "      <td>Faryab</td>\n",
              "      <td>2802.0</td>\n",
              "      <td>Khwajasabzposh</td>\n",
              "      <td>28</td>\n",
              "      <td>Faryab</td>\n",
              "      <td>2801</td>\n",
              "      <td>Maymana</td>\n",
              "      <td>861</td>\n",
              "      <td>123</td>\n",
              "      <td>NaN</td>\n",
              "      <td>NaN</td>\n",
              "      <td>NaN</td>\n",
              "    </tr>\n",
              "    <tr>\n",
              "      <th>3</th>\n",
              "      <td>01-01-21</td>\n",
              "      <td>28</td>\n",
              "      <td>Faryab</td>\n",
              "      <td>2805.0</td>\n",
              "      <td>Almar</td>\n",
              "      <td>28</td>\n",
              "      <td>Faryab</td>\n",
              "      <td>2801</td>\n",
              "      <td>Maymana</td>\n",
              "      <td>7</td>\n",
              "      <td>1</td>\n",
              "      <td>NaN</td>\n",
              "      <td>NaN</td>\n",
              "      <td>NaN</td>\n",
              "    </tr>\n",
              "    <tr>\n",
              "      <th>4</th>\n",
              "      <td>01-01-21</td>\n",
              "      <td>28</td>\n",
              "      <td>Faryab</td>\n",
              "      <td>2803.0</td>\n",
              "      <td>Pashtunkot</td>\n",
              "      <td>28</td>\n",
              "      <td>Faryab</td>\n",
              "      <td>2801</td>\n",
              "      <td>Maymana</td>\n",
              "      <td>28</td>\n",
              "      <td>4</td>\n",
              "      <td>NaN</td>\n",
              "      <td>NaN</td>\n",
              "      <td>NaN</td>\n",
              "    </tr>\n",
              "  </tbody>\n",
              "</table>\n",
              "</div>\n",
              "      <button class=\"colab-df-convert\" onclick=\"convertToInteractive('df-3d7e2e4a-5fbf-488e-aa61-73b70809b4e4')\"\n",
              "              title=\"Convert this dataframe to an interactive table.\"\n",
              "              style=\"display:none;\">\n",
              "        \n",
              "  <svg xmlns=\"http://www.w3.org/2000/svg\" height=\"24px\"viewBox=\"0 0 24 24\"\n",
              "       width=\"24px\">\n",
              "    <path d=\"M0 0h24v24H0V0z\" fill=\"none\"/>\n",
              "    <path d=\"M18.56 5.44l.94 2.06.94-2.06 2.06-.94-2.06-.94-.94-2.06-.94 2.06-2.06.94zm-11 1L8.5 8.5l.94-2.06 2.06-.94-2.06-.94L8.5 2.5l-.94 2.06-2.06.94zm10 10l.94 2.06.94-2.06 2.06-.94-2.06-.94-.94-2.06-.94 2.06-2.06.94z\"/><path d=\"M17.41 7.96l-1.37-1.37c-.4-.4-.92-.59-1.43-.59-.52 0-1.04.2-1.43.59L10.3 9.45l-7.72 7.72c-.78.78-.78 2.05 0 2.83L4 21.41c.39.39.9.59 1.41.59.51 0 1.02-.2 1.41-.59l7.78-7.78 2.81-2.81c.8-.78.8-2.07 0-2.86zM5.41 20L4 18.59l7.72-7.72 1.47 1.35L5.41 20z\"/>\n",
              "  </svg>\n",
              "      </button>\n",
              "      \n",
              "  <style>\n",
              "    .colab-df-container {\n",
              "      display:flex;\n",
              "      flex-wrap:wrap;\n",
              "      gap: 12px;\n",
              "    }\n",
              "\n",
              "    .colab-df-convert {\n",
              "      background-color: #E8F0FE;\n",
              "      border: none;\n",
              "      border-radius: 50%;\n",
              "      cursor: pointer;\n",
              "      display: none;\n",
              "      fill: #1967D2;\n",
              "      height: 32px;\n",
              "      padding: 0 0 0 0;\n",
              "      width: 32px;\n",
              "    }\n",
              "\n",
              "    .colab-df-convert:hover {\n",
              "      background-color: #E2EBFA;\n",
              "      box-shadow: 0px 1px 2px rgba(60, 64, 67, 0.3), 0px 1px 3px 1px rgba(60, 64, 67, 0.15);\n",
              "      fill: #174EA6;\n",
              "    }\n",
              "\n",
              "    [theme=dark] .colab-df-convert {\n",
              "      background-color: #3B4455;\n",
              "      fill: #D2E3FC;\n",
              "    }\n",
              "\n",
              "    [theme=dark] .colab-df-convert:hover {\n",
              "      background-color: #434B5C;\n",
              "      box-shadow: 0px 1px 3px 1px rgba(0, 0, 0, 0.15);\n",
              "      filter: drop-shadow(0px 1px 2px rgba(0, 0, 0, 0.3));\n",
              "      fill: #FFFFFF;\n",
              "    }\n",
              "  </style>\n",
              "\n",
              "      <script>\n",
              "        const buttonEl =\n",
              "          document.querySelector('#df-3d7e2e4a-5fbf-488e-aa61-73b70809b4e4 button.colab-df-convert');\n",
              "        buttonEl.style.display =\n",
              "          google.colab.kernel.accessAllowed ? 'block' : 'none';\n",
              "\n",
              "        async function convertToInteractive(key) {\n",
              "          const element = document.querySelector('#df-3d7e2e4a-5fbf-488e-aa61-73b70809b4e4');\n",
              "          const dataTable =\n",
              "            await google.colab.kernel.invokeFunction('convertToInteractive',\n",
              "                                                     [key], {});\n",
              "          if (!dataTable) return;\n",
              "\n",
              "          const docLinkHtml = 'Like what you see? Visit the ' +\n",
              "            '<a target=\"_blank\" href=https://colab.research.google.com/notebooks/data_table.ipynb>data table notebook</a>'\n",
              "            + ' to learn more about interactive tables.';\n",
              "          element.innerHTML = '';\n",
              "          dataTable['output_type'] = 'display_data';\n",
              "          await google.colab.output.renderOutput(dataTable, element);\n",
              "          const docLink = document.createElement('div');\n",
              "          docLink.innerHTML = docLinkHtml;\n",
              "          element.appendChild(docLink);\n",
              "        }\n",
              "      </script>\n",
              "    </div>\n",
              "  </div>\n",
              "  "
            ],
            "text/plain": [
              "  DISP_DATE  ORIG_PROV_CODE ORIG_PROV_NAME  ORIG_DIST_CODE  ORIG_DIST_NAME  \\\n",
              "0  1-01-21   6               Nangarhar      604.0           Khogyani         \n",
              "1  01-01-21  28              Faryab         2806.0          Qaysar           \n",
              "2  01-01-21  28              Faryab         2802.0          Khwajasabzposh   \n",
              "3  01-01-21  28              Faryab         2805.0          Almar            \n",
              "4  01-01-21  28              Faryab         2803.0          Pashtunkot       \n",
              "\n",
              "   DISP_PROV_CODE DISP_PROV_NAME  DISP_DIST_CODE DISP_DIST_NAME  DISP_IND  \\\n",
              "0  6               Nangarhar      601             Jalalabad      217        \n",
              "1  28              Faryab         2801            Maymana        931        \n",
              "2  28              Faryab         2801            Maymana        861        \n",
              "3  28              Faryab         2801            Maymana        7          \n",
              "4  28              Faryab         2801            Maymana        28         \n",
              "\n",
              "   DISP_FAM  DISP_ADULT_MALE  DISP_ADULT_FEMALE  DISP_CHILDREN_U18  \n",
              "0  31        42.0             45.0               130.0              \n",
              "1  133      NaN              NaN                NaN                 \n",
              "2  123      NaN              NaN                NaN                 \n",
              "3  1        NaN              NaN                NaN                 \n",
              "4  4        NaN              NaN                NaN                 "
            ]
          },
          "metadata": {},
          "execution_count": 4
        }
      ]
    },
    {
      "cell_type": "code",
      "source": [
        "af_conf_data.shape"
      ],
      "metadata": {
        "colab": {
          "base_uri": "https://localhost:8080/"
        },
        "id": "VfJDybc1ePl_",
        "outputId": "5c10bff6-e4fb-47e0-f802-3b70abcec916"
      },
      "execution_count": 5,
      "outputs": [
        {
          "output_type": "execute_result",
          "data": {
            "text/plain": [
              "(1178, 14)"
            ]
          },
          "metadata": {},
          "execution_count": 5
        }
      ]
    },
    {
      "cell_type": "code",
      "source": [
        "af_conf_data.describe()"
      ],
      "metadata": {
        "colab": {
          "base_uri": "https://localhost:8080/",
          "height": 300
        },
        "id": "CEAGK-rufH7-",
        "outputId": "6d8a195d-ec75-4a88-a77c-bd3beecb7177"
      },
      "execution_count": 6,
      "outputs": [
        {
          "output_type": "execute_result",
          "data": {
            "text/html": [
              "\n",
              "  <div id=\"df-c2f1a39a-34cc-4cd6-9f7c-5025349c5417\">\n",
              "    <div class=\"colab-df-container\">\n",
              "      <div>\n",
              "<style scoped>\n",
              "    .dataframe tbody tr th:only-of-type {\n",
              "        vertical-align: middle;\n",
              "    }\n",
              "\n",
              "    .dataframe tbody tr th {\n",
              "        vertical-align: top;\n",
              "    }\n",
              "\n",
              "    .dataframe thead th {\n",
              "        text-align: right;\n",
              "    }\n",
              "</style>\n",
              "<table border=\"1\" class=\"dataframe\">\n",
              "  <thead>\n",
              "    <tr style=\"text-align: right;\">\n",
              "      <th></th>\n",
              "      <th>ORIG_PROV_CODE</th>\n",
              "      <th>ORIG_DIST_CODE</th>\n",
              "      <th>DISP_PROV_CODE</th>\n",
              "      <th>DISP_DIST_CODE</th>\n",
              "      <th>DISP_IND</th>\n",
              "      <th>DISP_FAM</th>\n",
              "      <th>DISP_ADULT_MALE</th>\n",
              "      <th>DISP_ADULT_FEMALE</th>\n",
              "      <th>DISP_CHILDREN_U18</th>\n",
              "    </tr>\n",
              "  </thead>\n",
              "  <tbody>\n",
              "    <tr>\n",
              "      <th>count</th>\n",
              "      <td>1178.000000</td>\n",
              "      <td>1176.000000</td>\n",
              "      <td>1178.000000</td>\n",
              "      <td>1178.000000</td>\n",
              "      <td>1178.000000</td>\n",
              "      <td>1178.000000</td>\n",
              "      <td>61.000000</td>\n",
              "      <td>61.000000</td>\n",
              "      <td>61.000000</td>\n",
              "    </tr>\n",
              "    <tr>\n",
              "      <th>mean</th>\n",
              "      <td>21.227504</td>\n",
              "      <td>2126.948980</td>\n",
              "      <td>20.856537</td>\n",
              "      <td>2087.269100</td>\n",
              "      <td>602.749576</td>\n",
              "      <td>90.038200</td>\n",
              "      <td>167.721311</td>\n",
              "      <td>186.114754</td>\n",
              "      <td>618.491803</td>\n",
              "    </tr>\n",
              "    <tr>\n",
              "      <th>std</th>\n",
              "      <td>9.134185</td>\n",
              "      <td>913.424112</td>\n",
              "      <td>10.280218</td>\n",
              "      <td>1027.648729</td>\n",
              "      <td>1900.441186</td>\n",
              "      <td>278.395969</td>\n",
              "      <td>374.218881</td>\n",
              "      <td>442.352126</td>\n",
              "      <td>1429.256609</td>\n",
              "    </tr>\n",
              "    <tr>\n",
              "      <th>min</th>\n",
              "      <td>1.000000</td>\n",
              "      <td>101.000000</td>\n",
              "      <td>1.000000</td>\n",
              "      <td>101.000000</td>\n",
              "      <td>3.000000</td>\n",
              "      <td>1.000000</td>\n",
              "      <td>1.000000</td>\n",
              "      <td>1.000000</td>\n",
              "      <td>1.000000</td>\n",
              "    </tr>\n",
              "    <tr>\n",
              "      <th>25%</th>\n",
              "      <td>15.000000</td>\n",
              "      <td>1477.750000</td>\n",
              "      <td>13.000000</td>\n",
              "      <td>1308.000000</td>\n",
              "      <td>41.250000</td>\n",
              "      <td>6.000000</td>\n",
              "      <td>7.000000</td>\n",
              "      <td>7.000000</td>\n",
              "      <td>29.000000</td>\n",
              "    </tr>\n",
              "    <tr>\n",
              "      <th>50%</th>\n",
              "      <td>21.000000</td>\n",
              "      <td>2107.000000</td>\n",
              "      <td>26.000000</td>\n",
              "      <td>2601.000000</td>\n",
              "      <td>112.000000</td>\n",
              "      <td>17.000000</td>\n",
              "      <td>42.000000</td>\n",
              "      <td>45.000000</td>\n",
              "      <td>113.000000</td>\n",
              "    </tr>\n",
              "    <tr>\n",
              "      <th>75%</th>\n",
              "      <td>29.000000</td>\n",
              "      <td>2905.000000</td>\n",
              "      <td>30.000000</td>\n",
              "      <td>3001.000000</td>\n",
              "      <td>350.000000</td>\n",
              "      <td>50.000000</td>\n",
              "      <td>125.000000</td>\n",
              "      <td>136.000000</td>\n",
              "      <td>456.000000</td>\n",
              "    </tr>\n",
              "    <tr>\n",
              "      <th>max</th>\n",
              "      <td>34.000000</td>\n",
              "      <td>3405.000000</td>\n",
              "      <td>34.000000</td>\n",
              "      <td>3401.000000</td>\n",
              "      <td>31836.000000</td>\n",
              "      <td>4548.000000</td>\n",
              "      <td>2293.000000</td>\n",
              "      <td>2882.000000</td>\n",
              "      <td>7471.000000</td>\n",
              "    </tr>\n",
              "  </tbody>\n",
              "</table>\n",
              "</div>\n",
              "      <button class=\"colab-df-convert\" onclick=\"convertToInteractive('df-c2f1a39a-34cc-4cd6-9f7c-5025349c5417')\"\n",
              "              title=\"Convert this dataframe to an interactive table.\"\n",
              "              style=\"display:none;\">\n",
              "        \n",
              "  <svg xmlns=\"http://www.w3.org/2000/svg\" height=\"24px\"viewBox=\"0 0 24 24\"\n",
              "       width=\"24px\">\n",
              "    <path d=\"M0 0h24v24H0V0z\" fill=\"none\"/>\n",
              "    <path d=\"M18.56 5.44l.94 2.06.94-2.06 2.06-.94-2.06-.94-.94-2.06-.94 2.06-2.06.94zm-11 1L8.5 8.5l.94-2.06 2.06-.94-2.06-.94L8.5 2.5l-.94 2.06-2.06.94zm10 10l.94 2.06.94-2.06 2.06-.94-2.06-.94-.94-2.06-.94 2.06-2.06.94z\"/><path d=\"M17.41 7.96l-1.37-1.37c-.4-.4-.92-.59-1.43-.59-.52 0-1.04.2-1.43.59L10.3 9.45l-7.72 7.72c-.78.78-.78 2.05 0 2.83L4 21.41c.39.39.9.59 1.41.59.51 0 1.02-.2 1.41-.59l7.78-7.78 2.81-2.81c.8-.78.8-2.07 0-2.86zM5.41 20L4 18.59l7.72-7.72 1.47 1.35L5.41 20z\"/>\n",
              "  </svg>\n",
              "      </button>\n",
              "      \n",
              "  <style>\n",
              "    .colab-df-container {\n",
              "      display:flex;\n",
              "      flex-wrap:wrap;\n",
              "      gap: 12px;\n",
              "    }\n",
              "\n",
              "    .colab-df-convert {\n",
              "      background-color: #E8F0FE;\n",
              "      border: none;\n",
              "      border-radius: 50%;\n",
              "      cursor: pointer;\n",
              "      display: none;\n",
              "      fill: #1967D2;\n",
              "      height: 32px;\n",
              "      padding: 0 0 0 0;\n",
              "      width: 32px;\n",
              "    }\n",
              "\n",
              "    .colab-df-convert:hover {\n",
              "      background-color: #E2EBFA;\n",
              "      box-shadow: 0px 1px 2px rgba(60, 64, 67, 0.3), 0px 1px 3px 1px rgba(60, 64, 67, 0.15);\n",
              "      fill: #174EA6;\n",
              "    }\n",
              "\n",
              "    [theme=dark] .colab-df-convert {\n",
              "      background-color: #3B4455;\n",
              "      fill: #D2E3FC;\n",
              "    }\n",
              "\n",
              "    [theme=dark] .colab-df-convert:hover {\n",
              "      background-color: #434B5C;\n",
              "      box-shadow: 0px 1px 3px 1px rgba(0, 0, 0, 0.15);\n",
              "      filter: drop-shadow(0px 1px 2px rgba(0, 0, 0, 0.3));\n",
              "      fill: #FFFFFF;\n",
              "    }\n",
              "  </style>\n",
              "\n",
              "      <script>\n",
              "        const buttonEl =\n",
              "          document.querySelector('#df-c2f1a39a-34cc-4cd6-9f7c-5025349c5417 button.colab-df-convert');\n",
              "        buttonEl.style.display =\n",
              "          google.colab.kernel.accessAllowed ? 'block' : 'none';\n",
              "\n",
              "        async function convertToInteractive(key) {\n",
              "          const element = document.querySelector('#df-c2f1a39a-34cc-4cd6-9f7c-5025349c5417');\n",
              "          const dataTable =\n",
              "            await google.colab.kernel.invokeFunction('convertToInteractive',\n",
              "                                                     [key], {});\n",
              "          if (!dataTable) return;\n",
              "\n",
              "          const docLinkHtml = 'Like what you see? Visit the ' +\n",
              "            '<a target=\"_blank\" href=https://colab.research.google.com/notebooks/data_table.ipynb>data table notebook</a>'\n",
              "            + ' to learn more about interactive tables.';\n",
              "          element.innerHTML = '';\n",
              "          dataTable['output_type'] = 'display_data';\n",
              "          await google.colab.output.renderOutput(dataTable, element);\n",
              "          const docLink = document.createElement('div');\n",
              "          docLink.innerHTML = docLinkHtml;\n",
              "          element.appendChild(docLink);\n",
              "        }\n",
              "      </script>\n",
              "    </div>\n",
              "  </div>\n",
              "  "
            ],
            "text/plain": [
              "       ORIG_PROV_CODE  ORIG_DIST_CODE  DISP_PROV_CODE  DISP_DIST_CODE  \\\n",
              "count  1178.000000     1176.000000     1178.000000     1178.000000      \n",
              "mean   21.227504       2126.948980     20.856537       2087.269100      \n",
              "std    9.134185        913.424112      10.280218       1027.648729      \n",
              "min    1.000000        101.000000      1.000000        101.000000       \n",
              "25%    15.000000       1477.750000     13.000000       1308.000000      \n",
              "50%    21.000000       2107.000000     26.000000       2601.000000      \n",
              "75%    29.000000       2905.000000     30.000000       3001.000000      \n",
              "max    34.000000       3405.000000     34.000000       3401.000000      \n",
              "\n",
              "           DISP_IND     DISP_FAM  DISP_ADULT_MALE  DISP_ADULT_FEMALE  \\\n",
              "count  1178.000000   1178.000000  61.000000        61.000000           \n",
              "mean   602.749576    90.038200    167.721311       186.114754          \n",
              "std    1900.441186   278.395969   374.218881       442.352126          \n",
              "min    3.000000      1.000000     1.000000         1.000000            \n",
              "25%    41.250000     6.000000     7.000000         7.000000            \n",
              "50%    112.000000    17.000000    42.000000        45.000000           \n",
              "75%    350.000000    50.000000    125.000000       136.000000          \n",
              "max    31836.000000  4548.000000  2293.000000      2882.000000         \n",
              "\n",
              "       DISP_CHILDREN_U18  \n",
              "count  61.000000          \n",
              "mean   618.491803         \n",
              "std    1429.256609        \n",
              "min    1.000000           \n",
              "25%    29.000000          \n",
              "50%    113.000000         \n",
              "75%    456.000000         \n",
              "max    7471.000000        "
            ]
          },
          "metadata": {},
          "execution_count": 6
        }
      ]
    },
    {
      "cell_type": "code",
      "source": [
        "af_conf_data.info()"
      ],
      "metadata": {
        "colab": {
          "base_uri": "https://localhost:8080/"
        },
        "id": "lQqpnHgrfbZ4",
        "outputId": "f62d6137-bc60-4877-ed14-dcf753b57ff2"
      },
      "execution_count": 7,
      "outputs": [
        {
          "output_type": "stream",
          "name": "stdout",
          "text": [
            "<class 'pandas.core.frame.DataFrame'>\n",
            "RangeIndex: 1178 entries, 0 to 1177\n",
            "Data columns (total 14 columns):\n",
            " #   Column             Non-Null Count  Dtype  \n",
            "---  ------             --------------  -----  \n",
            " 0   DISP_DATE          1178 non-null   object \n",
            " 1   ORIG_PROV_CODE     1178 non-null   int64  \n",
            " 2   ORIG_PROV_NAME     1178 non-null   object \n",
            " 3   ORIG_DIST_CODE     1176 non-null   float64\n",
            " 4   ORIG_DIST_NAME     1177 non-null   object \n",
            " 5   DISP_PROV_CODE     1178 non-null   int64  \n",
            " 6   DISP_PROV_NAME     1178 non-null   object \n",
            " 7   DISP_DIST_CODE     1178 non-null   int64  \n",
            " 8   DISP_DIST_NAME     1178 non-null   object \n",
            " 9   DISP_IND           1178 non-null   int64  \n",
            " 10  DISP_FAM           1178 non-null   int64  \n",
            " 11  DISP_ADULT_MALE    61 non-null     float64\n",
            " 12  DISP_ADULT_FEMALE  61 non-null     float64\n",
            " 13  DISP_CHILDREN_U18  61 non-null     float64\n",
            "dtypes: float64(4), int64(5), object(5)\n",
            "memory usage: 129.0+ KB\n"
          ]
        }
      ]
    },
    {
      "cell_type": "code",
      "source": [
        "af_conf_data.isna().sum()"
      ],
      "metadata": {
        "colab": {
          "base_uri": "https://localhost:8080/"
        },
        "id": "b7m178HKfvHl",
        "outputId": "a386824c-2f2c-4e13-f3b5-43d301ffa0c7"
      },
      "execution_count": 8,
      "outputs": [
        {
          "output_type": "execute_result",
          "data": {
            "text/plain": [
              "DISP_DATE            0   \n",
              "ORIG_PROV_CODE       0   \n",
              "ORIG_PROV_NAME       0   \n",
              "ORIG_DIST_CODE       2   \n",
              "ORIG_DIST_NAME       1   \n",
              "DISP_PROV_CODE       0   \n",
              "DISP_PROV_NAME       0   \n",
              "DISP_DIST_CODE       0   \n",
              "DISP_DIST_NAME       0   \n",
              "DISP_IND             0   \n",
              "DISP_FAM             0   \n",
              "DISP_ADULT_MALE      1117\n",
              "DISP_ADULT_FEMALE    1117\n",
              "DISP_CHILDREN_U18    1117\n",
              "dtype: int64"
            ]
          },
          "metadata": {},
          "execution_count": 8
        }
      ]
    },
    {
      "cell_type": "code",
      "source": [
        "af_conf_data.isnull().sum()"
      ],
      "metadata": {
        "colab": {
          "base_uri": "https://localhost:8080/"
        },
        "id": "_zj0e9NYgA2k",
        "outputId": "b9499f79-5832-4bdd-cc8a-4a6bcb35c6ce"
      },
      "execution_count": 9,
      "outputs": [
        {
          "output_type": "execute_result",
          "data": {
            "text/plain": [
              "DISP_DATE            0   \n",
              "ORIG_PROV_CODE       0   \n",
              "ORIG_PROV_NAME       0   \n",
              "ORIG_DIST_CODE       2   \n",
              "ORIG_DIST_NAME       1   \n",
              "DISP_PROV_CODE       0   \n",
              "DISP_PROV_NAME       0   \n",
              "DISP_DIST_CODE       0   \n",
              "DISP_DIST_NAME       0   \n",
              "DISP_IND             0   \n",
              "DISP_FAM             0   \n",
              "DISP_ADULT_MALE      1117\n",
              "DISP_ADULT_FEMALE    1117\n",
              "DISP_CHILDREN_U18    1117\n",
              "dtype: int64"
            ]
          },
          "metadata": {},
          "execution_count": 9
        }
      ]
    },
    {
      "cell_type": "code",
      "source": [
        "af_conf_data['ORIG_DIST_CODE'].replace(\"\",np.nan,inplace= True);\n",
        "af_conf_data.dropna(subset=['ORIG_DIST_CODE'],inplace = True);\n",
        "af_conf_data['ORIG_DIST_NAME'].replace(\"\",np.nan,inplace= True)\n",
        "af_conf_data.dropna(subset=['ORIG_DIST_NAME'],inplace = True);\n",
        "af_conf_data['DISP_ADULT_MALE'].replace(\"\",np.nan,inplace= True)\n",
        "af_conf_data.dropna(subset=['DISP_ADULT_MALE'],inplace = True);\n",
        "af_conf_data['DISP_ADULT_FEMALE'].replace(\"\",np.nan,inplace= True)\n",
        "af_conf_data.dropna(subset=['DISP_ADULT_FEMALE'],inplace = True);\n",
        "af_conf_data['DISP_CHILDREN_U18'].replace(\"\",np.nan,inplace= True)\n",
        "af_conf_data.dropna(subset=['DISP_CHILDREN_U18'],inplace = True);"
      ],
      "metadata": {
        "id": "XYRmCgUkgRzo"
      },
      "execution_count": 12,
      "outputs": []
    },
    {
      "cell_type": "code",
      "source": [
        "af_conf_data.isnull().sum()"
      ],
      "metadata": {
        "colab": {
          "base_uri": "https://localhost:8080/"
        },
        "id": "9nM9VWVSg2cH",
        "outputId": "4b513f4b-bbca-4554-acd0-35187e6bbe3a"
      },
      "execution_count": 13,
      "outputs": [
        {
          "output_type": "execute_result",
          "data": {
            "text/plain": [
              "DISP_DATE            0\n",
              "ORIG_PROV_CODE       0\n",
              "ORIG_PROV_NAME       0\n",
              "ORIG_DIST_CODE       0\n",
              "ORIG_DIST_NAME       0\n",
              "DISP_PROV_CODE       0\n",
              "DISP_PROV_NAME       0\n",
              "DISP_DIST_CODE       0\n",
              "DISP_DIST_NAME       0\n",
              "DISP_IND             0\n",
              "DISP_FAM             0\n",
              "DISP_ADULT_MALE      0\n",
              "DISP_ADULT_FEMALE    0\n",
              "DISP_CHILDREN_U18    0\n",
              "dtype: int64"
            ]
          },
          "metadata": {},
          "execution_count": 13
        }
      ]
    },
    {
      "cell_type": "code",
      "source": [
        "af_conf_data.shape"
      ],
      "metadata": {
        "colab": {
          "base_uri": "https://localhost:8080/"
        },
        "id": "lq95J2Pdg4w-",
        "outputId": "a0af2fa6-eb26-4924-b320-eb82ec3134c3"
      },
      "execution_count": 14,
      "outputs": [
        {
          "output_type": "execute_result",
          "data": {
            "text/plain": [
              "(61, 14)"
            ]
          },
          "metadata": {},
          "execution_count": 14
        }
      ]
    },
    {
      "cell_type": "code",
      "source": [
        "af_conf_data.columns"
      ],
      "metadata": {
        "colab": {
          "base_uri": "https://localhost:8080/"
        },
        "id": "mPGX5Uu9h_DI",
        "outputId": "468a2a2b-4e12-4eb7-8117-3ac5ec57aebf"
      },
      "execution_count": 15,
      "outputs": [
        {
          "output_type": "execute_result",
          "data": {
            "text/plain": [
              "Index(['DISP_DATE', 'ORIG_PROV_CODE', 'ORIG_PROV_NAME', 'ORIG_DIST_CODE',\n",
              "       'ORIG_DIST_NAME', 'DISP_PROV_CODE', 'DISP_PROV_NAME', 'DISP_DIST_CODE',\n",
              "       'DISP_DIST_NAME', 'DISP_IND', 'DISP_FAM', 'DISP_ADULT_MALE',\n",
              "       'DISP_ADULT_FEMALE', 'DISP_CHILDREN_U18'],\n",
              "      dtype='object')"
            ]
          },
          "metadata": {},
          "execution_count": 15
        }
      ]
    },
    {
      "cell_type": "code",
      "source": [
        "af_conf_data['DISP_DATE'] = pd.DatetimeIndex(af_conf_data['DISP_DATE']).month"
      ],
      "metadata": {
        "id": "x65B5aCTiK2I"
      },
      "execution_count": 16,
      "outputs": []
    },
    {
      "cell_type": "code",
      "source": [
        "af_conf_data.head(2)"
      ],
      "metadata": {
        "colab": {
          "base_uri": "https://localhost:8080/",
          "height": 176
        },
        "id": "YYfpKLmAihF-",
        "outputId": "4dd8498c-7a0e-47a4-e7cb-6db69c9516ff"
      },
      "execution_count": 17,
      "outputs": [
        {
          "output_type": "execute_result",
          "data": {
            "text/html": [
              "\n",
              "  <div id=\"df-a2c2ebca-465d-49ee-aa25-1fdd1bcadcbd\">\n",
              "    <div class=\"colab-df-container\">\n",
              "      <div>\n",
              "<style scoped>\n",
              "    .dataframe tbody tr th:only-of-type {\n",
              "        vertical-align: middle;\n",
              "    }\n",
              "\n",
              "    .dataframe tbody tr th {\n",
              "        vertical-align: top;\n",
              "    }\n",
              "\n",
              "    .dataframe thead th {\n",
              "        text-align: right;\n",
              "    }\n",
              "</style>\n",
              "<table border=\"1\" class=\"dataframe\">\n",
              "  <thead>\n",
              "    <tr style=\"text-align: right;\">\n",
              "      <th></th>\n",
              "      <th>DISP_DATE</th>\n",
              "      <th>ORIG_PROV_CODE</th>\n",
              "      <th>ORIG_PROV_NAME</th>\n",
              "      <th>ORIG_DIST_CODE</th>\n",
              "      <th>ORIG_DIST_NAME</th>\n",
              "      <th>DISP_PROV_CODE</th>\n",
              "      <th>DISP_PROV_NAME</th>\n",
              "      <th>DISP_DIST_CODE</th>\n",
              "      <th>DISP_DIST_NAME</th>\n",
              "      <th>DISP_IND</th>\n",
              "      <th>DISP_FAM</th>\n",
              "      <th>DISP_ADULT_MALE</th>\n",
              "      <th>DISP_ADULT_FEMALE</th>\n",
              "      <th>DISP_CHILDREN_U18</th>\n",
              "    </tr>\n",
              "  </thead>\n",
              "  <tbody>\n",
              "    <tr>\n",
              "      <th>0</th>\n",
              "      <td>1</td>\n",
              "      <td>6</td>\n",
              "      <td>Nangarhar</td>\n",
              "      <td>604.0</td>\n",
              "      <td>Khogyani</td>\n",
              "      <td>6</td>\n",
              "      <td>Nangarhar</td>\n",
              "      <td>601</td>\n",
              "      <td>Jalalabad</td>\n",
              "      <td>217</td>\n",
              "      <td>31</td>\n",
              "      <td>42.0</td>\n",
              "      <td>45.0</td>\n",
              "      <td>130.0</td>\n",
              "    </tr>\n",
              "    <tr>\n",
              "      <th>13</th>\n",
              "      <td>1</td>\n",
              "      <td>33</td>\n",
              "      <td>Kandahar</td>\n",
              "      <td>3302.0</td>\n",
              "      <td>Arghandab</td>\n",
              "      <td>33</td>\n",
              "      <td>Kandahar</td>\n",
              "      <td>3301</td>\n",
              "      <td>Kandahar / Dand</td>\n",
              "      <td>2939</td>\n",
              "      <td>400</td>\n",
              "      <td>507.0</td>\n",
              "      <td>539.0</td>\n",
              "      <td>1893.0</td>\n",
              "    </tr>\n",
              "  </tbody>\n",
              "</table>\n",
              "</div>\n",
              "      <button class=\"colab-df-convert\" onclick=\"convertToInteractive('df-a2c2ebca-465d-49ee-aa25-1fdd1bcadcbd')\"\n",
              "              title=\"Convert this dataframe to an interactive table.\"\n",
              "              style=\"display:none;\">\n",
              "        \n",
              "  <svg xmlns=\"http://www.w3.org/2000/svg\" height=\"24px\"viewBox=\"0 0 24 24\"\n",
              "       width=\"24px\">\n",
              "    <path d=\"M0 0h24v24H0V0z\" fill=\"none\"/>\n",
              "    <path d=\"M18.56 5.44l.94 2.06.94-2.06 2.06-.94-2.06-.94-.94-2.06-.94 2.06-2.06.94zm-11 1L8.5 8.5l.94-2.06 2.06-.94-2.06-.94L8.5 2.5l-.94 2.06-2.06.94zm10 10l.94 2.06.94-2.06 2.06-.94-2.06-.94-.94-2.06-.94 2.06-2.06.94z\"/><path d=\"M17.41 7.96l-1.37-1.37c-.4-.4-.92-.59-1.43-.59-.52 0-1.04.2-1.43.59L10.3 9.45l-7.72 7.72c-.78.78-.78 2.05 0 2.83L4 21.41c.39.39.9.59 1.41.59.51 0 1.02-.2 1.41-.59l7.78-7.78 2.81-2.81c.8-.78.8-2.07 0-2.86zM5.41 20L4 18.59l7.72-7.72 1.47 1.35L5.41 20z\"/>\n",
              "  </svg>\n",
              "      </button>\n",
              "      \n",
              "  <style>\n",
              "    .colab-df-container {\n",
              "      display:flex;\n",
              "      flex-wrap:wrap;\n",
              "      gap: 12px;\n",
              "    }\n",
              "\n",
              "    .colab-df-convert {\n",
              "      background-color: #E8F0FE;\n",
              "      border: none;\n",
              "      border-radius: 50%;\n",
              "      cursor: pointer;\n",
              "      display: none;\n",
              "      fill: #1967D2;\n",
              "      height: 32px;\n",
              "      padding: 0 0 0 0;\n",
              "      width: 32px;\n",
              "    }\n",
              "\n",
              "    .colab-df-convert:hover {\n",
              "      background-color: #E2EBFA;\n",
              "      box-shadow: 0px 1px 2px rgba(60, 64, 67, 0.3), 0px 1px 3px 1px rgba(60, 64, 67, 0.15);\n",
              "      fill: #174EA6;\n",
              "    }\n",
              "\n",
              "    [theme=dark] .colab-df-convert {\n",
              "      background-color: #3B4455;\n",
              "      fill: #D2E3FC;\n",
              "    }\n",
              "\n",
              "    [theme=dark] .colab-df-convert:hover {\n",
              "      background-color: #434B5C;\n",
              "      box-shadow: 0px 1px 3px 1px rgba(0, 0, 0, 0.15);\n",
              "      filter: drop-shadow(0px 1px 2px rgba(0, 0, 0, 0.3));\n",
              "      fill: #FFFFFF;\n",
              "    }\n",
              "  </style>\n",
              "\n",
              "      <script>\n",
              "        const buttonEl =\n",
              "          document.querySelector('#df-a2c2ebca-465d-49ee-aa25-1fdd1bcadcbd button.colab-df-convert');\n",
              "        buttonEl.style.display =\n",
              "          google.colab.kernel.accessAllowed ? 'block' : 'none';\n",
              "\n",
              "        async function convertToInteractive(key) {\n",
              "          const element = document.querySelector('#df-a2c2ebca-465d-49ee-aa25-1fdd1bcadcbd');\n",
              "          const dataTable =\n",
              "            await google.colab.kernel.invokeFunction('convertToInteractive',\n",
              "                                                     [key], {});\n",
              "          if (!dataTable) return;\n",
              "\n",
              "          const docLinkHtml = 'Like what you see? Visit the ' +\n",
              "            '<a target=\"_blank\" href=https://colab.research.google.com/notebooks/data_table.ipynb>data table notebook</a>'\n",
              "            + ' to learn more about interactive tables.';\n",
              "          element.innerHTML = '';\n",
              "          dataTable['output_type'] = 'display_data';\n",
              "          await google.colab.output.renderOutput(dataTable, element);\n",
              "          const docLink = document.createElement('div');\n",
              "          docLink.innerHTML = docLinkHtml;\n",
              "          element.appendChild(docLink);\n",
              "        }\n",
              "      </script>\n",
              "    </div>\n",
              "  </div>\n",
              "  "
            ],
            "text/plain": [
              "    DISP_DATE  ORIG_PROV_CODE ORIG_PROV_NAME  ORIG_DIST_CODE ORIG_DIST_NAME  \\\n",
              "0   1          6               Nangarhar      604.0           Khogyani        \n",
              "13  1          33              Kandahar       3302.0          Arghandab       \n",
              "\n",
              "    DISP_PROV_CODE DISP_PROV_NAME  DISP_DIST_CODE   DISP_DIST_NAME  DISP_IND  \\\n",
              "0   6               Nangarhar      601             Jalalabad        217        \n",
              "13  33              Kandahar       3301            Kandahar / Dand  2939       \n",
              "\n",
              "    DISP_FAM  DISP_ADULT_MALE  DISP_ADULT_FEMALE  DISP_CHILDREN_U18  \n",
              "0   31        42.0             45.0               130.0              \n",
              "13  400       507.0            539.0              1893.0             "
            ]
          },
          "metadata": {},
          "execution_count": 17
        }
      ]
    },
    {
      "cell_type": "code",
      "source": [
        "from sklearn.preprocessing import LabelEncoder\n",
        "le = LabelEncoder()"
      ],
      "metadata": {
        "id": "FivCp97FinO_"
      },
      "execution_count": 18,
      "outputs": []
    },
    {
      "cell_type": "code",
      "source": [
        "af_conf_data['ORIG_PROV_NAME'] = le.fit_transform(af_conf_data['ORIG_PROV_NAME'])\n",
        "af_conf_data['ORIG_DIST_NAME'] = le.fit_transform(af_conf_data['ORIG_DIST_NAME'])\n",
        "af_conf_data['DISP_PROV_NAME'] = le.fit_transform(af_conf_data['DISP_PROV_NAME'])\n",
        "af_conf_data['DISP_DIST_NAME'] = le.fit_transform(af_conf_data['DISP_DIST_NAME'])"
      ],
      "metadata": {
        "id": "5JH1CJfdjJ-h"
      },
      "execution_count": 19,
      "outputs": []
    },
    {
      "cell_type": "code",
      "source": [
        "af_conf_data.head()"
      ],
      "metadata": {
        "colab": {
          "base_uri": "https://localhost:8080/",
          "height": 270
        },
        "id": "tEuCfTNdjv0g",
        "outputId": "13003259-a72a-4cc5-cc92-50e107eae737"
      },
      "execution_count": 20,
      "outputs": [
        {
          "output_type": "execute_result",
          "data": {
            "text/html": [
              "\n",
              "  <div id=\"df-ac890afb-b541-429d-a067-412a5b9ccfd0\">\n",
              "    <div class=\"colab-df-container\">\n",
              "      <div>\n",
              "<style scoped>\n",
              "    .dataframe tbody tr th:only-of-type {\n",
              "        vertical-align: middle;\n",
              "    }\n",
              "\n",
              "    .dataframe tbody tr th {\n",
              "        vertical-align: top;\n",
              "    }\n",
              "\n",
              "    .dataframe thead th {\n",
              "        text-align: right;\n",
              "    }\n",
              "</style>\n",
              "<table border=\"1\" class=\"dataframe\">\n",
              "  <thead>\n",
              "    <tr style=\"text-align: right;\">\n",
              "      <th></th>\n",
              "      <th>DISP_DATE</th>\n",
              "      <th>ORIG_PROV_CODE</th>\n",
              "      <th>ORIG_PROV_NAME</th>\n",
              "      <th>ORIG_DIST_CODE</th>\n",
              "      <th>ORIG_DIST_NAME</th>\n",
              "      <th>DISP_PROV_CODE</th>\n",
              "      <th>DISP_PROV_NAME</th>\n",
              "      <th>DISP_DIST_CODE</th>\n",
              "      <th>DISP_DIST_NAME</th>\n",
              "      <th>DISP_IND</th>\n",
              "      <th>DISP_FAM</th>\n",
              "      <th>DISP_ADULT_MALE</th>\n",
              "      <th>DISP_ADULT_FEMALE</th>\n",
              "      <th>DISP_CHILDREN_U18</th>\n",
              "    </tr>\n",
              "  </thead>\n",
              "  <tbody>\n",
              "    <tr>\n",
              "      <th>0</th>\n",
              "      <td>1</td>\n",
              "      <td>6</td>\n",
              "      <td>6</td>\n",
              "      <td>604.0</td>\n",
              "      <td>16</td>\n",
              "      <td>6</td>\n",
              "      <td>4</td>\n",
              "      <td>601</td>\n",
              "      <td>4</td>\n",
              "      <td>217</td>\n",
              "      <td>31</td>\n",
              "      <td>42.0</td>\n",
              "      <td>45.0</td>\n",
              "      <td>130.0</td>\n",
              "    </tr>\n",
              "    <tr>\n",
              "      <th>13</th>\n",
              "      <td>1</td>\n",
              "      <td>33</td>\n",
              "      <td>3</td>\n",
              "      <td>3302.0</td>\n",
              "      <td>1</td>\n",
              "      <td>33</td>\n",
              "      <td>2</td>\n",
              "      <td>3301</td>\n",
              "      <td>5</td>\n",
              "      <td>2939</td>\n",
              "      <td>400</td>\n",
              "      <td>507.0</td>\n",
              "      <td>539.0</td>\n",
              "      <td>1893.0</td>\n",
              "    </tr>\n",
              "    <tr>\n",
              "      <th>14</th>\n",
              "      <td>1</td>\n",
              "      <td>33</td>\n",
              "      <td>3</td>\n",
              "      <td>3308.0</td>\n",
              "      <td>19</td>\n",
              "      <td>33</td>\n",
              "      <td>2</td>\n",
              "      <td>3301</td>\n",
              "      <td>5</td>\n",
              "      <td>74</td>\n",
              "      <td>12</td>\n",
              "      <td>14.0</td>\n",
              "      <td>13.0</td>\n",
              "      <td>47.0</td>\n",
              "    </tr>\n",
              "    <tr>\n",
              "      <th>15</th>\n",
              "      <td>1</td>\n",
              "      <td>33</td>\n",
              "      <td>3</td>\n",
              "      <td>3304.0</td>\n",
              "      <td>25</td>\n",
              "      <td>33</td>\n",
              "      <td>2</td>\n",
              "      <td>3301</td>\n",
              "      <td>5</td>\n",
              "      <td>3222</td>\n",
              "      <td>457</td>\n",
              "      <td>488.0</td>\n",
              "      <td>522.0</td>\n",
              "      <td>2212.0</td>\n",
              "    </tr>\n",
              "    <tr>\n",
              "      <th>16</th>\n",
              "      <td>1</td>\n",
              "      <td>33</td>\n",
              "      <td>3</td>\n",
              "      <td>3303.0</td>\n",
              "      <td>35</td>\n",
              "      <td>33</td>\n",
              "      <td>2</td>\n",
              "      <td>3301</td>\n",
              "      <td>5</td>\n",
              "      <td>1135</td>\n",
              "      <td>157</td>\n",
              "      <td>191.0</td>\n",
              "      <td>182.0</td>\n",
              "      <td>762.0</td>\n",
              "    </tr>\n",
              "  </tbody>\n",
              "</table>\n",
              "</div>\n",
              "      <button class=\"colab-df-convert\" onclick=\"convertToInteractive('df-ac890afb-b541-429d-a067-412a5b9ccfd0')\"\n",
              "              title=\"Convert this dataframe to an interactive table.\"\n",
              "              style=\"display:none;\">\n",
              "        \n",
              "  <svg xmlns=\"http://www.w3.org/2000/svg\" height=\"24px\"viewBox=\"0 0 24 24\"\n",
              "       width=\"24px\">\n",
              "    <path d=\"M0 0h24v24H0V0z\" fill=\"none\"/>\n",
              "    <path d=\"M18.56 5.44l.94 2.06.94-2.06 2.06-.94-2.06-.94-.94-2.06-.94 2.06-2.06.94zm-11 1L8.5 8.5l.94-2.06 2.06-.94-2.06-.94L8.5 2.5l-.94 2.06-2.06.94zm10 10l.94 2.06.94-2.06 2.06-.94-2.06-.94-.94-2.06-.94 2.06-2.06.94z\"/><path d=\"M17.41 7.96l-1.37-1.37c-.4-.4-.92-.59-1.43-.59-.52 0-1.04.2-1.43.59L10.3 9.45l-7.72 7.72c-.78.78-.78 2.05 0 2.83L4 21.41c.39.39.9.59 1.41.59.51 0 1.02-.2 1.41-.59l7.78-7.78 2.81-2.81c.8-.78.8-2.07 0-2.86zM5.41 20L4 18.59l7.72-7.72 1.47 1.35L5.41 20z\"/>\n",
              "  </svg>\n",
              "      </button>\n",
              "      \n",
              "  <style>\n",
              "    .colab-df-container {\n",
              "      display:flex;\n",
              "      flex-wrap:wrap;\n",
              "      gap: 12px;\n",
              "    }\n",
              "\n",
              "    .colab-df-convert {\n",
              "      background-color: #E8F0FE;\n",
              "      border: none;\n",
              "      border-radius: 50%;\n",
              "      cursor: pointer;\n",
              "      display: none;\n",
              "      fill: #1967D2;\n",
              "      height: 32px;\n",
              "      padding: 0 0 0 0;\n",
              "      width: 32px;\n",
              "    }\n",
              "\n",
              "    .colab-df-convert:hover {\n",
              "      background-color: #E2EBFA;\n",
              "      box-shadow: 0px 1px 2px rgba(60, 64, 67, 0.3), 0px 1px 3px 1px rgba(60, 64, 67, 0.15);\n",
              "      fill: #174EA6;\n",
              "    }\n",
              "\n",
              "    [theme=dark] .colab-df-convert {\n",
              "      background-color: #3B4455;\n",
              "      fill: #D2E3FC;\n",
              "    }\n",
              "\n",
              "    [theme=dark] .colab-df-convert:hover {\n",
              "      background-color: #434B5C;\n",
              "      box-shadow: 0px 1px 3px 1px rgba(0, 0, 0, 0.15);\n",
              "      filter: drop-shadow(0px 1px 2px rgba(0, 0, 0, 0.3));\n",
              "      fill: #FFFFFF;\n",
              "    }\n",
              "  </style>\n",
              "\n",
              "      <script>\n",
              "        const buttonEl =\n",
              "          document.querySelector('#df-ac890afb-b541-429d-a067-412a5b9ccfd0 button.colab-df-convert');\n",
              "        buttonEl.style.display =\n",
              "          google.colab.kernel.accessAllowed ? 'block' : 'none';\n",
              "\n",
              "        async function convertToInteractive(key) {\n",
              "          const element = document.querySelector('#df-ac890afb-b541-429d-a067-412a5b9ccfd0');\n",
              "          const dataTable =\n",
              "            await google.colab.kernel.invokeFunction('convertToInteractive',\n",
              "                                                     [key], {});\n",
              "          if (!dataTable) return;\n",
              "\n",
              "          const docLinkHtml = 'Like what you see? Visit the ' +\n",
              "            '<a target=\"_blank\" href=https://colab.research.google.com/notebooks/data_table.ipynb>data table notebook</a>'\n",
              "            + ' to learn more about interactive tables.';\n",
              "          element.innerHTML = '';\n",
              "          dataTable['output_type'] = 'display_data';\n",
              "          await google.colab.output.renderOutput(dataTable, element);\n",
              "          const docLink = document.createElement('div');\n",
              "          docLink.innerHTML = docLinkHtml;\n",
              "          element.appendChild(docLink);\n",
              "        }\n",
              "      </script>\n",
              "    </div>\n",
              "  </div>\n",
              "  "
            ],
            "text/plain": [
              "    DISP_DATE  ORIG_PROV_CODE  ORIG_PROV_NAME  ORIG_DIST_CODE  ORIG_DIST_NAME  \\\n",
              "0   1          6               6               604.0           16               \n",
              "13  1          33              3               3302.0          1                \n",
              "14  1          33              3               3308.0          19               \n",
              "15  1          33              3               3304.0          25               \n",
              "16  1          33              3               3303.0          35               \n",
              "\n",
              "    DISP_PROV_CODE  DISP_PROV_NAME  DISP_DIST_CODE  DISP_DIST_NAME  DISP_IND  \\\n",
              "0   6               4               601             4               217        \n",
              "13  33              2               3301            5               2939       \n",
              "14  33              2               3301            5               74         \n",
              "15  33              2               3301            5               3222       \n",
              "16  33              2               3301            5               1135       \n",
              "\n",
              "    DISP_FAM  DISP_ADULT_MALE  DISP_ADULT_FEMALE  DISP_CHILDREN_U18  \n",
              "0   31        42.0             45.0               130.0              \n",
              "13  400       507.0            539.0              1893.0             \n",
              "14  12        14.0             13.0               47.0               \n",
              "15  457       488.0            522.0              2212.0             \n",
              "16  157       191.0            182.0              762.0              "
            ]
          },
          "metadata": {},
          "execution_count": 20
        }
      ]
    },
    {
      "cell_type": "code",
      "source": [
        "X = af_conf_data.drop(['DISP_DATE','DISP_IND'],axis=1)"
      ],
      "metadata": {
        "id": "Ozml960BjzVZ"
      },
      "execution_count": 21,
      "outputs": []
    },
    {
      "cell_type": "code",
      "source": [
        "y = af_conf_data['DISP_IND']"
      ],
      "metadata": {
        "id": "a8CnWML8kS3i"
      },
      "execution_count": 22,
      "outputs": []
    },
    {
      "cell_type": "code",
      "source": [
        "X.shape"
      ],
      "metadata": {
        "colab": {
          "base_uri": "https://localhost:8080/"
        },
        "id": "9LpujEP9ked4",
        "outputId": "1305245f-da1c-4289-a537-a7e7d4f0e48e"
      },
      "execution_count": 23,
      "outputs": [
        {
          "output_type": "execute_result",
          "data": {
            "text/plain": [
              "(61, 12)"
            ]
          },
          "metadata": {},
          "execution_count": 23
        }
      ]
    },
    {
      "cell_type": "code",
      "source": [
        "y.shape"
      ],
      "metadata": {
        "colab": {
          "base_uri": "https://localhost:8080/"
        },
        "id": "TXTSe3EElm9F",
        "outputId": "9000b7fe-2c7d-4063-9d06-168de8806fd0"
      },
      "execution_count": 26,
      "outputs": [
        {
          "output_type": "execute_result",
          "data": {
            "text/plain": [
              "(61,)"
            ]
          },
          "metadata": {},
          "execution_count": 26
        }
      ]
    },
    {
      "cell_type": "code",
      "source": [
        "from sklearn.linear_model import LogisticRegression\n",
        "from sklearn.model_selection import train_test_split\n",
        "X_train,X_test,y_train,y_test=train_test_split(X,y,test_size=0.20)"
      ],
      "metadata": {
        "id": "UrE_Ywr2kgho"
      },
      "execution_count": 27,
      "outputs": []
    },
    {
      "cell_type": "code",
      "source": [
        "model = LogisticRegression()\n",
        "model.fit(X_train,y_train)"
      ],
      "metadata": {
        "colab": {
          "base_uri": "https://localhost:8080/"
        },
        "id": "DEej_nuklVw7",
        "outputId": "161f8033-d84b-4f29-85ce-53295b9479b4"
      },
      "execution_count": 28,
      "outputs": [
        {
          "output_type": "execute_result",
          "data": {
            "text/plain": [
              "LogisticRegression()"
            ]
          },
          "metadata": {},
          "execution_count": 28
        }
      ]
    },
    {
      "cell_type": "code",
      "source": [
        "y_pred =model.predict(X_test)"
      ],
      "metadata": {
        "id": "eaR72vgGlgmv"
      },
      "execution_count": 29,
      "outputs": []
    },
    {
      "cell_type": "code",
      "source": [
        "print('Training accuracy : ',model.score(X_train,y_train))\n",
        "print('Test Accuracy : ',model.score(X_test,y_test))"
      ],
      "metadata": {
        "colab": {
          "base_uri": "https://localhost:8080/"
        },
        "id": "2EJ5czu6l_M0",
        "outputId": "597282ef-1506-4dce-cfe6-574d562fc94c"
      },
      "execution_count": 31,
      "outputs": [
        {
          "output_type": "stream",
          "name": "stdout",
          "text": [
            "Training accuracy :  0.7083333333333334\n",
            "Test Accuracy :  0.0\n"
          ]
        }
      ]
    },
    {
      "cell_type": "code",
      "source": [
        "from sklearn.linear_model import LinearRegression\n",
        "from sklearn.model_selection import train_test_split\n",
        "X_train,X_test,y_train,y_test=train_test_split(X,y,test_size=0.20)"
      ],
      "metadata": {
        "id": "Af7k_zdNmZ2n"
      },
      "execution_count": 32,
      "outputs": []
    },
    {
      "cell_type": "code",
      "source": [
        "model1 = LinearRegression()\n",
        "model1.fit(X_train,y_train)"
      ],
      "metadata": {
        "colab": {
          "base_uri": "https://localhost:8080/"
        },
        "id": "4rxdgJYUm83U",
        "outputId": "d0239660-9e84-4dc9-eb68-5052afa9e521"
      },
      "execution_count": 33,
      "outputs": [
        {
          "output_type": "execute_result",
          "data": {
            "text/plain": [
              "LinearRegression()"
            ]
          },
          "metadata": {},
          "execution_count": 33
        }
      ]
    },
    {
      "cell_type": "code",
      "source": [
        "y_pred = model1.predict(X_test)"
      ],
      "metadata": {
        "id": "fDu_XxYAnRcD"
      },
      "execution_count": 34,
      "outputs": []
    },
    {
      "cell_type": "code",
      "source": [
        "print('Training accuracy : ',model1.score(X_train,y_train))\n",
        "print('Test Accuracy : ',model1.score(X_test,y_test))"
      ],
      "metadata": {
        "colab": {
          "base_uri": "https://localhost:8080/"
        },
        "id": "PJW_tUkqnZsr",
        "outputId": "55caa2c8-b9a6-476d-838c-609987909679"
      },
      "execution_count": 35,
      "outputs": [
        {
          "output_type": "stream",
          "name": "stdout",
          "text": [
            "Training accuracy :  0.9999548024187094\n",
            "Test Accuracy :  0.9998683267652134\n"
          ]
        }
      ]
    },
    {
      "cell_type": "code",
      "source": [
        "from sklearn.tree import DecisionTreeRegressor\n",
        "from sklearn.model_selection import train_test_split\n",
        "X_train,X_test,y_train,y_test=train_test_split(X,y,test_size=0.20)"
      ],
      "metadata": {
        "id": "Ez-OHlLYnhKZ"
      },
      "execution_count": 36,
      "outputs": []
    },
    {
      "cell_type": "code",
      "source": [
        "model2 = DecisionTreeRegressor(max_depth=7)\n",
        "model2.fit(X_train,y_train)"
      ],
      "metadata": {
        "colab": {
          "base_uri": "https://localhost:8080/"
        },
        "id": "lofh4Y9xnz7-",
        "outputId": "b88851a2-d427-41ed-f9fc-369cc95105f7"
      },
      "execution_count": 37,
      "outputs": [
        {
          "output_type": "execute_result",
          "data": {
            "text/plain": [
              "DecisionTreeRegressor(max_depth=7)"
            ]
          },
          "metadata": {},
          "execution_count": 37
        }
      ]
    },
    {
      "cell_type": "code",
      "source": [
        "y_pred = model2.predict(X_test)"
      ],
      "metadata": {
        "id": "ezFaBz2on_hG"
      },
      "execution_count": 38,
      "outputs": []
    },
    {
      "cell_type": "code",
      "source": [
        "print('Training accuracy : ',model2.score(X_train,y_train))\n",
        "print('Test Accuracy : ',model2.score(X_test,y_test))"
      ],
      "metadata": {
        "colab": {
          "base_uri": "https://localhost:8080/"
        },
        "id": "waNizunboD1g",
        "outputId": "8214a89f-75ce-4385-94b3-4dedc3fa0822"
      },
      "execution_count": 39,
      "outputs": [
        {
          "output_type": "stream",
          "name": "stdout",
          "text": [
            "Training accuracy :  0.9999971638926997\n",
            "Test Accuracy :  0.7337279433661104\n"
          ]
        }
      ]
    },
    {
      "cell_type": "code",
      "source": [
        "from sklearn.ensemble import RandomForestRegressor\n",
        "from sklearn.model_selection import train_test_split\n",
        "X_train,X_test,y_train,y_test=train_test_split(X,y,test_size=0.20)"
      ],
      "metadata": {
        "id": "30JSQXsloHW9"
      },
      "execution_count": 40,
      "outputs": []
    },
    {
      "cell_type": "code",
      "source": [
        "model3 = RandomForestRegressor(n_estimators=100,random_state=123)\n",
        "model3.fit(X_train,y_train)"
      ],
      "metadata": {
        "colab": {
          "base_uri": "https://localhost:8080/"
        },
        "id": "kfDs6yDHoWo_",
        "outputId": "82aaaab7-ac26-4a63-cf86-ac9623a25ade"
      },
      "execution_count": 41,
      "outputs": [
        {
          "output_type": "execute_result",
          "data": {
            "text/plain": [
              "RandomForestRegressor(random_state=123)"
            ]
          },
          "metadata": {},
          "execution_count": 41
        }
      ]
    },
    {
      "cell_type": "code",
      "source": [
        "y_pred = model3.predict(X_test)"
      ],
      "metadata": {
        "id": "BJWhWdbGoi04"
      },
      "execution_count": 42,
      "outputs": []
    },
    {
      "cell_type": "code",
      "source": [
        "print('Training accuracy : ',model3.score(X_train,y_train))\n",
        "print('Test Accuracy : ',model3.score(X_test,y_test))"
      ],
      "metadata": {
        "colab": {
          "base_uri": "https://localhost:8080/"
        },
        "id": "t4fgVn4sol3t",
        "outputId": "7e88f579-b9d4-4b66-c788-67a0195238c4"
      },
      "execution_count": 43,
      "outputs": [
        {
          "output_type": "stream",
          "name": "stdout",
          "text": [
            "Training accuracy :  0.9860873250626079\n",
            "Test Accuracy :  0.9777384187707235\n"
          ]
        }
      ]
    },
    {
      "cell_type": "markdown",
      "source": [
        "# The END"
      ],
      "metadata": {
        "id": "busQEAqDotCh"
      }
    },
    {
      "cell_type": "code",
      "source": [
        ""
      ],
      "metadata": {
        "id": "5NTZkKFtovrV"
      },
      "execution_count": null,
      "outputs": []
    }
  ]
}