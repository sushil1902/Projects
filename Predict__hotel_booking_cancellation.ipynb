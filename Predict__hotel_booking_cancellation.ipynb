{
  "nbformat": 4,
  "nbformat_minor": 0,
  "metadata": {
    "colab": {
      "name": "Predict_ hotel_booking_cancellation.ipynb",
      "provenance": [],
      "collapsed_sections": [],
      "authorship_tag": "ABX9TyPqU6B4KgGASqJWmsuX2+IS",
      "include_colab_link": true
    },
    "kernelspec": {
      "name": "python3",
      "display_name": "Python 3"
    },
    "language_info": {
      "name": "python"
    },
    "accelerator": "GPU"
  },
  "cells": [
    {
      "cell_type": "markdown",
      "metadata": {
        "id": "view-in-github",
        "colab_type": "text"
      },
      "source": [
        "<a href=\"https://colab.research.google.com/github/sushil1902/Projects/blob/Proj/Predict__hotel_booking_cancellation.ipynb\" target=\"_parent\"><img src=\"https://colab.research.google.com/assets/colab-badge.svg\" alt=\"Open In Colab\"/></a>"
      ]
    },
    {
      "cell_type": "markdown",
      "metadata": {
        "id": "_wnNxx2wRdxp"
      },
      "source": [
        "<h1><center> Prediction of hotel booking cancellation </center></h1>"
      ]
    },
    {
      "cell_type": "markdown",
      "metadata": {
        "id": "yyLbsp6rRz0g"
      },
      "source": [
        "# 1. Importing package  and loading of Data"
      ]
    },
    {
      "cell_type": "code",
      "metadata": {
        "id": "kmTOH18uRt-y"
      },
      "source": [
        "# Importing packages\n",
        "import numpy as np\n",
        "import pandas as pd\n",
        "pd.set_option('display.max_columns', None)\n",
        "#------------------------------------------\n",
        "# Importing visualisation packages\n",
        "import matplotlib.pyplot as plt\n",
        "import seaborn as sns\n",
        "#--------------------------------------------\n",
        "# Import preprocessing of packages\n",
        "from sklearn.preprocessing import LabelEncoder,StandardScaler,MinMaxScaler\n",
        "\n",
        "# Import from Model selelection\n",
        "from sklearn.model_selection import train_test_split,cross_val_score,GridSearchCV\n",
        "\n",
        "# Load Linear model\n",
        "from sklearn.linear_model import LogisticRegression, RidgeClassifier, SGDClassifier\n",
        "\n",
        "# Load feature selction\n",
        "from sklearn.feature_selection import SelectFromModel, SelectPercentile\n",
        "\n",
        "# Load metrcis\n",
        "from sklearn.metrics import f1_score, confusion_matrix"
      ],
      "execution_count": 1,
      "outputs": []
    },
    {
      "cell_type": "code",
      "metadata": {
        "id": "Jo2ts-tiTdGJ",
        "colab": {
          "base_uri": "https://localhost:8080/",
          "height": 309
        },
        "outputId": "9cde2488-299b-47f8-e679-62031bd3f00e"
      },
      "source": [
        "data = pd.read_csv(\"https://raw.githubusercontent.com/sushil1902/Datasets/main/hotel_bookings.csv\")\n",
        "data.head()"
      ],
      "execution_count": 2,
      "outputs": [
        {
          "output_type": "execute_result",
          "data": {
            "text/html": [
              "<div>\n",
              "<style scoped>\n",
              "    .dataframe tbody tr th:only-of-type {\n",
              "        vertical-align: middle;\n",
              "    }\n",
              "\n",
              "    .dataframe tbody tr th {\n",
              "        vertical-align: top;\n",
              "    }\n",
              "\n",
              "    .dataframe thead th {\n",
              "        text-align: right;\n",
              "    }\n",
              "</style>\n",
              "<table border=\"1\" class=\"dataframe\">\n",
              "  <thead>\n",
              "    <tr style=\"text-align: right;\">\n",
              "      <th></th>\n",
              "      <th>hotel</th>\n",
              "      <th>is_canceled</th>\n",
              "      <th>lead_time</th>\n",
              "      <th>arrival_date_year</th>\n",
              "      <th>arrival_date_month</th>\n",
              "      <th>arrival_date_week_number</th>\n",
              "      <th>arrival_date_day_of_month</th>\n",
              "      <th>stays_in_weekend_nights</th>\n",
              "      <th>stays_in_week_nights</th>\n",
              "      <th>adults</th>\n",
              "      <th>children</th>\n",
              "      <th>babies</th>\n",
              "      <th>meal</th>\n",
              "      <th>country</th>\n",
              "      <th>market_segment</th>\n",
              "      <th>distribution_channel</th>\n",
              "      <th>is_repeated_guest</th>\n",
              "      <th>previous_cancellations</th>\n",
              "      <th>previous_bookings_not_canceled</th>\n",
              "      <th>reserved_room_type</th>\n",
              "      <th>assigned_room_type</th>\n",
              "      <th>booking_changes</th>\n",
              "      <th>deposit_type</th>\n",
              "      <th>agent</th>\n",
              "      <th>company</th>\n",
              "      <th>days_in_waiting_list</th>\n",
              "      <th>customer_type</th>\n",
              "      <th>adr</th>\n",
              "      <th>required_car_parking_spaces</th>\n",
              "      <th>total_of_special_requests</th>\n",
              "      <th>reservation_status</th>\n",
              "      <th>reservation_status_date</th>\n",
              "    </tr>\n",
              "  </thead>\n",
              "  <tbody>\n",
              "    <tr>\n",
              "      <th>0</th>\n",
              "      <td>Resort Hotel</td>\n",
              "      <td>0</td>\n",
              "      <td>342</td>\n",
              "      <td>2015</td>\n",
              "      <td>July</td>\n",
              "      <td>27</td>\n",
              "      <td>1</td>\n",
              "      <td>0</td>\n",
              "      <td>0</td>\n",
              "      <td>2</td>\n",
              "      <td>0.0</td>\n",
              "      <td>0</td>\n",
              "      <td>BB</td>\n",
              "      <td>PRT</td>\n",
              "      <td>Direct</td>\n",
              "      <td>Direct</td>\n",
              "      <td>0</td>\n",
              "      <td>0</td>\n",
              "      <td>0</td>\n",
              "      <td>C</td>\n",
              "      <td>C</td>\n",
              "      <td>3</td>\n",
              "      <td>No Deposit</td>\n",
              "      <td>NaN</td>\n",
              "      <td>NaN</td>\n",
              "      <td>0</td>\n",
              "      <td>Transient</td>\n",
              "      <td>0.0</td>\n",
              "      <td>0</td>\n",
              "      <td>0</td>\n",
              "      <td>Check-Out</td>\n",
              "      <td>2015-07-01</td>\n",
              "    </tr>\n",
              "    <tr>\n",
              "      <th>1</th>\n",
              "      <td>Resort Hotel</td>\n",
              "      <td>0</td>\n",
              "      <td>737</td>\n",
              "      <td>2015</td>\n",
              "      <td>July</td>\n",
              "      <td>27</td>\n",
              "      <td>1</td>\n",
              "      <td>0</td>\n",
              "      <td>0</td>\n",
              "      <td>2</td>\n",
              "      <td>0.0</td>\n",
              "      <td>0</td>\n",
              "      <td>BB</td>\n",
              "      <td>PRT</td>\n",
              "      <td>Direct</td>\n",
              "      <td>Direct</td>\n",
              "      <td>0</td>\n",
              "      <td>0</td>\n",
              "      <td>0</td>\n",
              "      <td>C</td>\n",
              "      <td>C</td>\n",
              "      <td>4</td>\n",
              "      <td>No Deposit</td>\n",
              "      <td>NaN</td>\n",
              "      <td>NaN</td>\n",
              "      <td>0</td>\n",
              "      <td>Transient</td>\n",
              "      <td>0.0</td>\n",
              "      <td>0</td>\n",
              "      <td>0</td>\n",
              "      <td>Check-Out</td>\n",
              "      <td>2015-07-01</td>\n",
              "    </tr>\n",
              "    <tr>\n",
              "      <th>2</th>\n",
              "      <td>Resort Hotel</td>\n",
              "      <td>0</td>\n",
              "      <td>7</td>\n",
              "      <td>2015</td>\n",
              "      <td>July</td>\n",
              "      <td>27</td>\n",
              "      <td>1</td>\n",
              "      <td>0</td>\n",
              "      <td>1</td>\n",
              "      <td>1</td>\n",
              "      <td>0.0</td>\n",
              "      <td>0</td>\n",
              "      <td>BB</td>\n",
              "      <td>GBR</td>\n",
              "      <td>Direct</td>\n",
              "      <td>Direct</td>\n",
              "      <td>0</td>\n",
              "      <td>0</td>\n",
              "      <td>0</td>\n",
              "      <td>A</td>\n",
              "      <td>C</td>\n",
              "      <td>0</td>\n",
              "      <td>No Deposit</td>\n",
              "      <td>NaN</td>\n",
              "      <td>NaN</td>\n",
              "      <td>0</td>\n",
              "      <td>Transient</td>\n",
              "      <td>75.0</td>\n",
              "      <td>0</td>\n",
              "      <td>0</td>\n",
              "      <td>Check-Out</td>\n",
              "      <td>2015-07-02</td>\n",
              "    </tr>\n",
              "    <tr>\n",
              "      <th>3</th>\n",
              "      <td>Resort Hotel</td>\n",
              "      <td>0</td>\n",
              "      <td>13</td>\n",
              "      <td>2015</td>\n",
              "      <td>July</td>\n",
              "      <td>27</td>\n",
              "      <td>1</td>\n",
              "      <td>0</td>\n",
              "      <td>1</td>\n",
              "      <td>1</td>\n",
              "      <td>0.0</td>\n",
              "      <td>0</td>\n",
              "      <td>BB</td>\n",
              "      <td>GBR</td>\n",
              "      <td>Corporate</td>\n",
              "      <td>Corporate</td>\n",
              "      <td>0</td>\n",
              "      <td>0</td>\n",
              "      <td>0</td>\n",
              "      <td>A</td>\n",
              "      <td>A</td>\n",
              "      <td>0</td>\n",
              "      <td>No Deposit</td>\n",
              "      <td>304.0</td>\n",
              "      <td>NaN</td>\n",
              "      <td>0</td>\n",
              "      <td>Transient</td>\n",
              "      <td>75.0</td>\n",
              "      <td>0</td>\n",
              "      <td>0</td>\n",
              "      <td>Check-Out</td>\n",
              "      <td>2015-07-02</td>\n",
              "    </tr>\n",
              "    <tr>\n",
              "      <th>4</th>\n",
              "      <td>Resort Hotel</td>\n",
              "      <td>0</td>\n",
              "      <td>14</td>\n",
              "      <td>2015</td>\n",
              "      <td>July</td>\n",
              "      <td>27</td>\n",
              "      <td>1</td>\n",
              "      <td>0</td>\n",
              "      <td>2</td>\n",
              "      <td>2</td>\n",
              "      <td>0.0</td>\n",
              "      <td>0</td>\n",
              "      <td>BB</td>\n",
              "      <td>GBR</td>\n",
              "      <td>Online TA</td>\n",
              "      <td>TA/TO</td>\n",
              "      <td>0</td>\n",
              "      <td>0</td>\n",
              "      <td>0</td>\n",
              "      <td>A</td>\n",
              "      <td>A</td>\n",
              "      <td>0</td>\n",
              "      <td>No Deposit</td>\n",
              "      <td>240.0</td>\n",
              "      <td>NaN</td>\n",
              "      <td>0</td>\n",
              "      <td>Transient</td>\n",
              "      <td>98.0</td>\n",
              "      <td>0</td>\n",
              "      <td>1</td>\n",
              "      <td>Check-Out</td>\n",
              "      <td>2015-07-03</td>\n",
              "    </tr>\n",
              "  </tbody>\n",
              "</table>\n",
              "</div>"
            ],
            "text/plain": [
              "          hotel  is_canceled  lead_time  arrival_date_year arrival_date_month  \\\n",
              "0  Resort Hotel            0        342               2015               July   \n",
              "1  Resort Hotel            0        737               2015               July   \n",
              "2  Resort Hotel            0          7               2015               July   \n",
              "3  Resort Hotel            0         13               2015               July   \n",
              "4  Resort Hotel            0         14               2015               July   \n",
              "\n",
              "   arrival_date_week_number  arrival_date_day_of_month  \\\n",
              "0                        27                          1   \n",
              "1                        27                          1   \n",
              "2                        27                          1   \n",
              "3                        27                          1   \n",
              "4                        27                          1   \n",
              "\n",
              "   stays_in_weekend_nights  stays_in_week_nights  adults  children  babies  \\\n",
              "0                        0                     0       2       0.0       0   \n",
              "1                        0                     0       2       0.0       0   \n",
              "2                        0                     1       1       0.0       0   \n",
              "3                        0                     1       1       0.0       0   \n",
              "4                        0                     2       2       0.0       0   \n",
              "\n",
              "  meal country market_segment distribution_channel  is_repeated_guest  \\\n",
              "0   BB     PRT         Direct               Direct                  0   \n",
              "1   BB     PRT         Direct               Direct                  0   \n",
              "2   BB     GBR         Direct               Direct                  0   \n",
              "3   BB     GBR      Corporate            Corporate                  0   \n",
              "4   BB     GBR      Online TA                TA/TO                  0   \n",
              "\n",
              "   previous_cancellations  previous_bookings_not_canceled reserved_room_type  \\\n",
              "0                       0                               0                  C   \n",
              "1                       0                               0                  C   \n",
              "2                       0                               0                  A   \n",
              "3                       0                               0                  A   \n",
              "4                       0                               0                  A   \n",
              "\n",
              "  assigned_room_type  booking_changes deposit_type  agent  company  \\\n",
              "0                  C                3   No Deposit    NaN      NaN   \n",
              "1                  C                4   No Deposit    NaN      NaN   \n",
              "2                  C                0   No Deposit    NaN      NaN   \n",
              "3                  A                0   No Deposit  304.0      NaN   \n",
              "4                  A                0   No Deposit  240.0      NaN   \n",
              "\n",
              "   days_in_waiting_list customer_type   adr  required_car_parking_spaces  \\\n",
              "0                     0     Transient   0.0                            0   \n",
              "1                     0     Transient   0.0                            0   \n",
              "2                     0     Transient  75.0                            0   \n",
              "3                     0     Transient  75.0                            0   \n",
              "4                     0     Transient  98.0                            0   \n",
              "\n",
              "   total_of_special_requests reservation_status reservation_status_date  \n",
              "0                          0          Check-Out              2015-07-01  \n",
              "1                          0          Check-Out              2015-07-01  \n",
              "2                          0          Check-Out              2015-07-02  \n",
              "3                          0          Check-Out              2015-07-02  \n",
              "4                          1          Check-Out              2015-07-03  "
            ]
          },
          "metadata": {},
          "execution_count": 2
        }
      ]
    },
    {
      "cell_type": "code",
      "metadata": {
        "id": "AawhwO4HT2_8",
        "colab": {
          "base_uri": "https://localhost:8080/"
        },
        "outputId": "0f9221eb-b905-44ae-f925-2327bb04c3fc"
      },
      "source": [
        "data.info()"
      ],
      "execution_count": 3,
      "outputs": [
        {
          "output_type": "stream",
          "name": "stdout",
          "text": [
            "<class 'pandas.core.frame.DataFrame'>\n",
            "RangeIndex: 119390 entries, 0 to 119389\n",
            "Data columns (total 32 columns):\n",
            " #   Column                          Non-Null Count   Dtype  \n",
            "---  ------                          --------------   -----  \n",
            " 0   hotel                           119390 non-null  object \n",
            " 1   is_canceled                     119390 non-null  int64  \n",
            " 2   lead_time                       119390 non-null  int64  \n",
            " 3   arrival_date_year               119390 non-null  int64  \n",
            " 4   arrival_date_month              119390 non-null  object \n",
            " 5   arrival_date_week_number        119390 non-null  int64  \n",
            " 6   arrival_date_day_of_month       119390 non-null  int64  \n",
            " 7   stays_in_weekend_nights         119390 non-null  int64  \n",
            " 8   stays_in_week_nights            119390 non-null  int64  \n",
            " 9   adults                          119390 non-null  int64  \n",
            " 10  children                        119386 non-null  float64\n",
            " 11  babies                          119390 non-null  int64  \n",
            " 12  meal                            119390 non-null  object \n",
            " 13  country                         118902 non-null  object \n",
            " 14  market_segment                  119390 non-null  object \n",
            " 15  distribution_channel            119390 non-null  object \n",
            " 16  is_repeated_guest               119390 non-null  int64  \n",
            " 17  previous_cancellations          119390 non-null  int64  \n",
            " 18  previous_bookings_not_canceled  119390 non-null  int64  \n",
            " 19  reserved_room_type              119390 non-null  object \n",
            " 20  assigned_room_type              119390 non-null  object \n",
            " 21  booking_changes                 119390 non-null  int64  \n",
            " 22  deposit_type                    119390 non-null  object \n",
            " 23  agent                           103050 non-null  float64\n",
            " 24  company                         6797 non-null    float64\n",
            " 25  days_in_waiting_list            119390 non-null  int64  \n",
            " 26  customer_type                   119390 non-null  object \n",
            " 27  adr                             119390 non-null  float64\n",
            " 28  required_car_parking_spaces     119390 non-null  int64  \n",
            " 29  total_of_special_requests       119390 non-null  int64  \n",
            " 30  reservation_status              119390 non-null  object \n",
            " 31  reservation_status_date         119390 non-null  object \n",
            "dtypes: float64(4), int64(16), object(12)\n",
            "memory usage: 29.1+ MB\n"
          ]
        }
      ]
    },
    {
      "cell_type": "code",
      "metadata": {
        "colab": {
          "base_uri": "https://localhost:8080/"
        },
        "id": "VJuK0mCdNJaw",
        "outputId": "b61cb203-b7e3-4f8d-cc97-a3ab8fb57ac7"
      },
      "source": [
        "data.dtypes"
      ],
      "execution_count": 4,
      "outputs": [
        {
          "output_type": "execute_result",
          "data": {
            "text/plain": [
              "hotel                              object\n",
              "is_canceled                         int64\n",
              "lead_time                           int64\n",
              "arrival_date_year                   int64\n",
              "arrival_date_month                 object\n",
              "arrival_date_week_number            int64\n",
              "arrival_date_day_of_month           int64\n",
              "stays_in_weekend_nights             int64\n",
              "stays_in_week_nights                int64\n",
              "adults                              int64\n",
              "children                          float64\n",
              "babies                              int64\n",
              "meal                               object\n",
              "country                            object\n",
              "market_segment                     object\n",
              "distribution_channel               object\n",
              "is_repeated_guest                   int64\n",
              "previous_cancellations              int64\n",
              "previous_bookings_not_canceled      int64\n",
              "reserved_room_type                 object\n",
              "assigned_room_type                 object\n",
              "booking_changes                     int64\n",
              "deposit_type                       object\n",
              "agent                             float64\n",
              "company                           float64\n",
              "days_in_waiting_list                int64\n",
              "customer_type                      object\n",
              "adr                               float64\n",
              "required_car_parking_spaces         int64\n",
              "total_of_special_requests           int64\n",
              "reservation_status                 object\n",
              "reservation_status_date            object\n",
              "dtype: object"
            ]
          },
          "metadata": {},
          "execution_count": 4
        }
      ]
    },
    {
      "cell_type": "markdown",
      "metadata": {
        "id": "ratlq0RGM_QG"
      },
      "source": [
        "# Data Type :\n",
        "* Categorical - hotel, is_canceled, customer_type, is_repeated_guest, meal, country, market_segment, distribution_channel, reserved_room_type, assigned_room_type, deposit_type, agent, company, reservation_status,\n",
        "* Numerical - lead_time, stays_in_weekend_nights, stays_in_week_nights, adults, children, babies, previous_cancellations, booking_changes, previous_bookings_not_canceled, days_in_waiting_list, adr, required_car_parking_spaces, total_of_special_requests\n",
        "* Ordinal - arrival_date_year, arrival_date_month, arrival_date_week_number, arrival_date_day_of_month, reservation_status_date\n"
      ]
    },
    {
      "cell_type": "code",
      "metadata": {
        "colab": {
          "base_uri": "https://localhost:8080/"
        },
        "id": "hTHipkbEN2I6",
        "outputId": "4b4c1186-a936-413e-807c-612e7d545406"
      },
      "source": [
        "data.isnull().sum()"
      ],
      "execution_count": 5,
      "outputs": [
        {
          "output_type": "execute_result",
          "data": {
            "text/plain": [
              "hotel                                  0\n",
              "is_canceled                            0\n",
              "lead_time                              0\n",
              "arrival_date_year                      0\n",
              "arrival_date_month                     0\n",
              "arrival_date_week_number               0\n",
              "arrival_date_day_of_month              0\n",
              "stays_in_weekend_nights                0\n",
              "stays_in_week_nights                   0\n",
              "adults                                 0\n",
              "children                               4\n",
              "babies                                 0\n",
              "meal                                   0\n",
              "country                              488\n",
              "market_segment                         0\n",
              "distribution_channel                   0\n",
              "is_repeated_guest                      0\n",
              "previous_cancellations                 0\n",
              "previous_bookings_not_canceled         0\n",
              "reserved_room_type                     0\n",
              "assigned_room_type                     0\n",
              "booking_changes                        0\n",
              "deposit_type                           0\n",
              "agent                              16340\n",
              "company                           112593\n",
              "days_in_waiting_list                   0\n",
              "customer_type                          0\n",
              "adr                                    0\n",
              "required_car_parking_spaces            0\n",
              "total_of_special_requests              0\n",
              "reservation_status                     0\n",
              "reservation_status_date                0\n",
              "dtype: int64"
            ]
          },
          "metadata": {},
          "execution_count": 5
        }
      ]
    },
    {
      "cell_type": "markdown",
      "metadata": {
        "id": "JEmdeMvENlD-"
      },
      "source": [
        "# Missing values\n",
        "\n",
        "1. children -- 4\n",
        "2. country --- 488\n",
        "3. agent ---- 16340\n",
        "4. company --- 112593"
      ]
    },
    {
      "cell_type": "code",
      "metadata": {
        "id": "WdQ_ZPnKUB_q",
        "colab": {
          "base_uri": "https://localhost:8080/",
          "height": 317
        },
        "outputId": "a5f42f75-589e-4df7-8483-1f9bced2c4ff"
      },
      "source": [
        "data.describe()"
      ],
      "execution_count": 6,
      "outputs": [
        {
          "output_type": "execute_result",
          "data": {
            "text/html": [
              "<div>\n",
              "<style scoped>\n",
              "    .dataframe tbody tr th:only-of-type {\n",
              "        vertical-align: middle;\n",
              "    }\n",
              "\n",
              "    .dataframe tbody tr th {\n",
              "        vertical-align: top;\n",
              "    }\n",
              "\n",
              "    .dataframe thead th {\n",
              "        text-align: right;\n",
              "    }\n",
              "</style>\n",
              "<table border=\"1\" class=\"dataframe\">\n",
              "  <thead>\n",
              "    <tr style=\"text-align: right;\">\n",
              "      <th></th>\n",
              "      <th>is_canceled</th>\n",
              "      <th>lead_time</th>\n",
              "      <th>arrival_date_year</th>\n",
              "      <th>arrival_date_week_number</th>\n",
              "      <th>arrival_date_day_of_month</th>\n",
              "      <th>stays_in_weekend_nights</th>\n",
              "      <th>stays_in_week_nights</th>\n",
              "      <th>adults</th>\n",
              "      <th>children</th>\n",
              "      <th>babies</th>\n",
              "      <th>is_repeated_guest</th>\n",
              "      <th>previous_cancellations</th>\n",
              "      <th>previous_bookings_not_canceled</th>\n",
              "      <th>booking_changes</th>\n",
              "      <th>agent</th>\n",
              "      <th>company</th>\n",
              "      <th>days_in_waiting_list</th>\n",
              "      <th>adr</th>\n",
              "      <th>required_car_parking_spaces</th>\n",
              "      <th>total_of_special_requests</th>\n",
              "    </tr>\n",
              "  </thead>\n",
              "  <tbody>\n",
              "    <tr>\n",
              "      <th>count</th>\n",
              "      <td>119390.000000</td>\n",
              "      <td>119390.000000</td>\n",
              "      <td>119390.000000</td>\n",
              "      <td>119390.000000</td>\n",
              "      <td>119390.000000</td>\n",
              "      <td>119390.000000</td>\n",
              "      <td>119390.000000</td>\n",
              "      <td>119390.000000</td>\n",
              "      <td>119386.000000</td>\n",
              "      <td>119390.000000</td>\n",
              "      <td>119390.000000</td>\n",
              "      <td>119390.000000</td>\n",
              "      <td>119390.000000</td>\n",
              "      <td>119390.000000</td>\n",
              "      <td>103050.000000</td>\n",
              "      <td>6797.000000</td>\n",
              "      <td>119390.000000</td>\n",
              "      <td>119390.000000</td>\n",
              "      <td>119390.000000</td>\n",
              "      <td>119390.000000</td>\n",
              "    </tr>\n",
              "    <tr>\n",
              "      <th>mean</th>\n",
              "      <td>0.370416</td>\n",
              "      <td>104.011416</td>\n",
              "      <td>2016.156554</td>\n",
              "      <td>27.165173</td>\n",
              "      <td>15.798241</td>\n",
              "      <td>0.927599</td>\n",
              "      <td>2.500302</td>\n",
              "      <td>1.856403</td>\n",
              "      <td>0.103890</td>\n",
              "      <td>0.007949</td>\n",
              "      <td>0.031912</td>\n",
              "      <td>0.087118</td>\n",
              "      <td>0.137097</td>\n",
              "      <td>0.221124</td>\n",
              "      <td>86.693382</td>\n",
              "      <td>189.266735</td>\n",
              "      <td>2.321149</td>\n",
              "      <td>101.831122</td>\n",
              "      <td>0.062518</td>\n",
              "      <td>0.571363</td>\n",
              "    </tr>\n",
              "    <tr>\n",
              "      <th>std</th>\n",
              "      <td>0.482918</td>\n",
              "      <td>106.863097</td>\n",
              "      <td>0.707476</td>\n",
              "      <td>13.605138</td>\n",
              "      <td>8.780829</td>\n",
              "      <td>0.998613</td>\n",
              "      <td>1.908286</td>\n",
              "      <td>0.579261</td>\n",
              "      <td>0.398561</td>\n",
              "      <td>0.097436</td>\n",
              "      <td>0.175767</td>\n",
              "      <td>0.844336</td>\n",
              "      <td>1.497437</td>\n",
              "      <td>0.652306</td>\n",
              "      <td>110.774548</td>\n",
              "      <td>131.655015</td>\n",
              "      <td>17.594721</td>\n",
              "      <td>50.535790</td>\n",
              "      <td>0.245291</td>\n",
              "      <td>0.792798</td>\n",
              "    </tr>\n",
              "    <tr>\n",
              "      <th>min</th>\n",
              "      <td>0.000000</td>\n",
              "      <td>0.000000</td>\n",
              "      <td>2015.000000</td>\n",
              "      <td>1.000000</td>\n",
              "      <td>1.000000</td>\n",
              "      <td>0.000000</td>\n",
              "      <td>0.000000</td>\n",
              "      <td>0.000000</td>\n",
              "      <td>0.000000</td>\n",
              "      <td>0.000000</td>\n",
              "      <td>0.000000</td>\n",
              "      <td>0.000000</td>\n",
              "      <td>0.000000</td>\n",
              "      <td>0.000000</td>\n",
              "      <td>1.000000</td>\n",
              "      <td>6.000000</td>\n",
              "      <td>0.000000</td>\n",
              "      <td>-6.380000</td>\n",
              "      <td>0.000000</td>\n",
              "      <td>0.000000</td>\n",
              "    </tr>\n",
              "    <tr>\n",
              "      <th>25%</th>\n",
              "      <td>0.000000</td>\n",
              "      <td>18.000000</td>\n",
              "      <td>2016.000000</td>\n",
              "      <td>16.000000</td>\n",
              "      <td>8.000000</td>\n",
              "      <td>0.000000</td>\n",
              "      <td>1.000000</td>\n",
              "      <td>2.000000</td>\n",
              "      <td>0.000000</td>\n",
              "      <td>0.000000</td>\n",
              "      <td>0.000000</td>\n",
              "      <td>0.000000</td>\n",
              "      <td>0.000000</td>\n",
              "      <td>0.000000</td>\n",
              "      <td>9.000000</td>\n",
              "      <td>62.000000</td>\n",
              "      <td>0.000000</td>\n",
              "      <td>69.290000</td>\n",
              "      <td>0.000000</td>\n",
              "      <td>0.000000</td>\n",
              "    </tr>\n",
              "    <tr>\n",
              "      <th>50%</th>\n",
              "      <td>0.000000</td>\n",
              "      <td>69.000000</td>\n",
              "      <td>2016.000000</td>\n",
              "      <td>28.000000</td>\n",
              "      <td>16.000000</td>\n",
              "      <td>1.000000</td>\n",
              "      <td>2.000000</td>\n",
              "      <td>2.000000</td>\n",
              "      <td>0.000000</td>\n",
              "      <td>0.000000</td>\n",
              "      <td>0.000000</td>\n",
              "      <td>0.000000</td>\n",
              "      <td>0.000000</td>\n",
              "      <td>0.000000</td>\n",
              "      <td>14.000000</td>\n",
              "      <td>179.000000</td>\n",
              "      <td>0.000000</td>\n",
              "      <td>94.575000</td>\n",
              "      <td>0.000000</td>\n",
              "      <td>0.000000</td>\n",
              "    </tr>\n",
              "    <tr>\n",
              "      <th>75%</th>\n",
              "      <td>1.000000</td>\n",
              "      <td>160.000000</td>\n",
              "      <td>2017.000000</td>\n",
              "      <td>38.000000</td>\n",
              "      <td>23.000000</td>\n",
              "      <td>2.000000</td>\n",
              "      <td>3.000000</td>\n",
              "      <td>2.000000</td>\n",
              "      <td>0.000000</td>\n",
              "      <td>0.000000</td>\n",
              "      <td>0.000000</td>\n",
              "      <td>0.000000</td>\n",
              "      <td>0.000000</td>\n",
              "      <td>0.000000</td>\n",
              "      <td>229.000000</td>\n",
              "      <td>270.000000</td>\n",
              "      <td>0.000000</td>\n",
              "      <td>126.000000</td>\n",
              "      <td>0.000000</td>\n",
              "      <td>1.000000</td>\n",
              "    </tr>\n",
              "    <tr>\n",
              "      <th>max</th>\n",
              "      <td>1.000000</td>\n",
              "      <td>737.000000</td>\n",
              "      <td>2017.000000</td>\n",
              "      <td>53.000000</td>\n",
              "      <td>31.000000</td>\n",
              "      <td>19.000000</td>\n",
              "      <td>50.000000</td>\n",
              "      <td>55.000000</td>\n",
              "      <td>10.000000</td>\n",
              "      <td>10.000000</td>\n",
              "      <td>1.000000</td>\n",
              "      <td>26.000000</td>\n",
              "      <td>72.000000</td>\n",
              "      <td>21.000000</td>\n",
              "      <td>535.000000</td>\n",
              "      <td>543.000000</td>\n",
              "      <td>391.000000</td>\n",
              "      <td>5400.000000</td>\n",
              "      <td>8.000000</td>\n",
              "      <td>5.000000</td>\n",
              "    </tr>\n",
              "  </tbody>\n",
              "</table>\n",
              "</div>"
            ],
            "text/plain": [
              "         is_canceled      lead_time  arrival_date_year  \\\n",
              "count  119390.000000  119390.000000      119390.000000   \n",
              "mean        0.370416     104.011416        2016.156554   \n",
              "std         0.482918     106.863097           0.707476   \n",
              "min         0.000000       0.000000        2015.000000   \n",
              "25%         0.000000      18.000000        2016.000000   \n",
              "50%         0.000000      69.000000        2016.000000   \n",
              "75%         1.000000     160.000000        2017.000000   \n",
              "max         1.000000     737.000000        2017.000000   \n",
              "\n",
              "       arrival_date_week_number  arrival_date_day_of_month  \\\n",
              "count             119390.000000              119390.000000   \n",
              "mean                  27.165173                  15.798241   \n",
              "std                   13.605138                   8.780829   \n",
              "min                    1.000000                   1.000000   \n",
              "25%                   16.000000                   8.000000   \n",
              "50%                   28.000000                  16.000000   \n",
              "75%                   38.000000                  23.000000   \n",
              "max                   53.000000                  31.000000   \n",
              "\n",
              "       stays_in_weekend_nights  stays_in_week_nights         adults  \\\n",
              "count            119390.000000         119390.000000  119390.000000   \n",
              "mean                  0.927599              2.500302       1.856403   \n",
              "std                   0.998613              1.908286       0.579261   \n",
              "min                   0.000000              0.000000       0.000000   \n",
              "25%                   0.000000              1.000000       2.000000   \n",
              "50%                   1.000000              2.000000       2.000000   \n",
              "75%                   2.000000              3.000000       2.000000   \n",
              "max                  19.000000             50.000000      55.000000   \n",
              "\n",
              "            children         babies  is_repeated_guest  \\\n",
              "count  119386.000000  119390.000000      119390.000000   \n",
              "mean        0.103890       0.007949           0.031912   \n",
              "std         0.398561       0.097436           0.175767   \n",
              "min         0.000000       0.000000           0.000000   \n",
              "25%         0.000000       0.000000           0.000000   \n",
              "50%         0.000000       0.000000           0.000000   \n",
              "75%         0.000000       0.000000           0.000000   \n",
              "max        10.000000      10.000000           1.000000   \n",
              "\n",
              "       previous_cancellations  previous_bookings_not_canceled  \\\n",
              "count           119390.000000                   119390.000000   \n",
              "mean                 0.087118                        0.137097   \n",
              "std                  0.844336                        1.497437   \n",
              "min                  0.000000                        0.000000   \n",
              "25%                  0.000000                        0.000000   \n",
              "50%                  0.000000                        0.000000   \n",
              "75%                  0.000000                        0.000000   \n",
              "max                 26.000000                       72.000000   \n",
              "\n",
              "       booking_changes          agent      company  days_in_waiting_list  \\\n",
              "count    119390.000000  103050.000000  6797.000000         119390.000000   \n",
              "mean          0.221124      86.693382   189.266735              2.321149   \n",
              "std           0.652306     110.774548   131.655015             17.594721   \n",
              "min           0.000000       1.000000     6.000000              0.000000   \n",
              "25%           0.000000       9.000000    62.000000              0.000000   \n",
              "50%           0.000000      14.000000   179.000000              0.000000   \n",
              "75%           0.000000     229.000000   270.000000              0.000000   \n",
              "max          21.000000     535.000000   543.000000            391.000000   \n",
              "\n",
              "                 adr  required_car_parking_spaces  total_of_special_requests  \n",
              "count  119390.000000                119390.000000              119390.000000  \n",
              "mean      101.831122                     0.062518                   0.571363  \n",
              "std        50.535790                     0.245291                   0.792798  \n",
              "min        -6.380000                     0.000000                   0.000000  \n",
              "25%        69.290000                     0.000000                   0.000000  \n",
              "50%        94.575000                     0.000000                   0.000000  \n",
              "75%       126.000000                     0.000000                   1.000000  \n",
              "max      5400.000000                     8.000000                   5.000000  "
            ]
          },
          "metadata": {},
          "execution_count": 6
        }
      ]
    },
    {
      "cell_type": "markdown",
      "metadata": {
        "id": "GngsEo4YRCsC"
      },
      "source": [
        "* The following columns **previous_cancellations**, **previous_bookings_not_canceled**, **booking_changes days_in_waiting_list**, **required_car_parking_spaces**, t**otal_of_special_requests **have only a **maximum value**. This shows that these **features contribute **to the decision of cancellation only in very few cases."
      ]
    },
    {
      "cell_type": "markdown",
      "metadata": {
        "id": "0TDHkb5oRhTD"
      },
      "source": [
        "# Asumption towards contribution of feature\n",
        "* **Target Variable**  : is_canceled\n",
        "* **High contributors** : hotel, lead_time, arrival_date_year, arrival_date_month, stays_in_weekend_nights, stays_in_week_nights, is_repeated_guest, previous_cancellations, previous_bookings_not_canceled, reserved_room_type, assigned_room_type, deposit_type, days_in_waiting_list, customer_type\n",
        "\n",
        "* **Medium contributors**: children, babies, distribution_channel, booking_changes, adr\n",
        "\n",
        "* **Low contributors**: arrival_date_week_number, arrival_date_day_of_month,country, meal, adults, market_segment, agent, company, required_car_parking_spaces, total_of_special_requests, reservation_status, reservation_status_date"
      ]
    },
    {
      "cell_type": "code",
      "metadata": {
        "colab": {
          "base_uri": "https://localhost:8080/"
        },
        "id": "bTY7PP1HOp7O",
        "outputId": "6b44f8c2-0a49-43c7-c253-bce96b842c3f"
      },
      "source": [
        "data.columns"
      ],
      "execution_count": 7,
      "outputs": [
        {
          "output_type": "execute_result",
          "data": {
            "text/plain": [
              "Index(['hotel', 'is_canceled', 'lead_time', 'arrival_date_year',\n",
              "       'arrival_date_month', 'arrival_date_week_number',\n",
              "       'arrival_date_day_of_month', 'stays_in_weekend_nights',\n",
              "       'stays_in_week_nights', 'adults', 'children', 'babies', 'meal',\n",
              "       'country', 'market_segment', 'distribution_channel',\n",
              "       'is_repeated_guest', 'previous_cancellations',\n",
              "       'previous_bookings_not_canceled', 'reserved_room_type',\n",
              "       'assigned_room_type', 'booking_changes', 'deposit_type', 'agent',\n",
              "       'company', 'days_in_waiting_list', 'customer_type', 'adr',\n",
              "       'required_car_parking_spaces', 'total_of_special_requests',\n",
              "       'reservation_status', 'reservation_status_date'],\n",
              "      dtype='object')"
            ]
          },
          "metadata": {},
          "execution_count": 7
        }
      ]
    },
    {
      "cell_type": "markdown",
      "metadata": {
        "id": "EVvAOLsmTTqG"
      },
      "source": [
        "# **Assumption about cancellation**\n",
        "\n",
        "1. **Hotel type** : City hotel has higher cancellation than resort hotel . City hotels uses- regular customer but resort hotel uses for family vacation.\n",
        "2. The earlier the booking made, higher the chances of cancellation.\n",
        "3. Customers who have bookings for longer durations have lesser chance of cancelling their booking.\n",
        "4. As more children or babies are involved in the booking, higher chances of cancellation.\n",
        "5. Old guest (is_repeated_guest=1) is less likely to cancel current booking.\n",
        "6. If there are high previous cancellations, possibility of cancellation of current booking is also high.\n",
        "7. If room assigned is not the same as reserved room type, customer might positively cancel the booking.\n",
        "8. Higher the number of changes made to the booking, lesser is the chance of cancellation due to the investment of time in curating the booking as per one's requirement.\n",
        "9. Bookings that are refundable or for which deposits were not made at the time of booking stand a high chance of cancelation.\n",
        "10. If the number of days in waiting list is significant, customer might make some other booking due to uncertainty of confirmation of current booking.\n"
      ]
    },
    {
      "cell_type": "markdown",
      "metadata": {
        "id": "GdizpSlzVUWb"
      },
      "source": [
        "# EDA\n"
      ]
    },
    {
      "cell_type": "markdown",
      "metadata": {
        "id": "HlRtsKyrVr5s"
      },
      "source": [
        "# 1. Checking the % of cancellation\n",
        "\n",
        "            len(is_canceled ==yes)/len(data)*100"
      ]
    },
    {
      "cell_type": "code",
      "metadata": {
        "colab": {
          "base_uri": "https://localhost:8080/"
        },
        "id": "hchV0OF9TSnN",
        "outputId": "e018bd6f-3475-41b0-ec40-57f4b3b06c80"
      },
      "source": [
        "print(\"% of cancellation = \", len(data[data['is_canceled']==1])/len(data))\n",
        "data['reservation_status'].value_counts()"
      ],
      "execution_count": 8,
      "outputs": [
        {
          "output_type": "stream",
          "name": "stdout",
          "text": [
            "% of cancellation =  0.37041628277075134\n"
          ]
        },
        {
          "output_type": "execute_result",
          "data": {
            "text/plain": [
              "Check-Out    75166\n",
              "Canceled     43017\n",
              "No-Show       1207\n",
              "Name: reservation_status, dtype: int64"
            ]
          },
          "metadata": {},
          "execution_count": 8
        }
      ]
    },
    {
      "cell_type": "code",
      "metadata": {
        "colab": {
          "base_uri": "https://localhost:8080/"
        },
        "id": "F7cpAyuVSOtJ",
        "outputId": "ac905cc0-ecf8-414f-d284-346063d1bc9c"
      },
      "source": [
        "data['reservation_status'].unique()"
      ],
      "execution_count": 9,
      "outputs": [
        {
          "output_type": "execute_result",
          "data": {
            "text/plain": [
              "array(['Check-Out', 'Canceled', 'No-Show'], dtype=object)"
            ]
          },
          "metadata": {},
          "execution_count": 9
        }
      ]
    },
    {
      "cell_type": "markdown",
      "metadata": {
        "id": "G5hMwwNbgOo3"
      },
      "source": [
        "# 2. Check the correalation among features"
      ]
    },
    {
      "cell_type": "code",
      "metadata": {
        "colab": {
          "base_uri": "https://localhost:8080/"
        },
        "id": "dRhJ3MgyZ_f_",
        "outputId": "a5ddb0b8-5582-4ba2-c369-8a8ede51bc21"
      },
      "source": [
        "corr = data.corr(method='pearson')['is_canceled']\n",
        "print(corr)"
      ],
      "execution_count": 10,
      "outputs": [
        {
          "output_type": "stream",
          "name": "stdout",
          "text": [
            "is_canceled                       1.000000\n",
            "lead_time                         0.293123\n",
            "arrival_date_year                 0.016660\n",
            "arrival_date_week_number          0.008148\n",
            "arrival_date_day_of_month        -0.006130\n",
            "stays_in_weekend_nights          -0.001791\n",
            "stays_in_week_nights              0.024765\n",
            "adults                            0.060017\n",
            "children                          0.005048\n",
            "babies                           -0.032491\n",
            "is_repeated_guest                -0.084793\n",
            "previous_cancellations            0.110133\n",
            "previous_bookings_not_canceled   -0.057358\n",
            "booking_changes                  -0.144381\n",
            "agent                            -0.083114\n",
            "company                          -0.020642\n",
            "days_in_waiting_list              0.054186\n",
            "adr                               0.047557\n",
            "required_car_parking_spaces      -0.195498\n",
            "total_of_special_requests        -0.234658\n",
            "Name: is_canceled, dtype: float64\n"
          ]
        }
      ]
    },
    {
      "cell_type": "markdown",
      "metadata": {
        "id": "yHD8qM1xkYmv"
      },
      "source": [
        "* **Highest +ve correlation** : lead_time | previous_cancellations\n",
        "* **Highest -ve correlation** : booking_changes  | required_car_parking_spaces | total_of_special_requests"
      ]
    },
    {
      "cell_type": "code",
      "metadata": {
        "colab": {
          "base_uri": "https://localhost:8080/",
          "height": 313
        },
        "id": "CG0fnepEmbWD",
        "outputId": "a9d9d87b-37ac-4e98-f132-f5c8aacd99b6"
      },
      "source": [
        "# countplot of cancellation of diffierent types of hotel\n",
        "sns.countplot(data= data,x='hotel',hue='is_canceled')\n",
        "\n",
        "# Number of hotel cancelled in diffierent types of hote\n",
        "resort_canceled =  data[(data['hotel']=='Resort Hotel') & (data['is_canceled']==1)]\n",
        "city_canceled = data[(data['hotel']=='City Hotel') & (data['is_canceled']==1)]\n",
        "\n",
        "# % of cancellation in each type of hotel\n",
        "print('Cancellation in Resort Hotel = ', (len(resort_canceled))/ (len(data[data['hotel']=='Resort Hotel'])))\n",
        "print('Cancellation in City Hotel = ', (len(city_canceled))/ (len(data[data['hotel']=='City Hotel'])))"
      ],
      "execution_count": 11,
      "outputs": [
        {
          "output_type": "stream",
          "name": "stdout",
          "text": [
            "Cancellation in Resort Hotel =  0.27763354967548676\n",
            "Cancellation in City Hotel =  0.41726963317786464\n"
          ]
        },
        {
          "output_type": "display_data",
          "data": {
            "image/png": "[encoded data removed]",
            "text/plain": [
              "<Figure size 432x288 with 1 Axes>"
            ]
          },
          "metadata": {
            "needs_background": "light"
          }
        }
      ]
    },
    {
      "cell_type": "markdown",
      "metadata": {
        "id": "nxoLeFX_r7-V"
      },
      "source": [
        "* **Observation** : City hotel has 41.72% cancellation and Resort hotel has 27.76 %"
      ]
    },
    {
      "cell_type": "markdown",
      "metadata": {
        "id": "O10F0MVYsdea"
      },
      "source": [
        "# Cancellation of hotel using lead_time"
      ]
    },
    {
      "cell_type": "code",
      "metadata": {
        "colab": {
          "base_uri": "https://localhost:8080/",
          "height": 242
        },
        "id": "uOOEYeuwnig-",
        "outputId": "b4609bae-0e71-47ef-cf11-970d2c6042fd"
      },
      "source": [
        "grid = sns.FacetGrid(data, col='is_canceled')\n",
        "grid.map(plt.hist, 'lead_time', width=50)\n",
        "grid.add_legend()"
      ],
      "execution_count": 12,
      "outputs": [
        {
          "output_type": "execute_result",
          "data": {
            "text/plain": [
              "<seaborn.axisgrid.FacetGrid at 0x7f47f11890d0>"
            ]
          },
          "metadata": {},
          "execution_count": 12
        },
        {
          "output_type": "display_data",
          "data": {
            "image/png": "[encoded data removed]",
            "text/plain": [
              "<Figure size 440x216 with 2 Axes>"
            ]
          },
          "metadata": {
            "needs_background": "light"
          }
        }
      ]
    },
    {
      "cell_type": "markdown",
      "metadata": {
        "id": "YBl-9ZlgvVZS"
      },
      "source": [
        "* **Observations** : Maximum cancelations occur if the booking is made 60-70 days before the checkin date. Longer the lead_time, lower is the cancelation. "
      ]
    },
    {
      "cell_type": "code",
      "metadata": {
        "colab": {
          "base_uri": "https://localhost:8080/"
        },
        "id": "VJKSbNWxthUN",
        "outputId": "10c8d641-6081-4c0a-fb0d-1cbc27d083eb"
      },
      "source": [
        "print(len(data[(data['stays_in_weekend_nights']==0) & (data['stays_in_week_nights']==0)])) "
      ],
      "execution_count": 13,
      "outputs": [
        {
          "output_type": "stream",
          "name": "stdout",
          "text": [
            "715\n"
          ]
        }
      ]
    },
    {
      "cell_type": "markdown",
      "metadata": {
        "id": "uTl4Fa5fwUwp"
      },
      "source": [
        "* **Observations** : 715 bookings don't have both weekday or weekend nights which could be ar error in the data as this is not possible in real life scenario. Therefore these rows can be eliminated from the dataset."
      ]
    },
    {
      "cell_type": "markdown",
      "metadata": {
        "id": "oT-bT5Ga2t-3"
      },
      "source": [
        "# **Assumption 4** : As more children or babies are involved in the booking, higher chances of cancellation."
      ]
    },
    {
      "cell_type": "markdown",
      "metadata": {
        "id": "-8XjUd9kwqDJ"
      },
      "source": [
        "# Total number of booking having children or babies"
      ]
    },
    {
      "cell_type": "code",
      "metadata": {
        "colab": {
          "base_uri": "https://localhost:8080/"
        },
        "id": "aGkPQaYKyKy9",
        "outputId": "9989af0f-d89d-4d17-e00c-b2fbeb4b00f6"
      },
      "source": [
        "print('Number of children or babies present in data set',len(data.loc[(data['children']!=0) |(data['babies']!=0)]))\n",
        "print('Length of dataset',len(data))"
      ],
      "execution_count": 14,
      "outputs": [
        {
          "output_type": "stream",
          "name": "stdout",
          "text": [
            "Number of children or babies present in data set 9336\n",
            "Length of dataset 119390\n"
          ]
        }
      ]
    },
    {
      "cell_type": "code",
      "metadata": {
        "colab": {
          "base_uri": "https://localhost:8080/"
        },
        "id": "oDe9Uyk7v5Yd",
        "outputId": "897d0b5b-7aca-4d2c-ef50-8d657c8427a8"
      },
      "source": [
        "((len(data.loc[(data['children']!=0) | (data['babies']!=0)]))/(len(data))) * 100"
      ],
      "execution_count": 15,
      "outputs": [
        {
          "output_type": "execute_result",
          "data": {
            "text/plain": [
              "7.819750397855767"
            ]
          },
          "metadata": {},
          "execution_count": 15
        }
      ]
    },
    {
      "cell_type": "markdown",
      "metadata": {
        "id": "3zZve3wF1JMt"
      },
      "source": [
        "**Observation** : \n",
        "1. The customers haveing child or babies is only 8 % which  will play significant role.\n",
        "2. Assumption 4 can be discarded.\n"
      ]
    },
    {
      "cell_type": "markdown",
      "metadata": {
        "id": "c1CbKEOX2Kbm"
      },
      "source": [
        "# **Assumption 5** : Old guest (is_repeated_guest=1) is less likely to cancel current booking."
      ]
    },
    {
      "cell_type": "code",
      "metadata": {
        "colab": {
          "base_uri": "https://localhost:8080/"
        },
        "id": "Aj4Q9LYOyJwk",
        "outputId": "7521152b-0c15-49be-b012-a5b7dfb1488c"
      },
      "source": [
        "data['is_repeated_guest'].dtypes"
      ],
      "execution_count": 16,
      "outputs": [
        {
          "output_type": "execute_result",
          "data": {
            "text/plain": [
              "dtype('int64')"
            ]
          },
          "metadata": {},
          "execution_count": 16
        }
      ]
    },
    {
      "cell_type": "code",
      "metadata": {
        "colab": {
          "base_uri": "https://localhost:8080/"
        },
        "id": "qD5k_fFGw3NM",
        "outputId": "f504755d-be45-459c-f880-7f0e3e9bd0c2"
      },
      "source": [
        "data['is_repeated_guest'].unique()"
      ],
      "execution_count": 17,
      "outputs": [
        {
          "output_type": "execute_result",
          "data": {
            "text/plain": [
              "array([0, 1])"
            ]
          },
          "metadata": {},
          "execution_count": 17
        }
      ]
    },
    {
      "cell_type": "code",
      "metadata": {
        "colab": {
          "base_uri": "https://localhost:8080/"
        },
        "id": "hCWJ1JHc2gD_",
        "outputId": "53740318-8eed-4ae3-bd76-720d9115febb"
      },
      "source": [
        "# number of new guest\n",
        "new_guest = data[(data['is_repeated_guest']==0) & (data['is_canceled']==1)]\n",
        "print(\"Total Number of new guest : \",len(new_guest))\n",
        "# number of old guest\n",
        "old_guest =data[(data['is_repeated_guest']==1) & (data['is_canceled']==1)]\n",
        "print(\"Total Number of old guest : \",len(old_guest))\n",
        "\n",
        "# % of cancellation of from new guest and old guest\n",
        "print('Cancellation % from new guest : ',(len(new_guest))/(len(data[data['is_repeated_guest']==0])))\n",
        "print('Cancellation % from old guest : ',(len(old_guest))/(len(data[data['is_repeated_guest']==1])))"
      ],
      "execution_count": 18,
      "outputs": [
        {
          "output_type": "stream",
          "name": "stdout",
          "text": [
            "Total Number of new guest :  43672\n",
            "Total Number of old guest :  552\n",
            "Cancellation % from new guest :  0.3778508392455442\n",
            "Cancellation % from old guest :  0.14488188976377953\n"
          ]
        }
      ]
    },
    {
      "cell_type": "code",
      "metadata": {
        "colab": {
          "base_uri": "https://localhost:8080/",
          "height": 297
        },
        "id": "FtR53P6B7JH9",
        "outputId": "91db7f7f-b870-4355-e392-e14e36acba1c"
      },
      "source": [
        "sns.countplot(data=data,x='is_repeated_guest', hue = 'is_canceled')"
      ],
      "execution_count": 19,
      "outputs": [
        {
          "output_type": "execute_result",
          "data": {
            "text/plain": [
              "<matplotlib.axes._subplots.AxesSubplot at 0x7f47e6bf36d0>"
            ]
          },
          "metadata": {},
          "execution_count": 19
        },
        {
          "output_type": "display_data",
          "data": {
            "image/png": "[encoded data removed]",
            "text/plain": [
              "<Figure size 432x288 with 1 Axes>"
            ]
          },
          "metadata": {
            "needs_background": "light"
          }
        }
      ]
    },
    {
      "cell_type": "markdown",
      "metadata": {
        "id": "0b1GvjVmHVph"
      },
      "source": [
        "Observations : \n",
        "1. Maximum guests are new costomer and which have maximum cancellation. Cancellation from new guest is 37.78 %\n",
        "2. Cancellation from old guest is 14.48 % .\n",
        "3. Hence, old customer is loyal and have less cancellation and our assumption is right and hold valid. "
      ]
    },
    {
      "cell_type": "markdown",
      "metadata": {
        "id": "-eLVbh4LJaLF"
      },
      "source": [
        "# **Asumption 6** : If there are high previous cancellations, possibility of cancellation of current booking is also high."
      ]
    },
    {
      "cell_type": "code",
      "metadata": {
        "colab": {
          "base_uri": "https://localhost:8080/"
        },
        "id": "g_8AFGe793zy",
        "outputId": "024b56b0-f46e-46ff-f1b3-5d99a5e7b5d8"
      },
      "source": [
        "data.columns"
      ],
      "execution_count": 20,
      "outputs": [
        {
          "output_type": "execute_result",
          "data": {
            "text/plain": [
              "Index(['hotel', 'is_canceled', 'lead_time', 'arrival_date_year',\n",
              "       'arrival_date_month', 'arrival_date_week_number',\n",
              "       'arrival_date_day_of_month', 'stays_in_weekend_nights',\n",
              "       'stays_in_week_nights', 'adults', 'children', 'babies', 'meal',\n",
              "       'country', 'market_segment', 'distribution_channel',\n",
              "       'is_repeated_guest', 'previous_cancellations',\n",
              "       'previous_bookings_not_canceled', 'reserved_room_type',\n",
              "       'assigned_room_type', 'booking_changes', 'deposit_type', 'agent',\n",
              "       'company', 'days_in_waiting_list', 'customer_type', 'adr',\n",
              "       'required_car_parking_spaces', 'total_of_special_requests',\n",
              "       'reservation_status', 'reservation_status_date'],\n",
              "      dtype='object')"
            ]
          },
          "metadata": {},
          "execution_count": 20
        }
      ]
    },
    {
      "cell_type": "code",
      "metadata": {
        "colab": {
          "base_uri": "https://localhost:8080/"
        },
        "id": "oefGjCP9J4Ol",
        "outputId": "b9b1fc2a-0c4a-44eb-a360-604c41109bf3"
      },
      "source": [
        "data['previous_cancellations'].dtypes"
      ],
      "execution_count": 21,
      "outputs": [
        {
          "output_type": "execute_result",
          "data": {
            "text/plain": [
              "dtype('int64')"
            ]
          },
          "metadata": {},
          "execution_count": 21
        }
      ]
    },
    {
      "cell_type": "code",
      "metadata": {
        "colab": {
          "base_uri": "https://localhost:8080/"
        },
        "id": "5H9kONi7KDKt",
        "outputId": "b4807441-868d-4987-d51b-4525007e684b"
      },
      "source": [
        "data['previous_cancellations'].unique()"
      ],
      "execution_count": 22,
      "outputs": [
        {
          "output_type": "execute_result",
          "data": {
            "text/plain": [
              "array([ 0,  1,  2,  3, 26, 25, 14,  4, 24, 19,  5, 21,  6, 13, 11])"
            ]
          },
          "metadata": {},
          "execution_count": 22
        }
      ]
    },
    {
      "cell_type": "code",
      "metadata": {
        "colab": {
          "base_uri": "https://localhost:8080/",
          "height": 297
        },
        "id": "t60CcUu3KOC9",
        "outputId": "60b4de3a-902a-49c0-f5ae-cf6133bf7bb0"
      },
      "source": [
        "sns.countplot(data=data ,x ='previous_cancellations',hue ='is_canceled')"
      ],
      "execution_count": 23,
      "outputs": [
        {
          "output_type": "execute_result",
          "data": {
            "text/plain": [
              "<matplotlib.axes._subplots.AxesSubplot at 0x7f47e67c5350>"
            ]
          },
          "metadata": {},
          "execution_count": 23
        },
        {
          "output_type": "display_data",
          "data": {
            "image/png": "[encoded data removed]",
            "text/plain": [
              "<Figure size 432x288 with 1 Axes>"
            ]
          },
          "metadata": {
            "needs_background": "light"
          }
        }
      ]
    },
    {
      "cell_type": "markdown",
      "metadata": {
        "id": "VMNO9q3PK3y2"
      },
      "source": [
        "**Observations** :\n",
        "1. Maximum customers have 0 previous cancellations. \n",
        "2. They are less likely to cancel the current booking. \n",
        "3. However, customers who have cancelled once earlier are more likely to cancel the current booking. \n",
        "4. This also matches with the positive correlation between previous_cancellations and is_cancelled and supports Assumption 6."
      ]
    },
    {
      "cell_type": "markdown",
      "metadata": {
        "id": "qAaBQjcILOvo"
      },
      "source": [
        "# Assumptions 7 : If room assigned is not the same as reserved room type, customer might positively cancel the booking."
      ]
    },
    {
      "cell_type": "code",
      "metadata": {
        "colab": {
          "base_uri": "https://localhost:8080/"
        },
        "id": "s3ENP7LwKcve",
        "outputId": "523a2c21-132d-4d49-aabf-896659e6dce1"
      },
      "source": [
        "data.columns"
      ],
      "execution_count": 24,
      "outputs": [
        {
          "output_type": "execute_result",
          "data": {
            "text/plain": [
              "Index(['hotel', 'is_canceled', 'lead_time', 'arrival_date_year',\n",
              "       'arrival_date_month', 'arrival_date_week_number',\n",
              "       'arrival_date_day_of_month', 'stays_in_weekend_nights',\n",
              "       'stays_in_week_nights', 'adults', 'children', 'babies', 'meal',\n",
              "       'country', 'market_segment', 'distribution_channel',\n",
              "       'is_repeated_guest', 'previous_cancellations',\n",
              "       'previous_bookings_not_canceled', 'reserved_room_type',\n",
              "       'assigned_room_type', 'booking_changes', 'deposit_type', 'agent',\n",
              "       'company', 'days_in_waiting_list', 'customer_type', 'adr',\n",
              "       'required_car_parking_spaces', 'total_of_special_requests',\n",
              "       'reservation_status', 'reservation_status_date'],\n",
              "      dtype='object')"
            ]
          },
          "metadata": {},
          "execution_count": 24
        }
      ]
    },
    {
      "cell_type": "code",
      "metadata": {
        "colab": {
          "base_uri": "https://localhost:8080/"
        },
        "id": "IVrj88qrND4c",
        "outputId": "ad94f10f-7fca-4f63-e28b-41984099e4d6"
      },
      "source": [
        "data['reserved_room_type'].dtypes"
      ],
      "execution_count": 25,
      "outputs": [
        {
          "output_type": "execute_result",
          "data": {
            "text/plain": [
              "dtype('O')"
            ]
          },
          "metadata": {},
          "execution_count": 25
        }
      ]
    },
    {
      "cell_type": "code",
      "metadata": {
        "colab": {
          "base_uri": "https://localhost:8080/"
        },
        "id": "aDRGaBUiNK9n",
        "outputId": "bdffefe0-4f5e-4076-d64c-48ba6606ccb2"
      },
      "source": [
        "data['reserved_room_type'].unique()"
      ],
      "execution_count": 26,
      "outputs": [
        {
          "output_type": "execute_result",
          "data": {
            "text/plain": [
              "array(['C', 'A', 'D', 'E', 'G', 'F', 'H', 'L', 'P', 'B'], dtype=object)"
            ]
          },
          "metadata": {},
          "execution_count": 26
        }
      ]
    },
    {
      "cell_type": "code",
      "metadata": {
        "colab": {
          "base_uri": "https://localhost:8080/"
        },
        "id": "cCPv8dq8LYlA",
        "outputId": "257eff03-a7ae-4e62-90e2-3915fbf3c4ea"
      },
      "source": [
        "data['assigned_room_type'].dtypes"
      ],
      "execution_count": 27,
      "outputs": [
        {
          "output_type": "execute_result",
          "data": {
            "text/plain": [
              "dtype('O')"
            ]
          },
          "metadata": {},
          "execution_count": 27
        }
      ]
    },
    {
      "cell_type": "code",
      "metadata": {
        "colab": {
          "base_uri": "https://localhost:8080/"
        },
        "id": "3z2EUY3eLxsU",
        "outputId": "f6ffc616-e873-4f73-9e61-4913805a25b9"
      },
      "source": [
        "data['assigned_room_type'].unique()"
      ],
      "execution_count": 28,
      "outputs": [
        {
          "output_type": "execute_result",
          "data": {
            "text/plain": [
              "array(['C', 'A', 'D', 'E', 'G', 'F', 'I', 'B', 'H', 'P', 'L', 'K'],\n",
              "      dtype=object)"
            ]
          },
          "metadata": {},
          "execution_count": 28
        }
      ]
    },
    {
      "cell_type": "code",
      "metadata": {
        "colab": {
          "base_uri": "https://localhost:8080/"
        },
        "id": "ZvOd1nxEMBdT",
        "outputId": "9d771f29-b5a4-4bd1-b0ac-5c270e6e0f60"
      },
      "source": [
        "room_type  = data.loc[data['reserved_room_type']!= data['assigned_room_type']]\n",
        "room_type['is_canceled'].value_counts()"
      ],
      "execution_count": 29,
      "outputs": [
        {
          "output_type": "execute_result",
          "data": {
            "text/plain": [
              "0    14115\n",
              "1      802\n",
              "Name: is_canceled, dtype: int64"
            ]
          },
          "metadata": {},
          "execution_count": 29
        }
      ]
    },
    {
      "cell_type": "code",
      "metadata": {
        "colab": {
          "base_uri": "https://localhost:8080/"
        },
        "id": "Z_iJPETPN-ce",
        "outputId": "f5ba2fd7-5345-4fda-83f3-33d75bef138d"
      },
      "source": [
        "room_type['is_canceled'].value_counts(normalize=True)*100"
      ],
      "execution_count": 30,
      "outputs": [
        {
          "output_type": "execute_result",
          "data": {
            "text/plain": [
              "0    94.623584\n",
              "1     5.376416\n",
              "Name: is_canceled, dtype: float64"
            ]
          },
          "metadata": {},
          "execution_count": 30
        }
      ]
    },
    {
      "cell_type": "markdown",
      "metadata": {
        "id": "NW6EXXbgOzfM"
      },
      "source": [
        "Observations : \n",
        "\n",
        "1. When assigned room type is different from reserved room type due to which cancellation is only 5 % \n",
        "2. Our assumption is wrong "
      ]
    },
    {
      "cell_type": "markdown",
      "metadata": {
        "id": "de3wtExFQGNW"
      },
      "source": [
        "# Assumption 8 : Higher the number of changes made to the booking, lesser is the chance of cancellation due to the investment of time in curating the booking as per one's requirement."
      ]
    },
    {
      "cell_type": "code",
      "metadata": {
        "colab": {
          "base_uri": "https://localhost:8080/"
        },
        "id": "mX9Db-4lOmRT",
        "outputId": "20486699-0c52-4d7d-d684-e6523146bf68"
      },
      "source": [
        "data.columns"
      ],
      "execution_count": 31,
      "outputs": [
        {
          "output_type": "execute_result",
          "data": {
            "text/plain": [
              "Index(['hotel', 'is_canceled', 'lead_time', 'arrival_date_year',\n",
              "       'arrival_date_month', 'arrival_date_week_number',\n",
              "       'arrival_date_day_of_month', 'stays_in_weekend_nights',\n",
              "       'stays_in_week_nights', 'adults', 'children', 'babies', 'meal',\n",
              "       'country', 'market_segment', 'distribution_channel',\n",
              "       'is_repeated_guest', 'previous_cancellations',\n",
              "       'previous_bookings_not_canceled', 'reserved_room_type',\n",
              "       'assigned_room_type', 'booking_changes', 'deposit_type', 'agent',\n",
              "       'company', 'days_in_waiting_list', 'customer_type', 'adr',\n",
              "       'required_car_parking_spaces', 'total_of_special_requests',\n",
              "       'reservation_status', 'reservation_status_date'],\n",
              "      dtype='object')"
            ]
          },
          "metadata": {},
          "execution_count": 31
        }
      ]
    },
    {
      "cell_type": "code",
      "metadata": {
        "colab": {
          "base_uri": "https://localhost:8080/"
        },
        "id": "mvQv2ta2QPvm",
        "outputId": "b22dd23c-0e18-4fca-a496-32be69c8a31c"
      },
      "source": [
        "data.corr(method='pearson')['is_canceled']['booking_changes']"
      ],
      "execution_count": 32,
      "outputs": [
        {
          "output_type": "execute_result",
          "data": {
            "text/plain": [
              "-0.144380991061528"
            ]
          },
          "metadata": {},
          "execution_count": 32
        }
      ]
    },
    {
      "cell_type": "code",
      "metadata": {
        "colab": {
          "base_uri": "https://localhost:8080/"
        },
        "id": "BtxDoTj4ReU7",
        "outputId": "852b8272-74f2-415b-81d7-5cf6b5d761f0"
      },
      "source": [
        "data['booking_changes'].dtypes"
      ],
      "execution_count": 33,
      "outputs": [
        {
          "output_type": "execute_result",
          "data": {
            "text/plain": [
              "dtype('int64')"
            ]
          },
          "metadata": {},
          "execution_count": 33
        }
      ]
    },
    {
      "cell_type": "code",
      "metadata": {
        "colab": {
          "base_uri": "https://localhost:8080/"
        },
        "id": "sT6VkYr8Rz_K",
        "outputId": "26cc3a52-0a99-4f5f-cd59-472a84e3943d"
      },
      "source": [
        "data['booking_changes'].unique()"
      ],
      "execution_count": 34,
      "outputs": [
        {
          "output_type": "execute_result",
          "data": {
            "text/plain": [
              "array([ 3,  4,  0,  1,  2,  5, 17,  6,  8,  7, 10, 16,  9, 13, 12, 20, 14,\n",
              "       15, 11, 21, 18])"
            ]
          },
          "metadata": {},
          "execution_count": 34
        }
      ]
    },
    {
      "cell_type": "code",
      "metadata": {
        "colab": {
          "base_uri": "https://localhost:8080/",
          "height": 297
        },
        "id": "iUXmDgiuR3Wh",
        "outputId": "fe78db05-76ec-4d58-f272-8ee7d930162f"
      },
      "source": [
        "sns.pointplot(data= data,x = 'booking_changes', y = 'is_canceled')"
      ],
      "execution_count": 35,
      "outputs": [
        {
          "output_type": "execute_result",
          "data": {
            "text/plain": [
              "<matplotlib.axes._subplots.AxesSubplot at 0x7f47e6be6ad0>"
            ]
          },
          "metadata": {},
          "execution_count": 35
        },
        {
          "output_type": "display_data",
          "data": {
            "image/png": "[encoded data removed]",
            "text/plain": [
              "<Figure size 432x288 with 1 Axes>"
            ]
          },
          "metadata": {
            "needs_background": "light"
          }
        }
      ]
    },
    {
      "cell_type": "markdown",
      "metadata": {
        "id": "m_IlqbvhS04Z"
      },
      "source": [
        "**Observation** : \n",
        "1. There is no correlation between is_canceled and booking changes .\n",
        "2. There is no impact on cancellation\n"
      ]
    },
    {
      "cell_type": "markdown",
      "metadata": {
        "id": "F--2bjACTP7p"
      },
      "source": [
        "# Assumption 9 : Bookings that are refundable or for which deposits were not made at the time of booking stand a high chance of cancelation."
      ]
    },
    {
      "cell_type": "code",
      "metadata": {
        "colab": {
          "base_uri": "https://localhost:8080/"
        },
        "id": "8W01rFRJSSx3",
        "outputId": "76716ee0-cb73-49a1-8081-f5ba427eb2fd"
      },
      "source": [
        "data.columns"
      ],
      "execution_count": 36,
      "outputs": [
        {
          "output_type": "execute_result",
          "data": {
            "text/plain": [
              "Index(['hotel', 'is_canceled', 'lead_time', 'arrival_date_year',\n",
              "       'arrival_date_month', 'arrival_date_week_number',\n",
              "       'arrival_date_day_of_month', 'stays_in_weekend_nights',\n",
              "       'stays_in_week_nights', 'adults', 'children', 'babies', 'meal',\n",
              "       'country', 'market_segment', 'distribution_channel',\n",
              "       'is_repeated_guest', 'previous_cancellations',\n",
              "       'previous_bookings_not_canceled', 'reserved_room_type',\n",
              "       'assigned_room_type', 'booking_changes', 'deposit_type', 'agent',\n",
              "       'company', 'days_in_waiting_list', 'customer_type', 'adr',\n",
              "       'required_car_parking_spaces', 'total_of_special_requests',\n",
              "       'reservation_status', 'reservation_status_date'],\n",
              "      dtype='object')"
            ]
          },
          "metadata": {},
          "execution_count": 36
        }
      ]
    },
    {
      "cell_type": "code",
      "metadata": {
        "colab": {
          "base_uri": "https://localhost:8080/"
        },
        "id": "GqOf6QDtTdlY",
        "outputId": "ee44c260-f878-4d65-f5fa-8c9da36a58bc"
      },
      "source": [
        "data['deposit_type'].dtypes"
      ],
      "execution_count": 37,
      "outputs": [
        {
          "output_type": "execute_result",
          "data": {
            "text/plain": [
              "dtype('O')"
            ]
          },
          "metadata": {},
          "execution_count": 37
        }
      ]
    },
    {
      "cell_type": "code",
      "metadata": {
        "colab": {
          "base_uri": "https://localhost:8080/"
        },
        "id": "Mr1EdMULTyZ3",
        "outputId": "45bb6824-e329-4a5f-a53f-c1bbe67b1a04"
      },
      "source": [
        "data['deposit_type'].unique()"
      ],
      "execution_count": 38,
      "outputs": [
        {
          "output_type": "execute_result",
          "data": {
            "text/plain": [
              "array(['No Deposit', 'Refundable', 'Non Refund'], dtype=object)"
            ]
          },
          "metadata": {},
          "execution_count": 38
        }
      ]
    },
    {
      "cell_type": "code",
      "metadata": {
        "colab": {
          "base_uri": "https://localhost:8080/",
          "height": 297
        },
        "id": "2dv_lDGpUH4J",
        "outputId": "08b82826-492b-4f49-81fd-45a8eca5c6c7"
      },
      "source": [
        "sns.countplot(data = data ,x='deposit_type',hue ='is_canceled')"
      ],
      "execution_count": 39,
      "outputs": [
        {
          "output_type": "execute_result",
          "data": {
            "text/plain": [
              "<matplotlib.axes._subplots.AxesSubplot at 0x7f47e6f730d0>"
            ]
          },
          "metadata": {},
          "execution_count": 39
        },
        {
          "output_type": "display_data",
          "data": {
            "image/png": "[encoded data removed]",
            "text/plain": [
              "<Figure size 432x288 with 1 Axes>"
            ]
          },
          "metadata": {
            "needs_background": "light"
          }
        }
      ]
    },
    {
      "cell_type": "markdown",
      "metadata": {
        "id": "aEWaw9pcU_cy"
      },
      "source": [
        "Observation: Non refundable booking are also cancelled."
      ]
    },
    {
      "cell_type": "markdown",
      "metadata": {
        "id": "a4clhwq3Veoh"
      },
      "source": [
        "# Observation 10 : If the number of days in waiting list is significant, customer might make some other booking due to uncertainty of confirmation of current booking."
      ]
    },
    {
      "cell_type": "code",
      "metadata": {
        "colab": {
          "base_uri": "https://localhost:8080/",
          "height": 387
        },
        "id": "Ex7VhcXKUc7q",
        "outputId": "11890bd2-51e2-4838-88fe-b5b1b1c2ddad"
      },
      "source": [
        "sns.relplot(data=data, x='days_in_waiting_list', y='is_canceled', kind='line', estimator=None)"
      ],
      "execution_count": 40,
      "outputs": [
        {
          "output_type": "execute_result",
          "data": {
            "text/plain": [
              "<seaborn.axisgrid.FacetGrid at 0x7f47f11a7950>"
            ]
          },
          "metadata": {},
          "execution_count": 40
        },
        {
          "output_type": "display_data",
          "data": {
            "image/png": "[encoded data removed]",
            "text/plain": [
              "<Figure size 360x360 with 1 Axes>"
            ]
          },
          "metadata": {
            "needs_background": "light"
          }
        }
      ]
    },
    {
      "cell_type": "markdown",
      "metadata": {
        "id": "RYZ2bRs-WRpj"
      },
      "source": [
        "**Observations** : No relation between is_canceled and days_in_waiting_list"
      ]
    },
    {
      "cell_type": "markdown",
      "metadata": {
        "id": "4nv_f4TsbXPo"
      },
      "source": [
        "# Relation between arrival_day_month ans is_canceled"
      ]
    },
    {
      "cell_type": "code",
      "metadata": {
        "colab": {
          "base_uri": "https://localhost:8080/"
        },
        "id": "OvUiJk0HWNKP",
        "outputId": "546633c6-707e-4264-89ac-43f44deb1a35"
      },
      "source": [
        "data['arrival_date_month'].dtypes\n",
        "# Categorical--object"
      ],
      "execution_count": 41,
      "outputs": [
        {
          "output_type": "execute_result",
          "data": {
            "text/plain": [
              "dtype('O')"
            ]
          },
          "metadata": {},
          "execution_count": 41
        }
      ]
    },
    {
      "cell_type": "code",
      "metadata": {
        "colab": {
          "base_uri": "https://localhost:8080/",
          "height": 430
        },
        "id": "pqxNFa_nbmFL",
        "outputId": "252f7395-ba10-4b72-d6a6-aa8b0aeaf11f"
      },
      "source": [
        " cat_plot = sns.catplot(data= data,x=\"arrival_date_month\",hue='is_canceled',kind ='count')\n",
        " cat_plot.set_xticklabels(rotation= 65,horizontalalignment= 'right')"
      ],
      "execution_count": 42,
      "outputs": [
        {
          "output_type": "execute_result",
          "data": {
            "text/plain": [
              "<seaborn.axisgrid.FacetGrid at 0x7f47e6edd8d0>"
            ]
          },
          "metadata": {},
          "execution_count": 42
        },
        {
          "output_type": "display_data",
          "data": {
            "image/png": "[encoded data removed]",
            "text/plain": [
              "<Figure size 426.125x360 with 1 Axes>"
            ]
          },
          "metadata": {
            "needs_background": "light"
          }
        }
      ]
    },
    {
      "cell_type": "markdown",
      "metadata": {
        "id": "51xPj2G8duZG"
      },
      "source": [
        "# Relation between arrival_day_year ans is_canceled"
      ]
    },
    {
      "cell_type": "code",
      "metadata": {
        "colab": {
          "base_uri": "https://localhost:8080/",
          "height": 297
        },
        "id": "Ri19JVtUdtqt",
        "outputId": "cf2bf1da-8371-48ed-967f-c6df2f49f1cc"
      },
      "source": [
        "sns.countplot(data=data,x='arrival_date_year',hue = 'is_canceled')"
      ],
      "execution_count": 43,
      "outputs": [
        {
          "output_type": "execute_result",
          "data": {
            "text/plain": [
              "<matplotlib.axes._subplots.AxesSubplot at 0x7f47e6d81190>"
            ]
          },
          "metadata": {},
          "execution_count": 43
        },
        {
          "output_type": "display_data",
          "data": {
            "image/png": "[encoded data removed]",
            "text/plain": [
              "<Figure size 432x288 with 1 Axes>"
            ]
          },
          "metadata": {
            "needs_background": "light"
          }
        }
      ]
    },
    {
      "cell_type": "markdown",
      "metadata": {
        "id": "5y9zp92KeUqE"
      },
      "source": [
        "**Observation** :  Maximum booking in  year 2016 in months of july and august"
      ]
    },
    {
      "cell_type": "markdown",
      "metadata": {
        "id": "vCVdeLJ5ewRk"
      },
      "source": [
        "# Yearwise and monthwise cancelation "
      ]
    },
    {
      "cell_type": "code",
      "metadata": {
        "colab": {
          "base_uri": "https://localhost:8080/"
        },
        "id": "tHTF-vxpcL5X",
        "outputId": "3df853d6-47ed-4598-e1f1-6e23aea7ffd5"
      },
      "source": [
        "# Year wise count and %\n",
        "year_count = data.groupby(['arrival_date_year', 'is_canceled']).size().to_frame(name='count')\n",
        "year_perct = year_count.groupby(level=0).apply(lambda x:100 * x / float(x.sum()))\n",
        "print(year_perct)"
      ],
      "execution_count": 44,
      "outputs": [
        {
          "output_type": "stream",
          "name": "stdout",
          "text": [
            "                                   count\n",
            "arrival_date_year is_canceled           \n",
            "2015              0            62.984179\n",
            "                  1            37.015821\n",
            "2016              0            64.136703\n",
            "                  1            35.863297\n",
            "2017              0            61.302136\n",
            "                  1            38.697864\n"
          ]
        }
      ]
    },
    {
      "cell_type": "code",
      "metadata": {
        "colab": {
          "base_uri": "https://localhost:8080/",
          "height": 297
        },
        "id": "848HrWc-nvKt",
        "outputId": "5a1e1639-6aed-4a38-8eb0-88db64fdd3c8"
      },
      "source": [
        "sns.countplot(data= data,x='arrival_date_year',hue ='is_canceled' )"
      ],
      "execution_count": 45,
      "outputs": [
        {
          "output_type": "execute_result",
          "data": {
            "text/plain": [
              "<matplotlib.axes._subplots.AxesSubplot at 0x7f47e6d6d7d0>"
            ]
          },
          "metadata": {},
          "execution_count": 45
        },
        {
          "output_type": "display_data",
          "data": {
            "image/png": "[encoded data removed]",
            "text/plain": [
              "<Figure size 432x288 with 1 Axes>"
            ]
          },
          "metadata": {
            "needs_background": "light"
          }
        }
      ]
    },
    {
      "cell_type": "code",
      "metadata": {
        "colab": {
          "base_uri": "https://localhost:8080/"
        },
        "id": "8Zgt4n2plwHm",
        "outputId": "58cb7554-d1f6-4120-f7aa-269fb45d3186"
      },
      "source": [
        "# Monthswise count and %\n",
        "month_count = data.groupby(['arrival_date_month',\"is_canceled\"]).size().to_frame(name= 'count')\n",
        "month_perct = month_count.groupby(level=0).apply(lambda x:100 * x / float(x.sum()))\n",
        "print(month_perct)"
      ],
      "execution_count": 46,
      "outputs": [
        {
          "output_type": "stream",
          "name": "stdout",
          "text": [
            "                                    count\n",
            "arrival_date_month is_canceled           \n",
            "April              0            59.202814\n",
            "                   1            40.797186\n",
            "August             0            62.246883\n",
            "                   1            37.753117\n",
            "December           0            65.029499\n",
            "                   1            34.970501\n",
            "February           0            66.584036\n",
            "                   1            33.415964\n",
            "January            0            69.522685\n",
            "                   1            30.477315\n",
            "July               0            62.546402\n",
            "                   1            37.453598\n",
            "June               0            58.542828\n",
            "                   1            41.457172\n",
            "March              0            67.847662\n",
            "                   1            32.152338\n",
            "May                0            60.334153\n",
            "                   1            39.665847\n",
            "November           0            68.766559\n",
            "                   1            31.233441\n",
            "October            0            61.953405\n",
            "                   1            38.046595\n",
            "September          0            60.829844\n",
            "                   1            39.170156\n"
          ]
        }
      ]
    },
    {
      "cell_type": "markdown",
      "metadata": {
        "id": "BeIvLdMCo74B"
      },
      "source": [
        "**Observations** : Percentage of cancellations was higher in 2015 and 2017 despite higher number of bookings in 2016. April and June had the largest cancellations overall."
      ]
    },
    {
      "cell_type": "markdown",
      "metadata": {
        "id": "l70XkFXPpMWn"
      },
      "source": [
        "# Impact of market segment on cancellation"
      ]
    },
    {
      "cell_type": "code",
      "metadata": {
        "colab": {
          "base_uri": "https://localhost:8080/"
        },
        "id": "SwTDKADrnd5F",
        "outputId": "ffae7438-67f9-41e7-a1d0-9202523e6702"
      },
      "source": [
        "data.columns"
      ],
      "execution_count": 47,
      "outputs": [
        {
          "output_type": "execute_result",
          "data": {
            "text/plain": [
              "Index(['hotel', 'is_canceled', 'lead_time', 'arrival_date_year',\n",
              "       'arrival_date_month', 'arrival_date_week_number',\n",
              "       'arrival_date_day_of_month', 'stays_in_weekend_nights',\n",
              "       'stays_in_week_nights', 'adults', 'children', 'babies', 'meal',\n",
              "       'country', 'market_segment', 'distribution_channel',\n",
              "       'is_repeated_guest', 'previous_cancellations',\n",
              "       'previous_bookings_not_canceled', 'reserved_room_type',\n",
              "       'assigned_room_type', 'booking_changes', 'deposit_type', 'agent',\n",
              "       'company', 'days_in_waiting_list', 'customer_type', 'adr',\n",
              "       'required_car_parking_spaces', 'total_of_special_requests',\n",
              "       'reservation_status', 'reservation_status_date'],\n",
              "      dtype='object')"
            ]
          },
          "metadata": {},
          "execution_count": 47
        }
      ]
    },
    {
      "cell_type": "code",
      "metadata": {
        "colab": {
          "base_uri": "https://localhost:8080/"
        },
        "id": "sUUbDLw6pTal",
        "outputId": "3cc66ead-3144-4ad6-b9e2-6288ada28f50"
      },
      "source": [
        "data['market_segment'].dtypes"
      ],
      "execution_count": 48,
      "outputs": [
        {
          "output_type": "execute_result",
          "data": {
            "text/plain": [
              "dtype('O')"
            ]
          },
          "metadata": {},
          "execution_count": 48
        }
      ]
    },
    {
      "cell_type": "code",
      "metadata": {
        "colab": {
          "base_uri": "https://localhost:8080/"
        },
        "id": "JnLtSCxrpYqK",
        "outputId": "b88bfb8d-a37d-4f03-c2c9-4e377b42a846"
      },
      "source": [
        "data['market_segment'].unique()"
      ],
      "execution_count": 49,
      "outputs": [
        {
          "output_type": "execute_result",
          "data": {
            "text/plain": [
              "array(['Direct', 'Corporate', 'Online TA', 'Offline TA/TO',\n",
              "       'Complementary', 'Groups', 'Undefined', 'Aviation'], dtype=object)"
            ]
          },
          "metadata": {},
          "execution_count": 49
        }
      ]
    },
    {
      "cell_type": "code",
      "metadata": {
        "colab": {
          "base_uri": "https://localhost:8080/",
          "height": 453
        },
        "id": "0qZwvBwlpgdY",
        "outputId": "be4e9468-45ad-4655-b2b2-986bed165c20"
      },
      "source": [
        "market_contributors = sns.catplot(data = data, x= 'market_segment', hue = 'is_canceled', kind='count')\n",
        "market_contributors.set_xticklabels(rotation= 65,horizontalalignment= 'right')"
      ],
      "execution_count": 50,
      "outputs": [
        {
          "output_type": "execute_result",
          "data": {
            "text/plain": [
              "<seaborn.axisgrid.FacetGrid at 0x7f47e6ce8c90>"
            ]
          },
          "metadata": {},
          "execution_count": 50
        },
        {
          "output_type": "display_data",
          "data": {
            "image/png": "[encoded data removed]",
            "text/plain": [
              "<Figure size 426.125x360 with 1 Axes>"
            ]
          },
          "metadata": {
            "needs_background": "light"
          }
        }
      ]
    },
    {
      "cell_type": "markdown",
      "metadata": {
        "id": "Oi8oJawsuJFq"
      },
      "source": [
        "**Observations** : Maximum booking and cancelation is through online and offline travel agency and tour operators"
      ]
    },
    {
      "cell_type": "markdown",
      "metadata": {
        "id": "5HcneUA5vz3s"
      },
      "source": [
        "# How customer type is associated with cancelation of hotel"
      ]
    },
    {
      "cell_type": "code",
      "metadata": {
        "colab": {
          "base_uri": "https://localhost:8080/"
        },
        "id": "_mhGilN7v_nG",
        "outputId": "e8772e1e-f5a4-4e84-d848-9383d205d0a0"
      },
      "source": [
        "data.columns"
      ],
      "execution_count": 51,
      "outputs": [
        {
          "output_type": "execute_result",
          "data": {
            "text/plain": [
              "Index(['hotel', 'is_canceled', 'lead_time', 'arrival_date_year',\n",
              "       'arrival_date_month', 'arrival_date_week_number',\n",
              "       'arrival_date_day_of_month', 'stays_in_weekend_nights',\n",
              "       'stays_in_week_nights', 'adults', 'children', 'babies', 'meal',\n",
              "       'country', 'market_segment', 'distribution_channel',\n",
              "       'is_repeated_guest', 'previous_cancellations',\n",
              "       'previous_bookings_not_canceled', 'reserved_room_type',\n",
              "       'assigned_room_type', 'booking_changes', 'deposit_type', 'agent',\n",
              "       'company', 'days_in_waiting_list', 'customer_type', 'adr',\n",
              "       'required_car_parking_spaces', 'total_of_special_requests',\n",
              "       'reservation_status', 'reservation_status_date'],\n",
              "      dtype='object')"
            ]
          },
          "metadata": {},
          "execution_count": 51
        }
      ]
    },
    {
      "cell_type": "code",
      "metadata": {
        "colab": {
          "base_uri": "https://localhost:8080/"
        },
        "id": "DHwBxqjlv_r7",
        "outputId": "52479ae1-55e6-46d0-cbe8-c24ace498ce5"
      },
      "source": [
        "data['customer_type'].dtypes"
      ],
      "execution_count": 52,
      "outputs": [
        {
          "output_type": "execute_result",
          "data": {
            "text/plain": [
              "dtype('O')"
            ]
          },
          "metadata": {},
          "execution_count": 52
        }
      ]
    },
    {
      "cell_type": "code",
      "metadata": {
        "colab": {
          "base_uri": "https://localhost:8080/"
        },
        "id": "_8Rq6Ud8wL-r",
        "outputId": "1d6c9fb8-ba1f-4da3-b708-a94afee981a0"
      },
      "source": [
        "data['customer_type'].unique()"
      ],
      "execution_count": 53,
      "outputs": [
        {
          "output_type": "execute_result",
          "data": {
            "text/plain": [
              "array(['Transient', 'Contract', 'Transient-Party', 'Group'], dtype=object)"
            ]
          },
          "metadata": {},
          "execution_count": 53
        }
      ]
    },
    {
      "cell_type": "code",
      "metadata": {
        "colab": {
          "base_uri": "https://localhost:8080/"
        },
        "id": "MHwsHpsawTFI",
        "outputId": "ef87b33f-9d57-471a-97d5-4f15aca928dd"
      },
      "source": [
        "data['customer_type'].value_counts(normalize=True)*100"
      ],
      "execution_count": 54,
      "outputs": [
        {
          "output_type": "execute_result",
          "data": {
            "text/plain": [
              "Transient          75.059050\n",
              "Transient-Party    21.043638\n",
              "Contract            3.414021\n",
              "Group               0.483290\n",
              "Name: customer_type, dtype: float64"
            ]
          },
          "metadata": {},
          "execution_count": 54
        }
      ]
    },
    {
      "cell_type": "code",
      "metadata": {
        "colab": {
          "base_uri": "https://localhost:8080/",
          "height": 297
        },
        "id": "3Prpz76kwm1d",
        "outputId": "dbcd9950-0f35-498b-b3a1-6ce2bc24c698"
      },
      "source": [
        "sns.countplot(data=data,x = 'customer_type',hue='is_canceled')"
      ],
      "execution_count": 55,
      "outputs": [
        {
          "output_type": "execute_result",
          "data": {
            "text/plain": [
              "<matplotlib.axes._subplots.AxesSubplot at 0x7f47e5c7c990>"
            ]
          },
          "metadata": {},
          "execution_count": 55
        },
        {
          "output_type": "display_data",
          "data": {
            "image/png": "[encoded data removed]",
            "text/plain": [
              "<Figure size 432x288 with 1 Axes>"
            ]
          },
          "metadata": {
            "needs_background": "light"
          }
        }
      ]
    },
    {
      "cell_type": "markdown",
      "metadata": {
        "id": "24YJe7RRw3ay"
      },
      "source": [
        "**Observations** : 75 % of booking is through transient and 21% through transient party"
      ]
    },
    {
      "cell_type": "markdown",
      "metadata": {
        "id": "v5Vyz0Btuj1S"
      },
      "source": [
        "# How distribution channel is associated with cancelation"
      ]
    },
    {
      "cell_type": "code",
      "metadata": {
        "colab": {
          "base_uri": "https://localhost:8080/"
        },
        "id": "MZBMmHKErLmh",
        "outputId": "52e9baa7-5f77-408e-85db-e188bca417f5"
      },
      "source": [
        "data.columns"
      ],
      "execution_count": 56,
      "outputs": [
        {
          "output_type": "execute_result",
          "data": {
            "text/plain": [
              "Index(['hotel', 'is_canceled', 'lead_time', 'arrival_date_year',\n",
              "       'arrival_date_month', 'arrival_date_week_number',\n",
              "       'arrival_date_day_of_month', 'stays_in_weekend_nights',\n",
              "       'stays_in_week_nights', 'adults', 'children', 'babies', 'meal',\n",
              "       'country', 'market_segment', 'distribution_channel',\n",
              "       'is_repeated_guest', 'previous_cancellations',\n",
              "       'previous_bookings_not_canceled', 'reserved_room_type',\n",
              "       'assigned_room_type', 'booking_changes', 'deposit_type', 'agent',\n",
              "       'company', 'days_in_waiting_list', 'customer_type', 'adr',\n",
              "       'required_car_parking_spaces', 'total_of_special_requests',\n",
              "       'reservation_status', 'reservation_status_date'],\n",
              "      dtype='object')"
            ]
          },
          "metadata": {},
          "execution_count": 56
        }
      ]
    },
    {
      "cell_type": "code",
      "metadata": {
        "colab": {
          "base_uri": "https://localhost:8080/"
        },
        "id": "6-z6Hsa0uuMw",
        "outputId": "083d04e3-ffe2-4c5a-c4d0-5133d7ff781f"
      },
      "source": [
        "data['distribution_channel'].unique()"
      ],
      "execution_count": 57,
      "outputs": [
        {
          "output_type": "execute_result",
          "data": {
            "text/plain": [
              "array(['Direct', 'Corporate', 'TA/TO', 'Undefined', 'GDS'], dtype=object)"
            ]
          },
          "metadata": {},
          "execution_count": 57
        }
      ]
    },
    {
      "cell_type": "code",
      "metadata": {
        "colab": {
          "base_uri": "https://localhost:8080/"
        },
        "id": "DZLrGg5AvPYm",
        "outputId": "3d353d93-41ff-48ba-b7be-a25db0a69528"
      },
      "source": [
        "data['distribution_channel'].dtypes"
      ],
      "execution_count": 58,
      "outputs": [
        {
          "output_type": "execute_result",
          "data": {
            "text/plain": [
              "dtype('O')"
            ]
          },
          "metadata": {},
          "execution_count": 58
        }
      ]
    },
    {
      "cell_type": "code",
      "metadata": {
        "colab": {
          "base_uri": "https://localhost:8080/",
          "height": 299
        },
        "id": "Htyi-vOjvDYl",
        "outputId": "9cf5288f-c3eb-4481-b5a8-07b2410b3841"
      },
      "source": [
        "sns.countplot(data=data, x='distribution_channel', hue='is_canceled')"
      ],
      "execution_count": 59,
      "outputs": [
        {
          "output_type": "execute_result",
          "data": {
            "text/plain": [
              "<matplotlib.axes._subplots.AxesSubplot at 0x7f47e6b42610>"
            ]
          },
          "metadata": {},
          "execution_count": 59
        },
        {
          "output_type": "display_data",
          "data": {
            "image/png": "[encoded data removed]",
            "text/plain": [
              "<Figure size 432x288 with 1 Axes>"
            ]
          },
          "metadata": {
            "needs_background": "light"
          }
        }
      ]
    },
    {
      "cell_type": "markdown",
      "metadata": {
        "id": "3PNQPnNuyIQ9"
      },
      "source": [
        "**Observation** : Major contributors is Travel agent and tour operators"
      ]
    },
    {
      "cell_type": "markdown",
      "metadata": {
        "id": "EKXM8zfx3xAF"
      },
      "source": [
        "# Multivariate analysis of Data"
      ]
    },
    {
      "cell_type": "code",
      "metadata": {
        "colab": {
          "base_uri": "https://localhost:8080/",
          "height": 296
        },
        "id": "qPWi1VMCvZ-k",
        "outputId": "5e0de3eb-3b23-4c0b-eab6-bf82d2939dac"
      },
      "source": [
        "g = sns.FacetGrid(data,col='arrival_date_year')\n",
        "g.map(sns.countplot,'hotel')"
      ],
      "execution_count": 60,
      "outputs": [
        {
          "output_type": "stream",
          "name": "stderr",
          "text": [
            "/usr/local/lib/python3.7/dist-packages/seaborn/axisgrid.py:670: UserWarning: Using the countplot function without specifying `order` is likely to produce an incorrect plot.\n",
            "  warnings.warn(warning)\n"
          ]
        },
        {
          "output_type": "execute_result",
          "data": {
            "text/plain": [
              "<seaborn.axisgrid.FacetGrid at 0x7f47e685e090>"
            ]
          },
          "metadata": {},
          "execution_count": 60
        },
        {
          "output_type": "display_data",
          "data": {
            "image/png": "[encoded data removed]",
            "text/plain": [
              "<Figure size 648x216 with 3 Axes>"
            ]
          },
          "metadata": {
            "needs_background": "light"
          }
        }
      ]
    },
    {
      "cell_type": "markdown",
      "metadata": {
        "id": "OQ0d2OVa4m4E"
      },
      "source": [
        "**Observations** : City hotel has more booking than resort hotel "
      ]
    },
    {
      "cell_type": "markdown",
      "metadata": {
        "id": "asVI8Kad4-Ky"
      },
      "source": [
        "# How meal and customer type are related"
      ]
    },
    {
      "cell_type": "code",
      "metadata": {
        "colab": {
          "base_uri": "https://localhost:8080/"
        },
        "id": "Cv8h49F6vgwl",
        "outputId": "a364f99c-82df-40e0-d4f0-e62420123bad"
      },
      "source": [
        "data['meal'].unique(),data['customer_type'].unique()"
      ],
      "execution_count": 67,
      "outputs": [
        {
          "output_type": "execute_result",
          "data": {
            "text/plain": [
              "(array(['BB', 'FB', 'HB', 'SC', 'Undefined'], dtype=object),\n",
              " array(['Transient', 'Contract', 'Transient-Party', 'Group'], dtype=object))"
            ]
          },
          "metadata": {},
          "execution_count": 67
        }
      ]
    },
    {
      "cell_type": "code",
      "metadata": {
        "colab": {
          "base_uri": "https://localhost:8080/"
        },
        "id": "oM_BRJDk5Gjj",
        "outputId": "e2ef81a9-2f41-484b-83d3-38fc7e3e5c04"
      },
      "source": [
        "data['meal'].nunique(),data['customer_type'].nunique()"
      ],
      "execution_count": 68,
      "outputs": [
        {
          "output_type": "execute_result",
          "data": {
            "text/plain": [
              "(5, 4)"
            ]
          },
          "metadata": {},
          "execution_count": 68
        }
      ]
    },
    {
      "cell_type": "code",
      "metadata": {
        "colab": {
          "base_uri": "https://localhost:8080/",
          "height": 296
        },
        "id": "-vMmTkoo5n0r",
        "outputId": "fa1f879a-6dcf-4511-adf5-05c3155caa88"
      },
      "source": [
        "g1 = sns.FacetGrid(data,col='customer_type')\n",
        "g1.map(sns.countplot,'meal')"
      ],
      "execution_count": 69,
      "outputs": [
        {
          "output_type": "stream",
          "name": "stderr",
          "text": [
            "/usr/local/lib/python3.7/dist-packages/seaborn/axisgrid.py:670: UserWarning: Using the countplot function without specifying `order` is likely to produce an incorrect plot.\n",
            "  warnings.warn(warning)\n"
          ]
        },
        {
          "output_type": "execute_result",
          "data": {
            "text/plain": [
              "<seaborn.axisgrid.FacetGrid at 0x7f47e1c35190>"
            ]
          },
          "metadata": {},
          "execution_count": 69
        },
        {
          "output_type": "display_data",
          "data": {
            "image/png": "[encoded data removed]",
            "text/plain": [
              "<Figure size 864x216 with 4 Axes>"
            ]
          },
          "metadata": {
            "needs_background": "light"
          }
        }
      ]
    },
    {
      "cell_type": "markdown",
      "metadata": {
        "id": "lr4gdq4g6E4b"
      },
      "source": [
        "**Observation**:  Transient customer with Breakfast is major.\n"
      ]
    },
    {
      "cell_type": "markdown",
      "metadata": {
        "id": "yKLegyxp8-c9"
      },
      "source": [
        "# How Reserved room type is associted with hotel"
      ]
    },
    {
      "cell_type": "code",
      "metadata": {
        "colab": {
          "base_uri": "https://localhost:8080/",
          "height": 296
        },
        "id": "4efy5Lmy59Fu",
        "outputId": "780ec11f-675e-4c63-9d57-18af24f06ae5"
      },
      "source": [
        "g = sns.countplot(data= data,x='hotel',hue ='reserved_room_type')\n",
        "g.legend(loc= 'center left',bbox_to_anchor = (1.20,0.5),ncol = 1)"
      ],
      "execution_count": 73,
      "outputs": [
        {
          "output_type": "execute_result",
          "data": {
            "text/plain": [
              "<matplotlib.legend.Legend at 0x7f47e18c8c50>"
            ]
          },
          "metadata": {},
          "execution_count": 73
        },
        {
          "output_type": "display_data",
          "data": {
            "image/png": "[encoded data removed]",
            "text/plain": [
              "<Figure size 432x288 with 1 Axes>"
            ]
          },
          "metadata": {
            "needs_background": "light"
          }
        }
      ]
    },
    {
      "cell_type": "markdown",
      "metadata": {
        "id": "-FgfeIar-IbV"
      },
      "source": [
        "**observations** : \n",
        "* Resort hotels room preference : A, D, E\n",
        "* City hotels room preference : A, D, F"
      ]
    },
    {
      "cell_type": "code",
      "metadata": {
        "colab": {
          "base_uri": "https://localhost:8080/"
        },
        "id": "-PKrqZB39YSv",
        "outputId": "bac0c755-545f-4008-8f6b-7daa1dfd46d9"
      },
      "source": [
        "print(\"TABLE\")\n",
        "print(data.groupby(['hotel', 'customer_type']).size())"
      ],
      "execution_count": 74,
      "outputs": [
        {
          "output_type": "stream",
          "name": "stdout",
          "text": [
            "TABLE\n",
            "hotel         customer_type  \n",
            "City Hotel    Contract            2300\n",
            "              Group                293\n",
            "              Transient          59404\n",
            "              Transient-Party    17333\n",
            "Resort Hotel  Contract            1776\n",
            "              Group                284\n",
            "              Transient          30209\n",
            "              Transient-Party     7791\n",
            "dtype: int64\n"
          ]
        }
      ]
    },
    {
      "cell_type": "code",
      "metadata": {
        "colab": {
          "base_uri": "https://localhost:8080/"
        },
        "id": "T274owJE-ebE",
        "outputId": "839eb7a6-4eea-4d32-e516-189b32109523"
      },
      "source": [
        "print(data.groupby(['customer_type', 'deposit_type']).size())"
      ],
      "execution_count": 75,
      "outputs": [
        {
          "output_type": "stream",
          "name": "stdout",
          "text": [
            "customer_type    deposit_type\n",
            "Contract         No Deposit       3530\n",
            "                 Non Refund        544\n",
            "                 Refundable          2\n",
            "Group            No Deposit        569\n",
            "                 Refundable          8\n",
            "Transient        No Deposit      76684\n",
            "                 Non Refund      12909\n",
            "                 Refundable         20\n",
            "Transient-Party  No Deposit      23858\n",
            "                 Non Refund       1134\n",
            "                 Refundable        132\n",
            "dtype: int64\n"
          ]
        }
      ]
    },
    {
      "cell_type": "code",
      "metadata": {
        "colab": {
          "base_uri": "https://localhost:8080/"
        },
        "id": "dHqw-zH3-k8x",
        "outputId": "515dd958-e37d-4585-fc6d-a0b9e2dc0979"
      },
      "source": [
        "print(data.groupby(['customer_type', 'distribution_channel']).size())\n",
        "print(\"-\"*60)\n",
        "print(data.groupby(['customer_type', 'market_segment']).size())"
      ],
      "execution_count": 77,
      "outputs": [
        {
          "output_type": "stream",
          "name": "stdout",
          "text": [
            "customer_type    distribution_channel\n",
            "Contract         Corporate                  27\n",
            "                 Direct                     19\n",
            "                 TA/TO                    4030\n",
            "Group            Corporate                  31\n",
            "                 Direct                    116\n",
            "                 TA/TO                     430\n",
            "Transient        Corporate                4157\n",
            "                 Direct                  12343\n",
            "                 GDS                       193\n",
            "                 TA/TO                   72919\n",
            "                 Undefined                   1\n",
            "Transient-Party  Corporate                2462\n",
            "                 Direct                   2167\n",
            "                 TA/TO                   20491\n",
            "                 Undefined                   4\n",
            "dtype: int64\n",
            "------------------------------------------------------------\n",
            "customer_type    market_segment\n",
            "Contract         Complementary         2\n",
            "                 Corporate            22\n",
            "                 Direct               14\n",
            "                 Groups              735\n",
            "                 Offline TA/TO      1817\n",
            "                 Online TA          1486\n",
            "Group            Aviation              2\n",
            "                 Complementary         6\n",
            "                 Corporate            29\n",
            "                 Direct              134\n",
            "                 Groups               16\n",
            "                 Offline TA/TO       211\n",
            "                 Online TA           179\n",
            "Transient        Aviation            218\n",
            "                 Complementary       703\n",
            "                 Corporate          3576\n",
            "                 Direct            11336\n",
            "                 Groups             8427\n",
            "                 Offline TA/TO     14054\n",
            "                 Online TA         51299\n",
            "Transient-Party  Aviation             17\n",
            "                 Complementary        32\n",
            "                 Corporate          1668\n",
            "                 Direct             1122\n",
            "                 Groups            10633\n",
            "                 Offline TA/TO      8137\n",
            "                 Online TA          3513\n",
            "                 Undefined             2\n",
            "dtype: int64\n"
          ]
        }
      ]
    },
    {
      "cell_type": "code",
      "metadata": {
        "colab": {
          "base_uri": "https://localhost:8080/"
        },
        "id": "lGUOvpjK-uja",
        "outputId": "0f79d95b-d094-49a6-972d-98eca31b873b"
      },
      "source": [
        "group = data.groupby(['customer_type', 'reservation_status']).size()\n",
        "group_pcts = group.groupby(level=0).apply(lambda x:100 * x / float(x.sum()))\n",
        "group_pcts"
      ],
      "execution_count": 78,
      "outputs": [
        {
          "output_type": "execute_result",
          "data": {
            "text/plain": [
              "customer_type    reservation_status\n",
              "Contract         Canceled              30.323847\n",
              "                 Check-Out             69.038273\n",
              "                 No-Show                0.637880\n",
              "Group            Canceled               9.532062\n",
              "                 Check-Out             89.774697\n",
              "                 No-Show                0.693241\n",
              "Transient        Canceled              39.678395\n",
              "                 Check-Out             59.253680\n",
              "                 No-Show                1.067925\n",
              "Transient-Party  Canceled              24.554211\n",
              "                 Check-Out             74.570132\n",
              "                 No-Show                0.875657\n",
              "dtype: float64"
            ]
          },
          "metadata": {},
          "execution_count": 78
        }
      ]
    },
    {
      "cell_type": "code",
      "metadata": {
        "colab": {
          "base_uri": "https://localhost:8080/",
          "height": 111
        },
        "id": "fXX5Pclw_EBV",
        "outputId": "b85748b3-3679-415d-96ef-b644a2e87b45"
      },
      "source": [
        "data.pivot_table(columns='hotel', values=['stays_in_weekend_nights', 'stays_in_week_nights'], aggfunc=lambda x:x.sum())"
      ],
      "execution_count": 79,
      "outputs": [
        {
          "output_type": "execute_result",
          "data": {
            "text/html": [
              "<div>\n",
              "<style scoped>\n",
              "    .dataframe tbody tr th:only-of-type {\n",
              "        vertical-align: middle;\n",
              "    }\n",
              "\n",
              "    .dataframe tbody tr th {\n",
              "        vertical-align: top;\n",
              "    }\n",
              "\n",
              "    .dataframe thead th {\n",
              "        text-align: right;\n",
              "    }\n",
              "</style>\n",
              "<table border=\"1\" class=\"dataframe\">\n",
              "  <thead>\n",
              "    <tr style=\"text-align: right;\">\n",
              "      <th>hotel</th>\n",
              "      <th>City Hotel</th>\n",
              "      <th>Resort Hotel</th>\n",
              "    </tr>\n",
              "  </thead>\n",
              "  <tbody>\n",
              "    <tr>\n",
              "      <th>stays_in_week_nights</th>\n",
              "      <td>173174</td>\n",
              "      <td>125337</td>\n",
              "    </tr>\n",
              "    <tr>\n",
              "      <th>stays_in_weekend_nights</th>\n",
              "      <td>63082</td>\n",
              "      <td>47664</td>\n",
              "    </tr>\n",
              "  </tbody>\n",
              "</table>\n",
              "</div>"
            ],
            "text/plain": [
              "hotel                    City Hotel  Resort Hotel\n",
              "stays_in_week_nights         173174        125337\n",
              "stays_in_weekend_nights       63082         47664"
            ]
          },
          "metadata": {},
          "execution_count": 79
        }
      ]
    },
    {
      "cell_type": "code",
      "metadata": {
        "colab": {
          "base_uri": "https://localhost:8080/",
          "height": 80
        },
        "id": "EiKY_z5m_NOF",
        "outputId": "b2fc95d2-f726-4c9e-a170-9244e090d304"
      },
      "source": [
        "data.pivot_table(columns='hotel', values='total_of_special_requests', aggfunc=lambda x:x.sum())"
      ],
      "execution_count": 80,
      "outputs": [
        {
          "output_type": "execute_result",
          "data": {
            "text/html": [
              "<div>\n",
              "<style scoped>\n",
              "    .dataframe tbody tr th:only-of-type {\n",
              "        vertical-align: middle;\n",
              "    }\n",
              "\n",
              "    .dataframe tbody tr th {\n",
              "        vertical-align: top;\n",
              "    }\n",
              "\n",
              "    .dataframe thead th {\n",
              "        text-align: right;\n",
              "    }\n",
              "</style>\n",
              "<table border=\"1\" class=\"dataframe\">\n",
              "  <thead>\n",
              "    <tr style=\"text-align: right;\">\n",
              "      <th>hotel</th>\n",
              "      <th>City Hotel</th>\n",
              "      <th>Resort Hotel</th>\n",
              "    </tr>\n",
              "  </thead>\n",
              "  <tbody>\n",
              "    <tr>\n",
              "      <th>total_of_special_requests</th>\n",
              "      <td>43387</td>\n",
              "      <td>24828</td>\n",
              "    </tr>\n",
              "  </tbody>\n",
              "</table>\n",
              "</div>"
            ],
            "text/plain": [
              "hotel                      City Hotel  Resort Hotel\n",
              "total_of_special_requests       43387         24828"
            ]
          },
          "metadata": {},
          "execution_count": 80
        }
      ]
    },
    {
      "cell_type": "code",
      "metadata": {
        "colab": {
          "base_uri": "https://localhost:8080/",
          "height": 386
        },
        "id": "BEa1VlbU_VQW",
        "outputId": "7a147325-7042-4b2e-affe-3ea96d77f441"
      },
      "source": [
        "sns.catplot(data=data, x='hotel', y='days_in_waiting_list', jitter=False)"
      ],
      "execution_count": 82,
      "outputs": [
        {
          "output_type": "execute_result",
          "data": {
            "text/plain": [
              "<seaborn.axisgrid.FacetGrid at 0x7f47e1793850>"
            ]
          },
          "metadata": {},
          "execution_count": 82
        },
        {
          "output_type": "display_data",
          "data": {
            "image/png": "[encoded data removed]",
            "text/plain": [
              "<Figure size 360x360 with 1 Axes>"
            ]
          },
          "metadata": {
            "needs_background": "light"
          }
        }
      ]
    },
    {
      "cell_type": "code",
      "metadata": {
        "colab": {
          "base_uri": "https://localhost:8080/"
        },
        "id": "_X2NnzAV_lyI",
        "outputId": "1505594d-8ea7-4d22-ebd0-1cc9992dcbd7"
      },
      "source": [
        "data['country'].value_counts(normalize=True)*100"
      ],
      "execution_count": 84,
      "outputs": [
        {
          "output_type": "execute_result",
          "data": {
            "text/plain": [
              "PRT    40.865587\n",
              "GBR    10.200838\n",
              "FRA     8.759314\n",
              "ESP     7.205934\n",
              "DEU     6.128576\n",
              "         ...    \n",
              "BDI     0.000841\n",
              "UMI     0.000841\n",
              "MRT     0.000841\n",
              "CYM     0.000841\n",
              "SLE     0.000841\n",
              "Name: country, Length: 177, dtype: float64"
            ]
          },
          "metadata": {},
          "execution_count": 84
        }
      ]
    },
    {
      "cell_type": "code",
      "metadata": {
        "colab": {
          "base_uri": "https://localhost:8080/",
          "height": 296
        },
        "id": "HdGhlwi3_zqQ",
        "outputId": "13c8b721-89df-48f4-b00a-c6bcd1bbfc41"
      },
      "source": [
        "temp = data.loc[(data['country']=='PRT') | (data['country']=='GBR') | (data['country']=='FRA') | (data['country']=='ESP') | (data['country']=='DEU')]\n",
        "grid = sns.FacetGrid(temp, col='country')\n",
        "grid.map(sns.countplot, 'distribution_channel')"
      ],
      "execution_count": 86,
      "outputs": [
        {
          "output_type": "stream",
          "name": "stderr",
          "text": [
            "/usr/local/lib/python3.7/dist-packages/seaborn/axisgrid.py:670: UserWarning: Using the countplot function without specifying `order` is likely to produce an incorrect plot.\n",
            "  warnings.warn(warning)\n"
          ]
        },
        {
          "output_type": "execute_result",
          "data": {
            "text/plain": [
              "<seaborn.axisgrid.FacetGrid at 0x7f47e1787690>"
            ]
          },
          "metadata": {},
          "execution_count": 86
        },
        {
          "output_type": "display_data",
          "data": {
            "image/png": "[encoded data removed]",
            "text/plain": [
              "<Figure size 1080x216 with 5 Axes>"
            ]
          },
          "metadata": {
            "needs_background": "light"
          }
        }
      ]
    },
    {
      "cell_type": "code",
      "metadata": {
        "colab": {
          "base_uri": "https://localhost:8080/",
          "height": 297
        },
        "id": "KgGyr3AhACna",
        "outputId": "4248bff0-7ce2-4220-ab9b-6ec7bb15c406"
      },
      "source": [
        "sns.barplot(data=data, x='customer_type', y='total_of_special_requests', ci=None)"
      ],
      "execution_count": 88,
      "outputs": [
        {
          "output_type": "execute_result",
          "data": {
            "text/plain": [
              "<matplotlib.axes._subplots.AxesSubplot at 0x7f47e156b510>"
            ]
          },
          "metadata": {},
          "execution_count": 88
        },
        {
          "output_type": "display_data",
          "data": {
            "image/png": "[encoded data removed]",
            "text/plain": [
              "<Figure size 432x288 with 1 Axes>"
            ]
          },
          "metadata": {
            "needs_background": "light"
          }
        }
      ]
    },
    {
      "cell_type": "code",
      "metadata": {
        "colab": {
          "base_uri": "https://localhost:8080/",
          "height": 297
        },
        "id": "LmQ0uLWlAQhS",
        "outputId": "4a8ef04f-8e3d-4166-f335-30b8e5e620aa"
      },
      "source": [
        "sns.boxplot(data=data, x='distribution_channel', y='lead_time')"
      ],
      "execution_count": 89,
      "outputs": [
        {
          "output_type": "execute_result",
          "data": {
            "text/plain": [
              "<matplotlib.axes._subplots.AxesSubplot at 0x7f47e1521590>"
            ]
          },
          "metadata": {},
          "execution_count": 89
        },
        {
          "output_type": "display_data",
          "data": {
            "image/png": "[encoded data removed]",
            "text/plain": [
              "<Figure size 432x288 with 1 Axes>"
            ]
          },
          "metadata": {
            "needs_background": "light"
          }
        }
      ]
    },
    {
      "cell_type": "markdown",
      "metadata": {
        "id": "x870YV0WAfUb"
      },
      "source": [
        "# Feature Engineering"
      ]
    },
    {
      "cell_type": "code",
      "metadata": {
        "id": "pvdG8jaTAZQJ"
      },
      "source": [
        "month_map = {'January':'01', 'February':'02', 'March':'03', 'April':'04', 'May':'05', 'June':'06', \n",
        "             'July':'07', 'August':'08', 'September':'09', 'October':'10', 'November':'11', 'December':'12'}\n",
        "data.arrival_date_month = data.arrival_date_month.map(month_map).astype(int)"
      ],
      "execution_count": 91,
      "outputs": []
    },
    {
      "cell_type": "code",
      "metadata": {
        "id": "oCBblv3VBZAB"
      },
      "source": [
        "data['arrival_date'] = data['arrival_date_year'].astype(str) + '-'+ data['arrival_date_month'].astype(str) + '-' + data['arrival_date_day_of_month'].astype(str)"
      ],
      "execution_count": 99,
      "outputs": []
    },
    {
      "cell_type": "code",
      "metadata": {
        "colab": {
          "base_uri": "https://localhost:8080/"
        },
        "id": "S3auo0AsBn7K",
        "outputId": "616d9703-4393-4bb1-a1c9-210d81d9909d"
      },
      "source": [
        "data.info()"
      ],
      "execution_count": 100,
      "outputs": [
        {
          "output_type": "stream",
          "name": "stdout",
          "text": [
            "<class 'pandas.core.frame.DataFrame'>\n",
            "RangeIndex: 119390 entries, 0 to 119389\n",
            "Data columns (total 33 columns):\n",
            " #   Column                          Non-Null Count   Dtype  \n",
            "---  ------                          --------------   -----  \n",
            " 0   hotel                           119390 non-null  object \n",
            " 1   is_canceled                     119390 non-null  int64  \n",
            " 2   lead_time                       119390 non-null  int64  \n",
            " 3   arrival_date_year               119390 non-null  int64  \n",
            " 4   arrival_date_month              119390 non-null  int64  \n",
            " 5   arrival_date_week_number        119390 non-null  int64  \n",
            " 6   arrival_date_day_of_month       119390 non-null  int64  \n",
            " 7   stays_in_weekend_nights         119390 non-null  int64  \n",
            " 8   stays_in_week_nights            119390 non-null  int64  \n",
            " 9   adults                          119390 non-null  int64  \n",
            " 10  children                        119386 non-null  float64\n",
            " 11  babies                          119390 non-null  int64  \n",
            " 12  meal                            119390 non-null  object \n",
            " 13  country                         118902 non-null  object \n",
            " 14  market_segment                  119390 non-null  object \n",
            " 15  distribution_channel            119390 non-null  object \n",
            " 16  is_repeated_guest               119390 non-null  int64  \n",
            " 17  previous_cancellations          119390 non-null  int64  \n",
            " 18  previous_bookings_not_canceled  119390 non-null  int64  \n",
            " 19  reserved_room_type              119390 non-null  object \n",
            " 20  assigned_room_type              119390 non-null  object \n",
            " 21  booking_changes                 119390 non-null  int64  \n",
            " 22  deposit_type                    119390 non-null  object \n",
            " 23  agent                           103050 non-null  float64\n",
            " 24  company                         6797 non-null    float64\n",
            " 25  days_in_waiting_list            119390 non-null  int64  \n",
            " 26  customer_type                   119390 non-null  object \n",
            " 27  adr                             119390 non-null  float64\n",
            " 28  required_car_parking_spaces     119390 non-null  int64  \n",
            " 29  total_of_special_requests       119390 non-null  int64  \n",
            " 30  reservation_status              119390 non-null  object \n",
            " 31  reservation_status_date         119390 non-null  object \n",
            " 32  arrival_date                    119390 non-null  object \n",
            "dtypes: float64(4), int64(17), object(12)\n",
            "memory usage: 30.1+ MB\n"
          ]
        }
      ]
    },
    {
      "cell_type": "code",
      "metadata": {
        "id": "X17t5c5qC4vY"
      },
      "source": [
        "data['children'] = data['children'].fillna(0)\n",
        "data['offspring'] = (data['children'] + data['babies']).astype(int)"
      ],
      "execution_count": 101,
      "outputs": []
    },
    {
      "cell_type": "code",
      "metadata": {
        "id": "XrqeYcylEGGD"
      },
      "source": [
        "def roomChange(row):\n",
        "    if row['assigned_room_type'] == row['reserved_room_type']:\n",
        "        return False\n",
        "    else:\n",
        "        return True\n",
        "\n",
        "data['change_in_room'] = data.apply(roomChange, axis=1)"
      ],
      "execution_count": 103,
      "outputs": []
    },
    {
      "cell_type": "code",
      "metadata": {
        "id": "94JeRJ1HEIwJ"
      },
      "source": [
        "data['total_bookings'] = data['previous_cancellations'] + data['previous_bookings_not_canceled']"
      ],
      "execution_count": 105,
      "outputs": []
    },
    {
      "cell_type": "code",
      "metadata": {
        "colab": {
          "base_uri": "https://localhost:8080/"
        },
        "id": "3JEdu-4pEi9b",
        "outputId": "d5eea334-d9ba-4750-abb5-7ac344f67259"
      },
      "source": [
        "data.isnull().sum()"
      ],
      "execution_count": 107,
      "outputs": [
        {
          "output_type": "execute_result",
          "data": {
            "text/plain": [
              "hotel                                  0\n",
              "is_canceled                            0\n",
              "lead_time                              0\n",
              "arrival_date_year                      0\n",
              "arrival_date_month                     0\n",
              "arrival_date_week_number               0\n",
              "arrival_date_day_of_month              0\n",
              "stays_in_weekend_nights                0\n",
              "stays_in_week_nights                   0\n",
              "adults                                 0\n",
              "children                               0\n",
              "babies                                 0\n",
              "meal                                   0\n",
              "country                              488\n",
              "market_segment                         0\n",
              "distribution_channel                   0\n",
              "is_repeated_guest                      0\n",
              "previous_cancellations                 0\n",
              "previous_bookings_not_canceled         0\n",
              "reserved_room_type                     0\n",
              "assigned_room_type                     0\n",
              "booking_changes                        0\n",
              "deposit_type                           0\n",
              "agent                              16340\n",
              "company                           112593\n",
              "days_in_waiting_list                   0\n",
              "customer_type                          0\n",
              "adr                                    0\n",
              "required_car_parking_spaces            0\n",
              "total_of_special_requests              0\n",
              "reservation_status                     0\n",
              "reservation_status_date                0\n",
              "arrival_date                           0\n",
              "offspring                              0\n",
              "change_in_room                         0\n",
              "total_bookings                         0\n",
              "dtype: int64"
            ]
          },
          "metadata": {},
          "execution_count": 107
        }
      ]
    },
    {
      "cell_type": "code",
      "metadata": {
        "id": "EzyWNEPhEria"
      },
      "source": [
        "data['country'].fillna(data['country'].mode()[0], inplace = True)"
      ],
      "execution_count": 108,
      "outputs": []
    },
    {
      "cell_type": "code",
      "metadata": {
        "id": "TXIlaUj4FZ4G"
      },
      "source": [
        "data['agent'].fillna(data['agent'].mode()[0], inplace = True)\n",
        "data['company'].fillna(data['company'].mode()[0],inplace = True)"
      ],
      "execution_count": 109,
      "outputs": []
    },
    {
      "cell_type": "code",
      "metadata": {
        "colab": {
          "base_uri": "https://localhost:8080/"
        },
        "id": "d92E1Le3Fw-t",
        "outputId": "96489448-80a2-4871-c679-82b31fb7acd6"
      },
      "source": [
        "data.isnull().sum()"
      ],
      "execution_count": 110,
      "outputs": [
        {
          "output_type": "execute_result",
          "data": {
            "text/plain": [
              "hotel                             0\n",
              "is_canceled                       0\n",
              "lead_time                         0\n",
              "arrival_date_year                 0\n",
              "arrival_date_month                0\n",
              "arrival_date_week_number          0\n",
              "arrival_date_day_of_month         0\n",
              "stays_in_weekend_nights           0\n",
              "stays_in_week_nights              0\n",
              "adults                            0\n",
              "children                          0\n",
              "babies                            0\n",
              "meal                              0\n",
              "country                           0\n",
              "market_segment                    0\n",
              "distribution_channel              0\n",
              "is_repeated_guest                 0\n",
              "previous_cancellations            0\n",
              "previous_bookings_not_canceled    0\n",
              "reserved_room_type                0\n",
              "assigned_room_type                0\n",
              "booking_changes                   0\n",
              "deposit_type                      0\n",
              "agent                             0\n",
              "company                           0\n",
              "days_in_waiting_list              0\n",
              "customer_type                     0\n",
              "adr                               0\n",
              "required_car_parking_spaces       0\n",
              "total_of_special_requests         0\n",
              "reservation_status                0\n",
              "reservation_status_date           0\n",
              "arrival_date                      0\n",
              "offspring                         0\n",
              "change_in_room                    0\n",
              "total_bookings                    0\n",
              "dtype: int64"
            ]
          },
          "metadata": {},
          "execution_count": 110
        }
      ]
    },
    {
      "cell_type": "code",
      "metadata": {
        "colab": {
          "base_uri": "https://localhost:8080/"
        },
        "id": "6xNWsBPdF3RI",
        "outputId": "80ad113e-99dc-4e81-efb0-156722f56838"
      },
      "source": [
        "data.dtypes"
      ],
      "execution_count": 111,
      "outputs": [
        {
          "output_type": "execute_result",
          "data": {
            "text/plain": [
              "hotel                              object\n",
              "is_canceled                         int64\n",
              "lead_time                           int64\n",
              "arrival_date_year                   int64\n",
              "arrival_date_month                  int64\n",
              "arrival_date_week_number            int64\n",
              "arrival_date_day_of_month           int64\n",
              "stays_in_weekend_nights             int64\n",
              "stays_in_week_nights                int64\n",
              "adults                              int64\n",
              "children                          float64\n",
              "babies                              int64\n",
              "meal                               object\n",
              "country                            object\n",
              "market_segment                     object\n",
              "distribution_channel               object\n",
              "is_repeated_guest                   int64\n",
              "previous_cancellations              int64\n",
              "previous_bookings_not_canceled      int64\n",
              "reserved_room_type                 object\n",
              "assigned_room_type                 object\n",
              "booking_changes                     int64\n",
              "deposit_type                       object\n",
              "agent                             float64\n",
              "company                           float64\n",
              "days_in_waiting_list                int64\n",
              "customer_type                      object\n",
              "adr                               float64\n",
              "required_car_parking_spaces         int64\n",
              "total_of_special_requests           int64\n",
              "reservation_status                 object\n",
              "reservation_status_date            object\n",
              "arrival_date                       object\n",
              "offspring                           int64\n",
              "change_in_room                       bool\n",
              "total_bookings                      int64\n",
              "dtype: object"
            ]
          },
          "metadata": {},
          "execution_count": 111
        }
      ]
    },
    {
      "cell_type": "code",
      "metadata": {
        "id": "uiCNzKE6GK-E"
      },
      "source": [
        "for i in range(len(data)):\n",
        "    if data.loc[i, 'country'] == 'PRT':\n",
        "        data.at[i, 'country'] = 1\n",
        "    elif data.loc[i, 'country'] == 'GBR':\n",
        "        data.at[i, 'country'] = 2\n",
        "    else:\n",
        "        data.at[i, 'country'] = 0"
      ],
      "execution_count": 113,
      "outputs": []
    },
    {
      "cell_type": "code",
      "metadata": {
        "id": "2TzQE4YhGe3V"
      },
      "source": [
        "data['arrival_date'] = pd.to_datetime(data['arrival_date'])\n",
        "data['reservation_status_date'] = pd.to_datetime(data['reservation_status_date'])"
      ],
      "execution_count": 114,
      "outputs": []
    },
    {
      "cell_type": "code",
      "metadata": {
        "colab": {
          "base_uri": "https://localhost:8080/"
        },
        "id": "mvgBQrlsHITT",
        "outputId": "edb672c3-b216-41cd-d148-d69a4806c1f4"
      },
      "source": [
        ""
      ],
      "execution_count": 115,
      "outputs": [
        {
          "output_type": "stream",
          "name": "stdout",
          "text": [
            "<class 'pandas.core.frame.DataFrame'>\n",
            "RangeIndex: 119390 entries, 0 to 119389\n",
            "Data columns (total 36 columns):\n",
            " #   Column                          Non-Null Count   Dtype         \n",
            "---  ------                          --------------   -----         \n",
            " 0   hotel                           119390 non-null  object        \n",
            " 1   is_canceled                     119390 non-null  int64         \n",
            " 2   lead_time                       119390 non-null  int64         \n",
            " 3   arrival_date_year               119390 non-null  int64         \n",
            " 4   arrival_date_month              119390 non-null  int64         \n",
            " 5   arrival_date_week_number        119390 non-null  int64         \n",
            " 6   arrival_date_day_of_month       119390 non-null  int64         \n",
            " 7   stays_in_weekend_nights         119390 non-null  int64         \n",
            " 8   stays_in_week_nights            119390 non-null  int64         \n",
            " 9   adults                          119390 non-null  int64         \n",
            " 10  children                        119390 non-null  float64       \n",
            " 11  babies                          119390 non-null  int64         \n",
            " 12  meal                            119390 non-null  object        \n",
            " 13  country                         119390 non-null  object        \n",
            " 14  market_segment                  119390 non-null  object        \n",
            " 15  distribution_channel            119390 non-null  object        \n",
            " 16  is_repeated_guest               119390 non-null  int64         \n",
            " 17  previous_cancellations          119390 non-null  int64         \n",
            " 18  previous_bookings_not_canceled  119390 non-null  int64         \n",
            " 19  reserved_room_type              119390 non-null  object        \n",
            " 20  assigned_room_type              119390 non-null  object        \n",
            " 21  booking_changes                 119390 non-null  int64         \n",
            " 22  deposit_type                    119390 non-null  object        \n",
            " 23  agent                           119390 non-null  float64       \n",
            " 24  company                         119390 non-null  float64       \n",
            " 25  days_in_waiting_list            119390 non-null  int64         \n",
            " 26  customer_type                   119390 non-null  object        \n",
            " 27  adr                             119390 non-null  float64       \n",
            " 28  required_car_parking_spaces     119390 non-null  int64         \n",
            " 29  total_of_special_requests       119390 non-null  int64         \n",
            " 30  reservation_status              119390 non-null  object        \n",
            " 31  reservation_status_date         119390 non-null  datetime64[ns]\n",
            " 32  arrival_date                    119390 non-null  datetime64[ns]\n",
            " 33  offspring                       119390 non-null  int64         \n",
            " 34  change_in_room                  119390 non-null  bool          \n",
            " 35  total_bookings                  119390 non-null  int64         \n",
            "dtypes: bool(1), datetime64[ns](2), float64(4), int64(19), object(10)\n",
            "memory usage: 32.0+ MB\n"
          ]
        }
      ]
    },
    {
      "cell_type": "code",
      "metadata": {
        "id": "62OgDv8yHLDo"
      },
      "source": [
        "data['stay_duration'] = data['reservation_status_date'] - data['arrival_date']\n",
        "data['stay_duration'] = data['stay_duration'] / np.timedelta64(1, 'D')\n",
        "data['stay_duration'] = data['stay_duration'].astype(int)"
      ],
      "execution_count": 116,
      "outputs": []
    },
    {
      "cell_type": "code",
      "metadata": {
        "id": "OsTV7BLJHoJl"
      },
      "source": [
        "for i in range(len(data)):\n",
        "    if data.loc[i, 'stay_duration']<0:\n",
        "        data.at[i, 'stay_duration'] = -1"
      ],
      "execution_count": 117,
      "outputs": []
    },
    {
      "cell_type": "code",
      "metadata": {
        "colab": {
          "base_uri": "https://localhost:8080/"
        },
        "id": "-nnPn1k_HxoX",
        "outputId": "bfaad3b7-894c-486f-db05-d01d8919bfbd"
      },
      "source": [
        "data.info()"
      ],
      "execution_count": 118,
      "outputs": [
        {
          "output_type": "stream",
          "name": "stdout",
          "text": [
            "<class 'pandas.core.frame.DataFrame'>\n",
            "RangeIndex: 119390 entries, 0 to 119389\n",
            "Data columns (total 37 columns):\n",
            " #   Column                          Non-Null Count   Dtype         \n",
            "---  ------                          --------------   -----         \n",
            " 0   hotel                           119390 non-null  object        \n",
            " 1   is_canceled                     119390 non-null  int64         \n",
            " 2   lead_time                       119390 non-null  int64         \n",
            " 3   arrival_date_year               119390 non-null  int64         \n",
            " 4   arrival_date_month              119390 non-null  int64         \n",
            " 5   arrival_date_week_number        119390 non-null  int64         \n",
            " 6   arrival_date_day_of_month       119390 non-null  int64         \n",
            " 7   stays_in_weekend_nights         119390 non-null  int64         \n",
            " 8   stays_in_week_nights            119390 non-null  int64         \n",
            " 9   adults                          119390 non-null  int64         \n",
            " 10  children                        119390 non-null  float64       \n",
            " 11  babies                          119390 non-null  int64         \n",
            " 12  meal                            119390 non-null  object        \n",
            " 13  country                         119390 non-null  object        \n",
            " 14  market_segment                  119390 non-null  object        \n",
            " 15  distribution_channel            119390 non-null  object        \n",
            " 16  is_repeated_guest               119390 non-null  int64         \n",
            " 17  previous_cancellations          119390 non-null  int64         \n",
            " 18  previous_bookings_not_canceled  119390 non-null  int64         \n",
            " 19  reserved_room_type              119390 non-null  object        \n",
            " 20  assigned_room_type              119390 non-null  object        \n",
            " 21  booking_changes                 119390 non-null  int64         \n",
            " 22  deposit_type                    119390 non-null  object        \n",
            " 23  agent                           119390 non-null  float64       \n",
            " 24  company                         119390 non-null  float64       \n",
            " 25  days_in_waiting_list            119390 non-null  int64         \n",
            " 26  customer_type                   119390 non-null  object        \n",
            " 27  adr                             119390 non-null  float64       \n",
            " 28  required_car_parking_spaces     119390 non-null  int64         \n",
            " 29  total_of_special_requests       119390 non-null  int64         \n",
            " 30  reservation_status              119390 non-null  object        \n",
            " 31  reservation_status_date         119390 non-null  datetime64[ns]\n",
            " 32  arrival_date                    119390 non-null  datetime64[ns]\n",
            " 33  offspring                       119390 non-null  int64         \n",
            " 34  change_in_room                  119390 non-null  bool          \n",
            " 35  total_bookings                  119390 non-null  int64         \n",
            " 36  stay_duration                   119390 non-null  int64         \n",
            "dtypes: bool(1), datetime64[ns](2), float64(4), int64(20), object(10)\n",
            "memory usage: 32.9+ MB\n"
          ]
        }
      ]
    },
    {
      "cell_type": "code",
      "metadata": {
        "colab": {
          "base_uri": "https://localhost:8080/"
        },
        "id": "x2yj_crLH0b0",
        "outputId": "dc5b885e-874d-4d6f-e67e-37f723ee3dd1"
      },
      "source": [
        "print(data.dtypes == object)"
      ],
      "execution_count": 119,
      "outputs": [
        {
          "output_type": "stream",
          "name": "stdout",
          "text": [
            "hotel                              True\n",
            "is_canceled                       False\n",
            "lead_time                         False\n",
            "arrival_date_year                 False\n",
            "arrival_date_month                False\n",
            "arrival_date_week_number          False\n",
            "arrival_date_day_of_month         False\n",
            "stays_in_weekend_nights           False\n",
            "stays_in_week_nights              False\n",
            "adults                            False\n",
            "children                          False\n",
            "babies                            False\n",
            "meal                               True\n",
            "country                            True\n",
            "market_segment                     True\n",
            "distribution_channel               True\n",
            "is_repeated_guest                 False\n",
            "previous_cancellations            False\n",
            "previous_bookings_not_canceled    False\n",
            "reserved_room_type                 True\n",
            "assigned_room_type                 True\n",
            "booking_changes                   False\n",
            "deposit_type                       True\n",
            "agent                             False\n",
            "company                           False\n",
            "days_in_waiting_list              False\n",
            "customer_type                      True\n",
            "adr                               False\n",
            "required_car_parking_spaces       False\n",
            "total_of_special_requests         False\n",
            "reservation_status                 True\n",
            "reservation_status_date           False\n",
            "arrival_date                      False\n",
            "offspring                         False\n",
            "change_in_room                    False\n",
            "total_bookings                    False\n",
            "stay_duration                     False\n",
            "dtype: bool\n"
          ]
        }
      ]
    },
    {
      "cell_type": "code",
      "metadata": {
        "id": "xHfwzSARIHPy"
      },
      "source": [
        "lb = LabelEncoder()\n",
        "var = ['hotel', 'customer_type', 'deposit_type', 'change_in_room', 'market_segment', 'distribution_channel', 'country']\n",
        "\n",
        "for item in var:\n",
        "  data[item] = lb.fit_transform(data[item])\n",
        "\n",
        "data = pd.get_dummies(data, columns=['hotel', 'customer_type', 'deposit_type', \n",
        "                                     'change_in_room', 'market_segment', 'distribution_channel', 'country'])"
      ],
      "execution_count": 120,
      "outputs": []
    },
    {
      "cell_type": "code",
      "metadata": {
        "id": "gf7mgsI7JNNC"
      },
      "source": [
        "data.drop(['meal', 'assigned_room_type', 'reserved_room_type', 'reservation_status', \n",
        "           'reservation_status_date', 'arrival_date'], axis=1, inplace=True)"
      ],
      "execution_count": 121,
      "outputs": []
    },
    {
      "cell_type": "code",
      "metadata": {
        "colab": {
          "base_uri": "https://localhost:8080/"
        },
        "id": "e6zi4g0VJakp",
        "outputId": "8bf2977b-5db2-4a21-d1f6-f4f0e982dbb1"
      },
      "source": [
        "data.info()"
      ],
      "execution_count": 122,
      "outputs": [
        {
          "output_type": "stream",
          "name": "stdout",
          "text": [
            "<class 'pandas.core.frame.DataFrame'>\n",
            "RangeIndex: 119390 entries, 0 to 119389\n",
            "Data columns (total 51 columns):\n",
            " #   Column                          Non-Null Count   Dtype  \n",
            "---  ------                          --------------   -----  \n",
            " 0   is_canceled                     119390 non-null  int64  \n",
            " 1   lead_time                       119390 non-null  int64  \n",
            " 2   arrival_date_year               119390 non-null  int64  \n",
            " 3   arrival_date_month              119390 non-null  int64  \n",
            " 4   arrival_date_week_number        119390 non-null  int64  \n",
            " 5   arrival_date_day_of_month       119390 non-null  int64  \n",
            " 6   stays_in_weekend_nights         119390 non-null  int64  \n",
            " 7   stays_in_week_nights            119390 non-null  int64  \n",
            " 8   adults                          119390 non-null  int64  \n",
            " 9   children                        119390 non-null  float64\n",
            " 10  babies                          119390 non-null  int64  \n",
            " 11  is_repeated_guest               119390 non-null  int64  \n",
            " 12  previous_cancellations          119390 non-null  int64  \n",
            " 13  previous_bookings_not_canceled  119390 non-null  int64  \n",
            " 14  booking_changes                 119390 non-null  int64  \n",
            " 15  agent                           119390 non-null  float64\n",
            " 16  company                         119390 non-null  float64\n",
            " 17  days_in_waiting_list            119390 non-null  int64  \n",
            " 18  adr                             119390 non-null  float64\n",
            " 19  required_car_parking_spaces     119390 non-null  int64  \n",
            " 20  total_of_special_requests       119390 non-null  int64  \n",
            " 21  offspring                       119390 non-null  int64  \n",
            " 22  total_bookings                  119390 non-null  int64  \n",
            " 23  stay_duration                   119390 non-null  int64  \n",
            " 24  hotel_0                         119390 non-null  uint8  \n",
            " 25  hotel_1                         119390 non-null  uint8  \n",
            " 26  customer_type_0                 119390 non-null  uint8  \n",
            " 27  customer_type_1                 119390 non-null  uint8  \n",
            " 28  customer_type_2                 119390 non-null  uint8  \n",
            " 29  customer_type_3                 119390 non-null  uint8  \n",
            " 30  deposit_type_0                  119390 non-null  uint8  \n",
            " 31  deposit_type_1                  119390 non-null  uint8  \n",
            " 32  deposit_type_2                  119390 non-null  uint8  \n",
            " 33  change_in_room_0                119390 non-null  uint8  \n",
            " 34  change_in_room_1                119390 non-null  uint8  \n",
            " 35  market_segment_0                119390 non-null  uint8  \n",
            " 36  market_segment_1                119390 non-null  uint8  \n",
            " 37  market_segment_2                119390 non-null  uint8  \n",
            " 38  market_segment_3                119390 non-null  uint8  \n",
            " 39  market_segment_4                119390 non-null  uint8  \n",
            " 40  market_segment_5                119390 non-null  uint8  \n",
            " 41  market_segment_6                119390 non-null  uint8  \n",
            " 42  market_segment_7                119390 non-null  uint8  \n",
            " 43  distribution_channel_0          119390 non-null  uint8  \n",
            " 44  distribution_channel_1          119390 non-null  uint8  \n",
            " 45  distribution_channel_2          119390 non-null  uint8  \n",
            " 46  distribution_channel_3          119390 non-null  uint8  \n",
            " 47  distribution_channel_4          119390 non-null  uint8  \n",
            " 48  country_0                       119390 non-null  uint8  \n",
            " 49  country_1                       119390 non-null  uint8  \n",
            " 50  country_2                       119390 non-null  uint8  \n",
            "dtypes: float64(4), int64(20), uint8(27)\n",
            "memory usage: 24.9 MB\n"
          ]
        }
      ]
    },
    {
      "cell_type": "markdown",
      "metadata": {
        "id": "0aXLF0o3J4-G"
      },
      "source": [
        "# Model AND Result"
      ]
    },
    {
      "cell_type": "markdown",
      "metadata": {
        "id": "pgT6d80DK_Sh"
      },
      "source": [
        "# Train and Test Split"
      ]
    },
    {
      "cell_type": "code",
      "metadata": {
        "colab": {
          "base_uri": "https://localhost:8080/"
        },
        "id": "w_fSJmpQJf1D",
        "outputId": "398efe28-3948-442f-9709-4d17dd65fa71"
      },
      "source": [
        "train_var = data.drop(['is_canceled'],axis= 1)\n",
        "test_var = data['is_canceled']\n",
        "X_train,X_test,y_train,y_test = train_test_split(train_var,test_var,test_size=0.20)\n",
        "X_train.shape, y_train.shape, X_test.shape, y_test.shape"
      ],
      "execution_count": 123,
      "outputs": [
        {
          "output_type": "execute_result",
          "data": {
            "text/plain": [
              "((95512, 50), (95512,), (23878, 50), (23878,))"
            ]
          },
          "metadata": {},
          "execution_count": 123
        }
      ]
    },
    {
      "cell_type": "markdown",
      "metadata": {
        "id": "NOAw1OWsLG8-"
      },
      "source": [
        "# Data Scaling"
      ]
    },
    {
      "cell_type": "code",
      "metadata": {
        "id": "xOqNoyPbK6Af"
      },
      "source": [
        "std_scaler = StandardScaler()\n",
        "X_train_std = std_scaler.fit_transform(X_train)\n",
        "X_test_std = std_scaler.transform(X_test)\n",
        "\n",
        "#------------------------------------------------------------\n",
        "mm_scaler = MinMaxScaler()\n",
        "X_train_mm = mm_scaler.fit_transform(X_train)\n",
        "X_test_mm = mm_scaler.transform(X_test)"
      ],
      "execution_count": 126,
      "outputs": []
    },
    {
      "cell_type": "markdown",
      "metadata": {
        "id": "62AgTJC9MTYM"
      },
      "source": [
        "# Applying Logistic Regression"
      ]
    },
    {
      "cell_type": "code",
      "metadata": {
        "id": "Ul4gKl0tMP47"
      },
      "source": [
        "# Fitting the logistic model\n",
        "logreg = LogisticRegression(max_iter=500).fit(X_train_mm,y_train)\n",
        "\n",
        "scores = cross_val_score(logreg, X_train_mm, y_train, cv=5)\n",
        "\n",
        "logreg_pred = logreg.predict(X_test_mm)\n"
      ],
      "execution_count": 127,
      "outputs": []
    },
    {
      "cell_type": "code",
      "metadata": {
        "colab": {
          "base_uri": "https://localhost:8080/"
        },
        "id": "4_xdrb3ANsCV",
        "outputId": "195bd1cd-91c4-42ef-e135-62c799397492"
      },
      "source": [
        "print(\"Average cross validation score: {:.3f}\".format(scores.mean()))\n",
        "print(\"Test accuracy: {:.3f}\".format(logreg.score(X_test_mm, y_test)))\n",
        "print(\"F1 score: {:.3f}\".format(f1_score(y_test, logreg_pred)))\n",
        "print(confusion_matrix(y_test, logreg_pred))"
      ],
      "execution_count": 128,
      "outputs": [
        {
          "output_type": "stream",
          "name": "stdout",
          "text": [
            "Average cross validation score: 0.991\n",
            "Test accuracy: 0.993\n",
            "F1 score: 0.990\n",
            "[[15122    17]\n",
            " [  162  8577]]\n"
          ]
        }
      ]
    },
    {
      "cell_type": "code",
      "metadata": {
        "colab": {
          "base_uri": "https://localhost:8080/"
        },
        "id": "J00vLzDlRgh8",
        "outputId": "f49bbff1-33ec-4625-b7cb-10d1c4ca206c"
      },
      "source": [
        "print(logreg_pred)"
      ],
      "execution_count": 134,
      "outputs": [
        {
          "output_type": "stream",
          "name": "stdout",
          "text": [
            "[0 1 1 ... 0 1 0]\n"
          ]
        }
      ]
    },
    {
      "cell_type": "code",
      "metadata": {
        "id": "OWt_lRQLN1le"
      },
      "source": [
        "prediction = pd.DataFrame(logreg_pred, columns=['is_canceled']).to_csv('submission.csv',index = False, header = False)"
      ],
      "execution_count": 136,
      "outputs": []
    },
    {
      "cell_type": "code",
      "metadata": {
        "id": "WvVmnzcpR9Z5"
      },
      "source": [
        ""
      ],
      "execution_count": null,
      "outputs": []
    }
  ]
}