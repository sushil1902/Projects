{
 "cells": [
  {
   "cell_type": "markdown",
   "metadata": {},
   "source": [
    "# Demography understanding of usage of telephone in Telecome Industry"
   ]
  },
  {
   "cell_type": "markdown",
   "metadata": {},
   "source": [
    "<img src=\"https://trak.in/wp-content/uploads/2018/02/Chinese-Smartphone-Brands.jpg\" position = left width=\"500\" height=\"250\">\n",
    "<!-- <img src=\"https://www.marketing91.com/wp-content/uploads/2015/12/demographic-1.jpg\" position = right width=\"500\" height=\"250\"> -->"
   ]
  },
  {
   "cell_type": "markdown",
   "metadata": {},
   "source": [
    "###### Table of Contents\n",
    "\n",
    "1. [Problem Statement](#section1)<br>\n",
    "2. [Importing Packages](#section2)<br>\n",
    "3. [Loading Data](#section3)<br>\n",
    "  - 3.1 [Description of the Datasets](#section301)<br>\n",
    "  - 3.2 [Pandas Profiling before Data Preprocessing](#section302)<br>\n",
    "4. [Data Preprocessing](#section4)<br>\n",
    "  - 4.1 [Data Preprocessing](#section401)<br>\n",
    "  - 4.2 [Pandas Profiling after Data Preprocessing](#section402)<br>\n",
    "5. [Exploratory Data Analysis](#section5)<br>\n",
    "6. [Conclusion](#section6)\n",
    "  - 6.1 [Actionable Insights](#section601)"
   ]
  },
  {
   "cell_type": "markdown",
   "metadata": {},
   "source": [
    "<a id=section1></a>\n",
    "## 1. Problem Statement\n",
    "\n",
    "* InsaidTelecom, one of the leading telecom players, understands that customizing offering is very important for its business to stay competitive.\n",
    "* InsaidTelecom is seeking to leverage behavioral data from more than 60% of the 50 million mobile devices active daily in India to help its clients better understand and interact with their audiences.\n",
    "* Creation of a dashboard to understand user's demographic characteristics based on their mobile usage, geolocation, and mobile device properties.\n",
    "\n",
    "\n",
    "#### Objective\n",
    "1. Analyse the user behaviour to help copmany to understand what is the right way forward and suggest actionable insights from marketing and product terms.\n",
    "2. The demographics of a user (gender and age) based on their latitude and longitude and usage behaviors.\n"
   ]
  },
  {
   "cell_type": "code",
   "execution_count": 1,
   "metadata": {},
   "outputs": [],
   "source": [
    "import numpy as np\n",
    "import pandas as pd\n",
    "import matplotlib.pyplot as plt\n",
    "import seaborn as sns\n",
    "%matplotlib inline"
   ]
  },
  {
   "cell_type": "markdown",
   "metadata": {},
   "source": [
    "## Loading of event_data which is CSV format"
   ]
  },
  {
   "cell_type": "code",
   "execution_count": 2,
   "metadata": {},
   "outputs": [
    {
     "data": {
      "text/html": [
       "<div>\n",
       "<style scoped>\n",
       "    .dataframe tbody tr th:only-of-type {\n",
       "        vertical-align: middle;\n",
       "    }\n",
       "\n",
       "    .dataframe tbody tr th {\n",
       "        vertical-align: top;\n",
       "    }\n",
       "\n",
       "    .dataframe thead th {\n",
       "        text-align: right;\n",
       "    }\n",
       "</style>\n",
       "<table border=\"1\" class=\"dataframe\">\n",
       "  <thead>\n",
       "    <tr style=\"text-align: right;\">\n",
       "      <th></th>\n",
       "      <th>event_id</th>\n",
       "      <th>device_id</th>\n",
       "      <th>timestamp</th>\n",
       "      <th>longitude</th>\n",
       "      <th>latitude</th>\n",
       "      <th>city</th>\n",
       "      <th>state</th>\n",
       "    </tr>\n",
       "  </thead>\n",
       "  <tbody>\n",
       "    <tr>\n",
       "      <th>0</th>\n",
       "      <td>2765368</td>\n",
       "      <td>2.973348e+18</td>\n",
       "      <td>2016-05-07 22:52:05</td>\n",
       "      <td>77.225676</td>\n",
       "      <td>28.730140</td>\n",
       "      <td>Delhi</td>\n",
       "      <td>Delhi</td>\n",
       "    </tr>\n",
       "    <tr>\n",
       "      <th>1</th>\n",
       "      <td>2955066</td>\n",
       "      <td>4.734221e+18</td>\n",
       "      <td>2016-05-01 20:44:16</td>\n",
       "      <td>88.388361</td>\n",
       "      <td>22.660325</td>\n",
       "      <td>Calcutta</td>\n",
       "      <td>WestBengal</td>\n",
       "    </tr>\n",
       "    <tr>\n",
       "      <th>2</th>\n",
       "      <td>605968</td>\n",
       "      <td>-3.264500e+18</td>\n",
       "      <td>2016-05-02 14:23:04</td>\n",
       "      <td>77.256809</td>\n",
       "      <td>28.757906</td>\n",
       "      <td>Delhi</td>\n",
       "      <td>Delhi</td>\n",
       "    </tr>\n",
       "    <tr>\n",
       "      <th>3</th>\n",
       "      <td>448114</td>\n",
       "      <td>5.731369e+18</td>\n",
       "      <td>2016-05-03 13:21:16</td>\n",
       "      <td>80.343613</td>\n",
       "      <td>13.153332</td>\n",
       "      <td>Chennai</td>\n",
       "      <td>TamilNadu</td>\n",
       "    </tr>\n",
       "    <tr>\n",
       "      <th>4</th>\n",
       "      <td>665740</td>\n",
       "      <td>3.388880e+17</td>\n",
       "      <td>2016-05-06 03:51:05</td>\n",
       "      <td>85.997745</td>\n",
       "      <td>23.842609</td>\n",
       "      <td>Bokaro</td>\n",
       "      <td>Jharkhand</td>\n",
       "    </tr>\n",
       "  </tbody>\n",
       "</table>\n",
       "</div>"
      ],
      "text/plain": [
       "   event_id     device_id            timestamp  longitude   latitude  \\\n",
       "0   2765368  2.973348e+18  2016-05-07 22:52:05  77.225676  28.730140   \n",
       "1   2955066  4.734221e+18  2016-05-01 20:44:16  88.388361  22.660325   \n",
       "2    605968 -3.264500e+18  2016-05-02 14:23:04  77.256809  28.757906   \n",
       "3    448114  5.731369e+18  2016-05-03 13:21:16  80.343613  13.153332   \n",
       "4    665740  3.388880e+17  2016-05-06 03:51:05  85.997745  23.842609   \n",
       "\n",
       "       city       state  \n",
       "0     Delhi       Delhi  \n",
       "1  Calcutta  WestBengal  \n",
       "2     Delhi       Delhi  \n",
       "3   Chennai   TamilNadu  \n",
       "4    Bokaro   Jharkhand  "
      ]
     },
     "execution_count": 2,
     "metadata": {},
     "output_type": "execute_result"
    }
   ],
   "source": [
    "# Loading of CSV data set\n",
    "events_data = pd.read_csv(\"C:/Users/ITQLAP/OneDrive/Capstonr project-1/events_data.csv\")\n",
    "events_data.head()"
   ]
  },
  {
   "cell_type": "code",
   "execution_count": 3,
   "metadata": {},
   "outputs": [],
   "source": [
    "# Copy the original data\n",
    "data1 = events_data.copy()"
   ]
  },
  {
   "cell_type": "code",
   "execution_count": 4,
   "metadata": {},
   "outputs": [
    {
     "name": "stdout",
     "output_type": "stream",
     "text": [
      "Number of rows:: 3252950\n",
      "Number of columns:: 7\n",
      "Column Names:: ['event_id', 'device_id', 'timestamp', 'longitude', 'latitude', 'city', 'state']\n",
      "Column Data Types::\n",
      " event_id       int64\n",
      "device_id    float64\n",
      "timestamp     object\n",
      "longitude    float64\n",
      "latitude     float64\n",
      "city          object\n",
      "state         object\n",
      "dtype: object\n",
      "Columns with Missing Values:: ['device_id', 'longitude', 'latitude', 'state']\n"
     ]
    }
   ],
   "source": [
    "print(\"Number of rows::\",data1.shape[0])\n",
    "print(\"Number of columns::\",data1.shape[1] )\n",
    "print(\"Column Names::\",data1.columns.values.tolist())\n",
    "print(\"Column Data Types::\\n\",data1.dtypes)\n",
    "print(\"Columns with Missing Values::\",data1.columns[data1.isnull().any()].tolist())"
   ]
  },
  {
   "cell_type": "markdown",
   "metadata": {},
   "source": [
    "### Missing data handling for events_data before merging"
   ]
  },
  {
   "cell_type": "markdown",
   "metadata": {},
   "source": [
    "### Method-1"
   ]
  },
  {
   "cell_type": "code",
   "execution_count": 5,
   "metadata": {},
   "outputs": [
    {
     "data": {
      "text/plain": [
       "array(['Pune', 'Visakhapatnam', 'Indore', 'Chennai', 'Delhi',\n",
       "       'Channapatna', 'Jaipur', 'Gangarampur', 'Arambagh'], dtype=object)"
      ]
     },
     "execution_count": 5,
     "metadata": {},
     "output_type": "execute_result"
    }
   ],
   "source": [
    "# Missing value of state having city is already given\n",
    "data1[data1['state'].isnull()]['city'].unique()"
   ]
  },
  {
   "cell_type": "code",
   "execution_count": 6,
   "metadata": {},
   "outputs": [
    {
     "name": "stdout",
     "output_type": "stream",
     "text": [
      "Columns with Missing Values:: ['device_id', 'longitude', 'latitude', 'state']\n",
      "*****Missing value****\n"
     ]
    },
    {
     "data": {
      "text/plain": [
       "event_id       0\n",
       "device_id    453\n",
       "timestamp      0\n",
       "longitude    423\n",
       "latitude     423\n",
       "city           0\n",
       "state        377\n",
       "dtype: int64"
      ]
     },
     "execution_count": 6,
     "metadata": {},
     "output_type": "execute_result"
    }
   ],
   "source": [
    "# Name column with missing value\n",
    "print(\"Columns with Missing Values::\",data1.columns[data1.isnull().any()].tolist())\n",
    "print(\"*****Missing value****\")\n",
    "data1.isnull().sum()"
   ]
  },
  {
   "cell_type": "code",
   "execution_count": 7,
   "metadata": {},
   "outputs": [
    {
     "data": {
      "text/plain": [
       "array(['Delhi', 'WestBengal', 'TamilNadu', 'Jharkhand', 'AndhraPradesh',\n",
       "       'Maharashtra', 'Gujarat', 'Kerala', 'MadhyaPradesh', 'Karnataka',\n",
       "       'Rajasthan', 'Orissa', 'Punjab', 'UttarPradesh', 'Nagaland',\n",
       "       'Haryana', 'Telangana', 'Chhattisgarh', 'Bihar', 'JammuandKashmir',\n",
       "       'Assam', 'Goa', 'Mizoram', 'Tripura', 'Uttaranchal', nan,\n",
       "       'Pondicherry', 'Manipur', 'Meghalaya', 'ArunachalPradesh',\n",
       "       'HimachalPradesh', 'Chandigarh', 'AndamanandNicobarIslands'],\n",
       "      dtype=object)"
      ]
     },
     "execution_count": 7,
     "metadata": {},
     "output_type": "execute_result"
    }
   ],
   "source": [
    "data1['state'].unique()"
   ]
  },
  {
   "cell_type": "code",
   "execution_count": 8,
   "metadata": {},
   "outputs": [],
   "source": [
    "data_dict = {'Pune':'Maharashtra', 'Visakhapatnam':'AndhraPradesh', 'Indore':'MadhyaPradesh',\n",
    "             'Chennai':'TamilNadu', 'Delhi':'Delhi','Channapatna':'Karnataka', 'Jaipur':'Rajasthan', \n",
    "                       'Gangarampur':'WestBengal', 'Arambagh':'WestBengal'}"
   ]
  },
  {
   "cell_type": "code",
   "execution_count": 9,
   "metadata": {},
   "outputs": [],
   "source": [
    "data1.loc[data1['state'].isnull(),'state']= data1['city'].map(data_dict)"
   ]
  },
  {
   "cell_type": "code",
   "execution_count": 10,
   "metadata": {},
   "outputs": [
    {
     "data": {
      "text/plain": [
       "event_id       0\n",
       "device_id    453\n",
       "timestamp      0\n",
       "longitude    423\n",
       "latitude     423\n",
       "city           0\n",
       "state          0\n",
       "dtype: int64"
      ]
     },
     "execution_count": 10,
     "metadata": {},
     "output_type": "execute_result"
    }
   ],
   "source": [
    "data1.isnull().sum()"
   ]
  },
  {
   "cell_type": "markdown",
   "metadata": {},
   "source": [
    "### Method-2"
   ]
  },
  {
   "cell_type": "code",
   "execution_count": 11,
   "metadata": {},
   "outputs": [],
   "source": [
    "# data1['state'] = data1.groupby('[city]',sort= False)['state'].apply(lambda x:x.fillna(x.value_counts().index[0]))"
   ]
  },
  {
   "cell_type": "markdown",
   "metadata": {},
   "source": [
    "### Filling Longitude using city value"
   ]
  },
  {
   "cell_type": "markdown",
   "metadata": {},
   "source": [
    "### Method-1"
   ]
  },
  {
   "cell_type": "code",
   "execution_count": 12,
   "metadata": {},
   "outputs": [],
   "source": [
    "data1['longitude'] = data1['longitude'].fillna(data1.groupby('city')['longitude'].transform('mean'))"
   ]
  },
  {
   "cell_type": "code",
   "execution_count": 13,
   "metadata": {},
   "outputs": [
    {
     "data": {
      "text/plain": [
       "0"
      ]
     },
     "execution_count": 13,
     "metadata": {},
     "output_type": "execute_result"
    }
   ],
   "source": [
    "data1['longitude'].isnull().sum()"
   ]
  },
  {
   "cell_type": "markdown",
   "metadata": {},
   "source": [
    "### Method -2"
   ]
  },
  {
   "cell_type": "code",
   "execution_count": 14,
   "metadata": {},
   "outputs": [],
   "source": [
    "# data1['longitude'].unique()"
   ]
  },
  {
   "cell_type": "code",
   "execution_count": 15,
   "metadata": {},
   "outputs": [],
   "source": [
    "# data1[data1['longitude'].isnull()]['city'].unique()"
   ]
  },
  {
   "cell_type": "code",
   "execution_count": 16,
   "metadata": {},
   "outputs": [],
   "source": [
    "# lon_dict = {'Delhi':77.216721, 'Indore':75.810692, 'Visakhapatnam':83.218483, 'Chennai':80.237617, 'Pune':73.856255, \n",
    "#             'Jaipur':75.778885,'Araria':87.448013, 'Moga':75.171707, 'Bagaha':84.072235}"
   ]
  },
  {
   "cell_type": "code",
   "execution_count": 17,
   "metadata": {},
   "outputs": [],
   "source": [
    "# data1.loc[data1['longitude'].isnull(),'longitude']= data1['city'].map(lon_dict)"
   ]
  },
  {
   "cell_type": "markdown",
   "metadata": {},
   "source": [
    "### Filling Latitude using city value"
   ]
  },
  {
   "cell_type": "markdown",
   "metadata": {},
   "source": [
    "### Method -1"
   ]
  },
  {
   "cell_type": "code",
   "execution_count": 18,
   "metadata": {},
   "outputs": [],
   "source": [
    "data1['latitude'] = data1['latitude'].fillna(data1.groupby('city')['latitude'].transform('mean'))"
   ]
  },
  {
   "cell_type": "code",
   "execution_count": 19,
   "metadata": {},
   "outputs": [
    {
     "data": {
      "text/plain": [
       "0          28.730140\n",
       "2          28.757906\n",
       "8          28.757914\n",
       "13         28.758381\n",
       "17         28.715664\n",
       "             ...    \n",
       "3252936    28.720270\n",
       "3252937    28.713440\n",
       "3252940    28.751234\n",
       "3252944    28.744720\n",
       "3252947    28.764065\n",
       "Name: latitude, Length: 744276, dtype: float64"
      ]
     },
     "execution_count": 19,
     "metadata": {},
     "output_type": "execute_result"
    }
   ],
   "source": [
    "data1[data1['city']=='Delhi']['latitude']"
   ]
  },
  {
   "cell_type": "markdown",
   "metadata": {},
   "source": [
    "### Method-2"
   ]
  },
  {
   "cell_type": "code",
   "execution_count": 20,
   "metadata": {},
   "outputs": [],
   "source": [
    "# data1[data1['latitude'].isnull()]['city'].unique()"
   ]
  },
  {
   "cell_type": "code",
   "execution_count": 21,
   "metadata": {},
   "outputs": [],
   "source": [
    "# lat_dict = {'Delhi':28.644800, 'Indore':22.636383, 'Visakhapatnam':17.686815, 'Chennai':13.067439, 'Pune':18.516726, \n",
    "#             'Jaipur':26.922070,'Araria':26.134132, 'Moga':30.816460, 'Bagaha':27.122196}"
   ]
  },
  {
   "cell_type": "code",
   "execution_count": 22,
   "metadata": {},
   "outputs": [],
   "source": [
    "# data1.loc[data1['latitude'].isnull(),'latitude']= data1['city'].map(lat_dict)"
   ]
  },
  {
   "cell_type": "code",
   "execution_count": 23,
   "metadata": {},
   "outputs": [
    {
     "data": {
      "text/plain": [
       "event_id       0\n",
       "device_id    453\n",
       "timestamp      0\n",
       "longitude      0\n",
       "latitude       0\n",
       "city           0\n",
       "state          0\n",
       "dtype: int64"
      ]
     },
     "execution_count": 23,
     "metadata": {},
     "output_type": "execute_result"
    }
   ],
   "source": [
    "data1.isnull().sum()"
   ]
  },
  {
   "cell_type": "markdown",
   "metadata": {},
   "source": [
    "### Filling device id using alternate columns"
   ]
  },
  {
   "cell_type": "markdown",
   "metadata": {},
   "source": [
    "### Method -1"
   ]
  },
  {
   "cell_type": "code",
   "execution_count": 24,
   "metadata": {},
   "outputs": [],
   "source": [
    "# data1['device_id'] = data1.groupby(['city'],sort= False)['device_id'].apply(lambda x:x.fillna(x.mean))"
   ]
  },
  {
   "cell_type": "code",
   "execution_count": 25,
   "metadata": {},
   "outputs": [],
   "source": [
    "# data1['device_id'] .isnull().sum()"
   ]
  },
  {
   "cell_type": "markdown",
   "metadata": {},
   "source": [
    "### Method-2"
   ]
  },
  {
   "cell_type": "code",
   "execution_count": 26,
   "metadata": {},
   "outputs": [
    {
     "data": {
      "text/plain": [
       "array(['Indore', 'Jaipur', 'Hoshiarpur', 'Pune', 'Visakhapatnam', 'Delhi',\n",
       "       'Chennai', 'Bardoli', 'Jetpur'], dtype=object)"
      ]
     },
     "execution_count": 26,
     "metadata": {},
     "output_type": "execute_result"
    }
   ],
   "source": [
    "data1[data1['device_id'].isnull()]['city'].unique()"
   ]
  },
  {
   "cell_type": "code",
   "execution_count": 27,
   "metadata": {},
   "outputs": [
    {
     "data": {
      "text/plain": [
       "2055       False\n",
       "26367      False\n",
       "42088       True\n",
       "43061       True\n",
       "44823      False\n",
       "           ...  \n",
       "3212337     True\n",
       "3215120     True\n",
       "3230115     True\n",
       "3235494     True\n",
       "3250939     True\n",
       "Name: city, Length: 453, dtype: bool"
      ]
     },
     "execution_count": 27,
     "metadata": {},
     "output_type": "execute_result"
    }
   ],
   "source": [
    "data1[data1['device_id'].isnull()]['city'].duplicated()"
   ]
  },
  {
   "cell_type": "code",
   "execution_count": 28,
   "metadata": {},
   "outputs": [
    {
     "data": {
      "text/plain": [
       "array(['MadhyaPradesh', 'Rajasthan', 'Punjab', 'Maharashtra',\n",
       "       'AndhraPradesh', 'Delhi', 'TamilNadu', 'Gujarat'], dtype=object)"
      ]
     },
     "execution_count": 28,
     "metadata": {},
     "output_type": "execute_result"
    }
   ],
   "source": [
    "data1[data1['device_id'].isnull()]['state'].unique()"
   ]
  },
  {
   "cell_type": "code",
   "execution_count": 29,
   "metadata": {},
   "outputs": [
    {
     "name": "stdout",
     "output_type": "stream",
     "text": [
      "Mode of device_id having city is Indore :  0    3.751556e+18\n",
      "dtype: float64\n",
      "Mode of device_id having city is Jaipur :  0   -5.330179e+18\n",
      "dtype: float64\n",
      "Mode of device_id having city is Hoshiarpur :  0    1.750779e+18\n",
      "dtype: float64\n",
      "Mode of device_id having city is Pune :  0    4.428421e+17\n",
      "dtype: float64\n",
      "Mode of device_id having city is Visakhapatnam :  0    3.137054e+18\n",
      "dtype: float64\n",
      "Mode of device_id having city is Delhi :  0   -6.242501e+18\n",
      "dtype: float64\n",
      "Mode of device_id having city is Chennai :  0    5.536513e+18\n",
      "dtype: float64\n",
      "Mode of device_id having city is Bardoli :  0   -8.215771e+18\n",
      "dtype: float64\n",
      "Mode of device_id having city is Jetpur :  0   -1.688015e+18\n",
      "dtype: float64\n"
     ]
    }
   ],
   "source": [
    "print(\"Mode of device_id having city is Indore : \",data1[data1['city']=='Indore']['device_id'].mode())\n",
    "print(\"Mode of device_id having city is Jaipur : \",data1[data1['city']=='Jaipur']['device_id'].mode())\n",
    "print(\"Mode of device_id having city is Hoshiarpur : \",data1[data1['city']=='Hoshiarpur']['device_id'].mode())\n",
    "print(\"Mode of device_id having city is Pune : \",data1[data1['city']=='Pune']['device_id'].mode())\n",
    "print(\"Mode of device_id having city is Visakhapatnam : \",data1[data1['city']=='Visakhapatnam']['device_id'].mode())\n",
    "print(\"Mode of device_id having city is Delhi : \",data1[data1['city']=='Delhi']['device_id'].mode())\n",
    "print(\"Mode of device_id having city is Chennai : \",data1[data1['city']=='Chennai']['device_id'].mode())\n",
    "print(\"Mode of device_id having city is Bardoli : \",data1[data1['city']=='Bardoli']['device_id'].mode())\n",
    "print(\"Mode of device_id having city is Jetpur : \",data1[data1['city']=='Jetpur']['device_id'].mode())"
   ]
  },
  {
   "cell_type": "code",
   "execution_count": 30,
   "metadata": {},
   "outputs": [],
   "source": [
    "device_dict = {'Indore':3.751556e+18, 'Jaipur':-5.330179e+18, 'Hoshiarpur':1.750779e+18, 'Pune':4.428421e+17,\n",
    "               'Visakhapatnam':3.137054e+18, 'Delhi':-6.242501e+18,'Chennai':5.536513e+18, 'Bardoli':-8.215771e+18,\n",
    "               'Jetpur':-1.688015e+18}"
   ]
  },
  {
   "cell_type": "code",
   "execution_count": 31,
   "metadata": {},
   "outputs": [],
   "source": [
    "data1.loc[data1['device_id'].isnull(),'device_id']= data1['city'].map(device_dict)"
   ]
  },
  {
   "cell_type": "code",
   "execution_count": 32,
   "metadata": {},
   "outputs": [
    {
     "data": {
      "text/plain": [
       "36        -8.030970e+18\n",
       "56         1.355801e+18\n",
       "69         6.276407e+18\n",
       "98         5.425313e+18\n",
       "111       -1.750588e+18\n",
       "               ...     \n",
       "3252752   -2.194408e+18\n",
       "3252860    6.790151e+18\n",
       "3252895    6.008275e+18\n",
       "3252905   -5.496503e+18\n",
       "3252913   -1.752057e+18\n",
       "Name: device_id, Length: 189804, dtype: float64"
      ]
     },
     "execution_count": 32,
     "metadata": {},
     "output_type": "execute_result"
    }
   ],
   "source": [
    "data1[data1['city']=='Indore']['device_id']"
   ]
  },
  {
   "cell_type": "code",
   "execution_count": 33,
   "metadata": {},
   "outputs": [
    {
     "data": {
      "text/plain": [
       "event_id       int64\n",
       "device_id    float64\n",
       "timestamp     object\n",
       "longitude    float64\n",
       "latitude     float64\n",
       "city          object\n",
       "state         object\n",
       "dtype: object"
      ]
     },
     "execution_count": 33,
     "metadata": {},
     "output_type": "execute_result"
    }
   ],
   "source": [
    "data1.dtypes"
   ]
  },
  {
   "cell_type": "markdown",
   "metadata": {},
   "source": [
    "## Loading of 2nd and 3rd data set using my-sql-connector"
   ]
  },
  {
   "cell_type": "code",
   "execution_count": 34,
   "metadata": {},
   "outputs": [
    {
     "name": "stdout",
     "output_type": "stream",
     "text": [
      "Requirement already satisfied: mysql-connector-python in c:\\users\\itqlap\\anaconda3\\lib\\site-packages (8.0.28)\n",
      "Requirement already satisfied: protobuf>=3.0.0 in c:\\users\\itqlap\\anaconda3\\lib\\site-packages (from mysql-connector-python) (3.19.4)\n"
     ]
    }
   ],
   "source": [
    "# Install mysql-connector\n",
    "! pip install mysql-connector-python"
   ]
  },
  {
   "cell_type": "code",
   "execution_count": 35,
   "metadata": {},
   "outputs": [],
   "source": [
    "# import mysql.connector to use\n",
    "import mysql.connector"
   ]
  },
  {
   "cell_type": "code",
   "execution_count": 36,
   "metadata": {},
   "outputs": [],
   "source": [
    "cnx = mysql.connector.connect(\n",
    "host ='cpanel.insaid.co',\n",
    "user='student',\n",
    "passwd='student',\n",
    "database='Capstone1')\n",
    "\n",
    "query1 = (\"SELECT * FROM gender_age_train\")\n",
    "query2 = (\"SELECT * FROM phone_brand_device_model\")\n",
    "\n",
    "gender_age = pd.read_sql(query1,cnx)"
   ]
  },
  {
   "cell_type": "code",
   "execution_count": 37,
   "metadata": {},
   "outputs": [],
   "source": [
    "pbdm = pd.read_sql(query2,cnx)\n",
    "# cnx.close()"
   ]
  },
  {
   "cell_type": "code",
   "execution_count": 38,
   "metadata": {},
   "outputs": [],
   "source": [
    "df_gat = gender_age.copy()"
   ]
  },
  {
   "cell_type": "code",
   "execution_count": 39,
   "metadata": {},
   "outputs": [],
   "source": [
    "df_pbdm = pbdm.copy()"
   ]
  },
  {
   "cell_type": "code",
   "execution_count": 40,
   "metadata": {},
   "outputs": [
    {
     "name": "stdout",
     "output_type": "stream",
     "text": [
      "Shape of gender_age_train data : (74645, 4)\n",
      "Shape of phone_brand_device_model : (87726, 3)\n"
     ]
    }
   ],
   "source": [
    "print(\"Shape of gender_age_train data :\",df_gat.shape)\n",
    "print(\"Shape of phone_brand_device_model :\",df_pbdm.shape)"
   ]
  },
  {
   "cell_type": "code",
   "execution_count": 41,
   "metadata": {},
   "outputs": [
    {
     "data": {
      "text/html": [
       "<div>\n",
       "<style scoped>\n",
       "    .dataframe tbody tr th:only-of-type {\n",
       "        vertical-align: middle;\n",
       "    }\n",
       "\n",
       "    .dataframe tbody tr th {\n",
       "        vertical-align: top;\n",
       "    }\n",
       "\n",
       "    .dataframe thead th {\n",
       "        text-align: right;\n",
       "    }\n",
       "</style>\n",
       "<table border=\"1\" class=\"dataframe\">\n",
       "  <thead>\n",
       "    <tr style=\"text-align: right;\">\n",
       "      <th></th>\n",
       "      <th>device_id</th>\n",
       "      <th>gender</th>\n",
       "      <th>age</th>\n",
       "      <th>group</th>\n",
       "    </tr>\n",
       "  </thead>\n",
       "  <tbody>\n",
       "    <tr>\n",
       "      <th>0</th>\n",
       "      <td>-8076087639492063270</td>\n",
       "      <td>M</td>\n",
       "      <td>35</td>\n",
       "      <td>M32-38</td>\n",
       "    </tr>\n",
       "    <tr>\n",
       "      <th>1</th>\n",
       "      <td>-2897161552818060146</td>\n",
       "      <td>M</td>\n",
       "      <td>35</td>\n",
       "      <td>M32-38</td>\n",
       "    </tr>\n",
       "  </tbody>\n",
       "</table>\n",
       "</div>"
      ],
      "text/plain": [
       "             device_id gender  age   group\n",
       "0 -8076087639492063270      M   35  M32-38\n",
       "1 -2897161552818060146      M   35  M32-38"
      ]
     },
     "execution_count": 41,
     "metadata": {},
     "output_type": "execute_result"
    }
   ],
   "source": [
    "df_gat.head(2)"
   ]
  },
  {
   "cell_type": "code",
   "execution_count": 42,
   "metadata": {},
   "outputs": [
    {
     "data": {
      "text/html": [
       "<div>\n",
       "<style scoped>\n",
       "    .dataframe tbody tr th:only-of-type {\n",
       "        vertical-align: middle;\n",
       "    }\n",
       "\n",
       "    .dataframe tbody tr th {\n",
       "        vertical-align: top;\n",
       "    }\n",
       "\n",
       "    .dataframe thead th {\n",
       "        text-align: right;\n",
       "    }\n",
       "</style>\n",
       "<table border=\"1\" class=\"dataframe\">\n",
       "  <thead>\n",
       "    <tr style=\"text-align: right;\">\n",
       "      <th></th>\n",
       "      <th>device_id</th>\n",
       "      <th>phone_brand</th>\n",
       "      <th>device_model</th>\n",
       "    </tr>\n",
       "  </thead>\n",
       "  <tbody>\n",
       "    <tr>\n",
       "      <th>0</th>\n",
       "      <td>1877775838486905855</td>\n",
       "      <td>vivo</td>\n",
       "      <td>Y13</td>\n",
       "    </tr>\n",
       "    <tr>\n",
       "      <th>1</th>\n",
       "      <td>-3766087376657242966</td>\n",
       "      <td>小米</td>\n",
       "      <td>V183</td>\n",
       "    </tr>\n",
       "  </tbody>\n",
       "</table>\n",
       "</div>"
      ],
      "text/plain": [
       "             device_id phone_brand device_model\n",
       "0  1877775838486905855        vivo          Y13\n",
       "1 -3766087376657242966          小米         V183"
      ]
     },
     "execution_count": 42,
     "metadata": {},
     "output_type": "execute_result"
    }
   ],
   "source": [
    "df_pbdm.head(2)"
   ]
  },
  {
   "cell_type": "markdown",
   "metadata": {},
   "source": [
    "### Check null value in gender_age_train and phone_brand_device_model data"
   ]
  },
  {
   "cell_type": "code",
   "execution_count": 43,
   "metadata": {},
   "outputs": [
    {
     "name": "stdout",
     "output_type": "stream",
     "text": [
      "Number of rows:: 74645\n",
      "Number of columns:: 4\n",
      "Total null value in gender_age_train \n"
     ]
    },
    {
     "data": {
      "text/plain": [
       "device_id    0\n",
       "gender       0\n",
       "age          0\n",
       "group        0\n",
       "dtype: int64"
      ]
     },
     "execution_count": 43,
     "metadata": {},
     "output_type": "execute_result"
    }
   ],
   "source": [
    "print(\"Number of rows::\",df_gat.shape[0])\n",
    "print(\"Number of columns::\",df_gat.shape[1] )\n",
    "print(\"Total null value in gender_age_train \")\n",
    "df_gat.isnull().sum()\n"
   ]
  },
  {
   "cell_type": "code",
   "execution_count": 44,
   "metadata": {},
   "outputs": [
    {
     "name": "stdout",
     "output_type": "stream",
     "text": [
      "<class 'pandas.core.frame.DataFrame'>\n",
      "RangeIndex: 74645 entries, 0 to 74644\n",
      "Data columns (total 4 columns):\n",
      " #   Column     Non-Null Count  Dtype \n",
      "---  ------     --------------  ----- \n",
      " 0   device_id  74645 non-null  int64 \n",
      " 1   gender     74645 non-null  object\n",
      " 2   age        74645 non-null  int64 \n",
      " 3   group      74645 non-null  object\n",
      "dtypes: int64(2), object(2)\n",
      "memory usage: 2.3+ MB\n"
     ]
    }
   ],
   "source": [
    "df_gat.info()"
   ]
  },
  {
   "cell_type": "code",
   "execution_count": 45,
   "metadata": {},
   "outputs": [
    {
     "name": "stdout",
     "output_type": "stream",
     "text": [
      "Number of rows:: 87726\n",
      "Number of columns:: 3\n",
      "Total null value in phone_brand_device_model data \n"
     ]
    },
    {
     "data": {
      "text/plain": [
       "device_id       0\n",
       "phone_brand     0\n",
       "device_model    0\n",
       "dtype: int64"
      ]
     },
     "execution_count": 45,
     "metadata": {},
     "output_type": "execute_result"
    }
   ],
   "source": [
    "print(\"Number of rows::\",df_pbdm.shape[0])\n",
    "print(\"Number of columns::\",df_pbdm.shape[1] )\n",
    "print(\"Total null value in phone_brand_device_model data \")\n",
    "df_pbdm.isnull().sum()"
   ]
  },
  {
   "cell_type": "code",
   "execution_count": 46,
   "metadata": {},
   "outputs": [
    {
     "name": "stdout",
     "output_type": "stream",
     "text": [
      "<class 'pandas.core.frame.DataFrame'>\n",
      "RangeIndex: 87726 entries, 0 to 87725\n",
      "Data columns (total 3 columns):\n",
      " #   Column        Non-Null Count  Dtype \n",
      "---  ------        --------------  ----- \n",
      " 0   device_id     87726 non-null  int64 \n",
      " 1   phone_brand   87726 non-null  object\n",
      " 2   device_model  87726 non-null  object\n",
      "dtypes: int64(1), object(2)\n",
      "memory usage: 2.0+ MB\n"
     ]
    }
   ],
   "source": [
    "df_pbdm.info()"
   ]
  },
  {
   "cell_type": "code",
   "execution_count": 47,
   "metadata": {},
   "outputs": [
    {
     "name": "stdout",
     "output_type": "stream",
     "text": [
      "Number of Unique : 116\n"
     ]
    },
    {
     "data": {
      "text/plain": [
       "array(['vivo', '小米', 'OPPO', '三星', '酷派', '联想 ', '华为', '奇酷', '魅族', '斐讯',\n",
       "       '中国移动', 'HTC', '天语', '至尊宝', 'LG', '欧博信', '优米', 'ZUK', '努比亚', '惠普',\n",
       "       '尼比鲁', '美图', '乡米', '摩托罗拉', '梦米', '锤子', '富可视', '乐视', '海信', '百立丰',\n",
       "       '一加', '语信', '海尔', '酷比', '纽曼', '波导', '朵唯', '聆韵', 'TCL', '酷珀', '爱派尔',\n",
       "       'LOGO', '青葱', '果米', '华硕', '昂达', '艾优尼', '康佳', '优购', '邦华', '赛博宇华',\n",
       "       '黑米', 'Lovme', '先锋', 'E派', '神舟', '诺基亚', '普耐尔', '糖葫芦', '亿通', '欧新',\n",
       "       '米奇', '酷比魔方', '蓝魔', '小杨树', '贝尔丰', '糯米', '米歌', 'E人E本', '西米', '大Q',\n",
       "       '台电', '飞利浦', '唯米', '大显', '长虹', '维图', '青橙', '本为', '虾米', '夏新', '帷幄',\n",
       "       '百加', 'SUGAR', '欧奇', '世纪星', '智镁', '欧比', '基伍', '飞秒', '德赛', '易派',\n",
       "       '谷歌', '金星数码', '广信', '诺亚信', 'MIL', '白米', '大可乐', '宝捷讯', '优语', '首云',\n",
       "       '瑞米', '瑞高', '沃普丰', '摩乐', '鲜米', '凯利通', '唯比', '欧沃', '丰米', '恒宇丰',\n",
       "       '奥克斯', '西门子', '欧乐迪', 'PPTV'], dtype=object)"
      ]
     },
     "execution_count": 47,
     "metadata": {},
     "output_type": "execute_result"
    }
   ],
   "source": [
    "print(\"Number of Unique :\",df_pbdm['phone_brand'].nunique())\n",
    "df_pbdm['phone_brand'].unique()"
   ]
  },
  {
   "cell_type": "code",
   "execution_count": 48,
   "metadata": {},
   "outputs": [],
   "source": [
    "phone_brand_unique_chinese = ['vivo', '小米', 'OPPO', '三星', '酷派', '联想 ', '华为', '奇酷', '魅族', '斐讯',\n",
    "       '中国移动', 'HTC', '天语', '至尊宝', 'LG', '欧博信', '优米', 'ZUK', '努比亚', '惠普',\n",
    "       '尼比鲁', '美图', '乡米', '摩托罗拉', '梦米', '锤子', '富可视', '乐视', '海信', '百立丰',\n",
    "       '一加', '语信', '海尔', '酷比', '纽曼', '波导', '朵唯', '聆韵', 'TCL', '酷珀', '爱派尔',\n",
    "       'LOGO', '青葱', '果米', '华硕', '昂达', '艾优尼', '康佳', '优购', '邦华', '赛博宇华',\n",
    "       '黑米', 'Lovme', '先锋', 'E派', '神舟', '诺基亚', '普耐尔', '糖葫芦', '亿通', '欧新',\n",
    "       '米奇', '酷比魔方', '蓝魔', '小杨树', '贝尔丰', '糯米', '米歌', 'E人E本', '西米', '大Q',\n",
    "       '台电', '飞利浦', '唯米', '大显', '长虹', '维图', '青橙', '本为', '虾米', '夏新', '帷幄',\n",
    "       '百加', 'SUGAR', '欧奇', '世纪星', '智镁', '欧比', '基伍', '飞秒', '德赛', '易派',\n",
    "       '谷歌', '金星数码', '广信', '诺亚信', 'MIL', '白米', '大可乐', '宝捷讯', '优语', '首云',\n",
    "       '瑞米', '瑞高', '沃普丰', '摩乐', '鲜米', '凯利通', '唯比', '欧沃', '丰米', '恒宇丰',\n",
    "       '奥克斯', '西门子', '欧乐迪', 'PPTV']"
   ]
  },
  {
   "cell_type": "code",
   "execution_count": 49,
   "metadata": {},
   "outputs": [
    {
     "name": "stdout",
     "output_type": "stream",
     "text": [
      "1467\n"
     ]
    },
    {
     "data": {
      "text/plain": [
       "array(['Y13', 'V183', 'R7s', ..., 'Galaxy Tab S T705', 'IVO 8800',\n",
       "       'U59GT'], dtype=object)"
      ]
     },
     "execution_count": 49,
     "metadata": {},
     "output_type": "execute_result"
    }
   ],
   "source": [
    "print(df_pbdm['device_model'].nunique())\n",
    "df_pbdm['device_model'].unique()"
   ]
  },
  {
   "cell_type": "code",
   "execution_count": 50,
   "metadata": {},
   "outputs": [
    {
     "name": "stdout",
     "output_type": "stream",
     "text": [
      "<class 'pandas.core.series.Series'>\n"
     ]
    }
   ],
   "source": [
    "print(type(df_pbdm['phone_brand']))"
   ]
  },
  {
   "cell_type": "code",
   "execution_count": 51,
   "metadata": {},
   "outputs": [],
   "source": [
    "# Translate phone brand from chinese to english\n",
    "df_pbdm = df_pbdm.replace(['vivo', 'Xiaomi', 'OPPO', 'Samsung', 'Coolpad', 'Lenovo', 'Huawei',\n",
    "       '奇酷', 'Meizu', '斐讯', '中国移动', 'HTC', '天语', '至尊宝', 'LG', '欧博信', '优米',\n",
    "       'ZUK', '努比亚', '惠普', '尼比鲁', '美图', '乡米', '摩托罗拉', '梦米', '锤子', '富可视',\n",
    "       'LeEco', '海信', '百立丰', '一加', '语信', '海尔', '酷比', '纽曼', '波导', '朵唯',\n",
    "       '聆韵', 'TCL', '酷珀', '爱派尔', 'LOGO', '青葱', '果米', '华硕', '昂达', '艾优尼',\n",
    "       '康佳', '优购', '邦华', '赛博宇华', '黑米', 'Lovme', '先锋', 'E派', '神舟', '诺基亚',\n",
    "       '普耐尔', '糖葫芦', '亿通', '欧新', '米奇', '酷比魔方', '蓝魔', '小杨树', '贝尔丰', '糯米',\n",
    "       '米歌', 'E人E本', '西米', '大Q', '台电', '飞利浦', '唯米', '大显', '长虹', '维图',\n",
    "       '青橙', '本为', '虾米', '夏新', '帷幄', '百加', 'SUGAR', '欧奇', '世纪星', '智镁',\n",
    "       '欧比', '基伍', '飞秒', '德赛', '易派', '谷歌', '金星数码', '广信', '诺亚信', 'MIL',\n",
    "       '白米', '大可乐', '宝捷讯', '优语', '首云', '瑞米', '瑞高', '沃普丰', '摩乐', '鲜米',\n",
    "       '凯利通', '唯比', '欧沃', '丰米', '恒宇丰', '奥克斯', '西门子', '欧乐迪', 'PPTV','小米', \n",
    "                           '三星', '酷派', '联想 ', '华为',  '魅族','乐视'],\n",
    "                          ['vivo', 'Xiaomi', 'OPPO', 'Samsung', 'Coolpad', 'Lenovo', 'Huawei',\n",
    "       'Qiku', 'Meizu', 'Phixun', 'China Mobile', 'HTC', 'Tianyu', 'Supreme Treasure', 'LG', 'Oboxin', 'Youmi',\n",
    "       'ZUK', 'Nubia', 'HP', 'Nibiru', 'Meitu', 'Xiangmi', 'Motorola', 'Dream rice', 'Hammer', 'InFocus',\n",
    "       'LeEco', 'Hisense', 'Bailifeng', 'OnePlus', 'Yuxin', 'Haier', 'Coobie', 'Newman', 'Bolead', 'Duowei',\n",
    "       'Ling Yun', 'TCL', 'Cupper', 'Aipaier', 'LOGO', 'Scallion', 'Guomi', 'ASUS', 'Onda', 'AIYuni',\n",
    "       'Konka', 'Yougo', 'Banghua', 'Cyber_Yuhua', 'Black_Rice', 'Lovme', 'Pioneer', 'E_Pai', 'Shenzhou', 'Nokia',\n",
    "       'Purnell', 'Candied_Haws', 'Yitong', 'Ouxin', 'Mickey', 'Cool_Doo_Cube', 'Blue_Devil', 'Little_Poplar', 'Belfeng', 'Glutinous Rice',\n",
    "       'Mi_Ge', 'Eren_Eben', 'Simi', 'Big_Q', 'Taipower', 'Philips', 'Weimi', 'Daxian', 'Changhong', 'Vitu',\n",
    "       'Green_Orange', 'Original', 'Shrimp', 'Xiaxin', 'Huang', 'Baika', 'SUGAR', 'Ouqi', 'Century_Star', 'Chi_magnesium',\n",
    "       'Obi', 'Kivu', 'Femtosecond', 'Desai', 'Epai', 'Google', 'Venus_Digital', 'Guangxin', 'Noah_letter', 'MIL',\n",
    "       'White_Rice', 'Big_Cola', 'Baojiexun', 'Youyu', 'Shouyun', 'Rimi', 'Rigao', 'Wopfeng', 'Mole', 'Xianmi' ,\n",
    "       'Kellytone', 'Weibi', 'Overall', 'Fengmi', 'Hengyufeng', 'Ox', 'Siemens', 'Oraldi', 'PPTV','Xiaomi', 'Samsung',\n",
    "                           'Coolpad', 'Lenovo', 'Huawei', 'Meizu','LeTV'])"
   ]
  },
  {
   "cell_type": "code",
   "execution_count": 52,
   "metadata": {},
   "outputs": [
    {
     "name": "stdout",
     "output_type": "stream",
     "text": [
      "Number of unique value in phone brand device model data : 1467\n"
     ]
    }
   ],
   "source": [
    "print(\"Number of unique value in phone brand device model data :\",df_pbdm['device_model'].nunique())\n",
    "x = (df_pbdm['device_model'].unique().tolist())\n",
    "x.sort()\n",
    "pd.DataFrame(x).to_csv('pbdm.csv',index= False)"
   ]
  },
  {
   "cell_type": "code",
   "execution_count": 53,
   "metadata": {},
   "outputs": [
    {
     "data": {
      "text/plain": [
       "红米note             3500\n",
       "MI 3               2739\n",
       "MI 2S              2547\n",
       "Galaxy Note 3      2378\n",
       "MI 4               2256\n",
       "                   ... \n",
       "T928                  1\n",
       "IdeaTab A1000-T       1\n",
       "U59GT                 1\n",
       "U11                   1\n",
       "U880E                 1\n",
       "Name: device_model, Length: 1467, dtype: int64"
      ]
     },
     "execution_count": 53,
     "metadata": {},
     "output_type": "execute_result"
    }
   ],
   "source": [
    "df_pbdm['device_model'].value_counts()"
   ]
  },
  {
   "cell_type": "code",
   "execution_count": 54,
   "metadata": {},
   "outputs": [],
   "source": [
    "# Translate devise model from chinese to english\n",
    "df_pbdm = df_pbdm.replace(['2016版 Galaxy A5','2016版 Galaxy A7','2016版 Galaxy A9','2016版 Galaxy J7','7295A青春版','Axon天机','Mate 7 青春版',\n",
    "'Moto X极','My 布拉格','Razr V锋芒','T03锋至版','TALK 7X四核','ivvi 小i','ivvi', '小骨Pro','metal 标准版','note顶配版',\n",
    "'三星big foot''中兴远航3','么么哒','么么哒3N','么么哒3S','乐檬3','乐檬K3''乐檬K3 Note','乐檬K31','乐檬X3'\n",
    "'乐玩','乐玩2C','倾城L3','倾城L3C','土星一号','坚果手机','大Q Note','大器2','大器3','大神1s','大神F1','大神F1Plus','大神F2',\n",
    "'大神F2全高清版','大神Note','大神Note3','大神X7','大观4','大观铂顿','天鉴T1','天鉴W808','天鉴W900','天鉴W900S','威武3','威武3C',\n",
    "'小星星','小章鱼','小米4C','小米note','小苹果','小辣椒 3','小辣椒 4','小辣椒 5','小辣椒 6','小辣椒 7','小辣椒 9','小辣椒 M2',\n",
    "'小辣椒 M3','小辣椒 X3','小辣椒S1','小辣椒X4','小鲜2','小鲜3','微客','旋影90w','旗舰版','时尚手机','星星1号','星星2号','春雷HD',\n",
    "'渴望HD','火星一号','火星一号探索版','灵感XL','炫影S+','畅享5','畅享5S','红牛V5','红米','红米1S','红米2','红米2A','红米3',\n",
    "'红米Note2','红米Note3','红米note','红米note增强版','红辣椒','红辣椒 X1','红辣椒NX Plus','红辣椒Note','红辣椒Note3','红辣椒XM',\n",
    "'红辣椒任性版 Plus','纽扣','联想VIBE X2','联想黄金斗士S8','荣耀+','荣耀3C','荣耀3C畅玩版','荣耀3X','荣耀3X畅玩版','荣耀4A',\n",
    "'荣耀6','荣耀6 Plus','荣耀6 plus','荣耀7','荣耀7i','荣耀U8860','荣耀X2','荣耀平板T1-823L','荣耀畅玩4',\n",
    "'荣耀畅玩4C','荣耀畅玩4C运动版','荣耀畅玩4X','荣耀畅玩5','荣耀畅玩5X','荣耀畅玩平板T1','超级手机1','超级手机1 Pro','超级手机1s','超级手机Max',\n",
    "'远航3','醉享','野火S','金刚II','金钢','锋尚','锋尚2','锋尚Max','锋尚Pro','雷霆战机','青春版','青漾3','领世旗舰3','风华3','飞马',\n",
    "'飞马2 Plus','飞马3','魅蓝','魅蓝2','魅蓝NOTE','魅蓝Note 2','魅蓝Note3','魅蓝metal','魔镜 X5','麦芒3','麦芒3S','麦芒4',\n",
    "'黄金斗士A8','黄金斗士Note8','黄金斗士S8畅玩版','黄金斗士青春版'],['2016 galaxy A5','2016 Galaxy A7','2016 Galaxy A9','2016 Galaxy J7','7295A Youth Edition','Axon Sky Machine','Mate 7 Youth Edition',\n",
    "'Moto X Pole','My Prague','Razr V Edge','T03 Frontier Edition','TALK 7X Quad Core','ivvi Small i','ivvi', 'Bone Pro','metal Standard Edition ','note top version',\n",
    "'Samsung big foot''ZTE Yuanhang 3','Momada','Momada 3N','Momada 3S','Lemeng 3','Lemeng K3''Lemeng K3 Note',' Lemeng K31','Lemeng X3'\n",
    "'Lewan', 'Lewan 2C', 'Allure L3', 'Allure L3C', 'Saturn One', 'Nut Mobile', 'Big Q Note', 'Daqi 2', 'Daqi 3', 'Dashen 1s', 'Dashen F1', 'Dashen F1Plus', 'Dashen F2',\n",
    "'Dashen F2 Full HD Version', 'Dashen Note', 'Dashen Note3', 'Dashen X7', 'Daguan 4', 'Daguan Bodun', 'Tianjian T1', 'Tianjian W808', 'Tianjian W900 ','Tianjian W900S','Mighty 3','Mighty 3C',\n",
    "'Little Star', 'Little Octopus', 'Millet 4C', 'Millet note', 'Little Apple', 'Little Chili 3', 'Little Chili 4', 'Little Chili 5', 'Little Chili 6',' Pepper 7', 'Pepper 9', 'Pepper M2',\n",
    "'Little Pepper M3', 'Little Chili X3', 'Little Chili S1', 'Little Chili X4', 'Little Fresh 2', 'Little Fresh 3', 'Weike', 'Xuanying 90w', 'Flagship Edition' ,'Fashion Phone','Star No.1','Star No.2','Spring Thunder HD',\n",
    "'Desire HD', 'Mars 1', 'Mars 1 Exploration Edition', 'Inspiration XL', 'Hyunying S+', 'Enjoy 5', 'Enjoy 5S', 'Red Bull V5', 'Red Rice ','Red Rice 1S','Red Rice 2','Red Rice 2A','Red Rice 3',\n",
    "'Redmi Note2','Redmi Note3','Redmi Note','Redmi Note Enhanced','Red Pepper','Red Pepper X1','Red Pepper NX Plus','Red Pepper Note', 'Red Pepper Note3', 'Red Pepper XM',\n",
    "'Red Chili Capsicum Plus', 'Button', 'Lenovo VIBE X2', 'Lenovo Gold Fighter S8', 'Honor+', 'Honor 3C', 'Honor 3C Play Edition', 'Honor 3X', 'Honor 3X Play Edition','Honor 4A',\n",
    "'Honor 6', 'Honor 6 Plus', 'Honor 6 plus', 'Honor 7', 'Honor 7i', 'Honor U8860', 'Honor X2', 'Honor Tablet T1-823L', 'Honor Play 4','Honor Play 4C',\n",
    "'Honor Play 4C Sports Edition','Honor Play 4X','Honor Play 5','Honor Play 5X','Honor Play Tablet T1','Super Phone 1','Super Phone 1 Pro' ,'Super Phone 1s','Super Phone Max',\n",
    "'Yuanhang 3', 'Drunken Enjoy', 'Wildfire S', 'King Kong II', 'Jingang', 'Fengshang', 'Fengshang 2', 'Fengshang Max', 'Fengshang Pro', 'Thunder Fighter', 'Youth Edition', 'Qingyang 3', 'Lingshi Flagship 3', 'Fenghua 3', 'Pegasus',\n",
    "'Pegasus 2 Plus','Pegasus 3','Charm Blue','Charm Blue 2','Charm Blue NOTE','Charm Blue Note 2','Charm Blue Note3','Charm Blue metal',' Magic Mirror X5', 'Maimang 3', 'Maimang 3S','Maimang 4',\n",
    "'Golden Fighter A8', 'Golden Fighter Note8', 'Golden Fighter S8 Play Edition', 'Golden Fighter Youth Edition'])\n"
   ]
  },
  {
   "cell_type": "code",
   "execution_count": 55,
   "metadata": {},
   "outputs": [
    {
     "data": {
      "text/html": [
       "<div>\n",
       "<style scoped>\n",
       "    .dataframe tbody tr th:only-of-type {\n",
       "        vertical-align: middle;\n",
       "    }\n",
       "\n",
       "    .dataframe tbody tr th {\n",
       "        vertical-align: top;\n",
       "    }\n",
       "\n",
       "    .dataframe thead th {\n",
       "        text-align: right;\n",
       "    }\n",
       "</style>\n",
       "<table border=\"1\" class=\"dataframe\">\n",
       "  <thead>\n",
       "    <tr style=\"text-align: right;\">\n",
       "      <th></th>\n",
       "      <th>device_id</th>\n",
       "      <th>phone_brand</th>\n",
       "      <th>device_model</th>\n",
       "    </tr>\n",
       "  </thead>\n",
       "  <tbody>\n",
       "    <tr>\n",
       "      <th>0</th>\n",
       "      <td>1877775838486905855</td>\n",
       "      <td>vivo</td>\n",
       "      <td>Y13</td>\n",
       "    </tr>\n",
       "    <tr>\n",
       "      <th>1</th>\n",
       "      <td>-3766087376657242966</td>\n",
       "      <td>Xiaomi</td>\n",
       "      <td>V183</td>\n",
       "    </tr>\n",
       "    <tr>\n",
       "      <th>2</th>\n",
       "      <td>-6238937574958215831</td>\n",
       "      <td>OPPO</td>\n",
       "      <td>R7s</td>\n",
       "    </tr>\n",
       "    <tr>\n",
       "      <th>3</th>\n",
       "      <td>8973197758510677470</td>\n",
       "      <td>Samsung</td>\n",
       "      <td>A368t</td>\n",
       "    </tr>\n",
       "    <tr>\n",
       "      <th>4</th>\n",
       "      <td>-2015528097870762664</td>\n",
       "      <td>Xiaomi</td>\n",
       "      <td>Redmi Note2</td>\n",
       "    </tr>\n",
       "  </tbody>\n",
       "</table>\n",
       "</div>"
      ],
      "text/plain": [
       "             device_id phone_brand device_model\n",
       "0  1877775838486905855        vivo          Y13\n",
       "1 -3766087376657242966      Xiaomi         V183\n",
       "2 -6238937574958215831        OPPO          R7s\n",
       "3  8973197758510677470     Samsung        A368t\n",
       "4 -2015528097870762664      Xiaomi  Redmi Note2"
      ]
     },
     "execution_count": 55,
     "metadata": {},
     "output_type": "execute_result"
    }
   ],
   "source": [
    "df_pbdm.head()"
   ]
  },
  {
   "cell_type": "markdown",
   "metadata": {},
   "source": [
    "# Pull out city having state is Maharashtra and use it for analysis"
   ]
  },
  {
   "cell_type": "code",
   "execution_count": 56,
   "metadata": {},
   "outputs": [
    {
     "name": "stdout",
     "output_type": "stream",
     "text": [
      "List of column in event_data :  ['event_id', 'device_id', 'timestamp', 'longitude', 'latitude', 'city', 'state']\n",
      "List of column in gender_age_train :  ['device_id', 'gender', 'age', 'group']\n",
      "List of column in phone_device_brand :  ['device_id', 'phone_brand', 'device_model']\n"
     ]
    }
   ],
   "source": [
    "print(\"List of column in event_data : \", (data1.columns).tolist())\n",
    "print(\"List of column in gender_age_train : \", (df_gat.columns).tolist())\n",
    "print(\"List of column in phone_device_brand : \", (df_pbdm.columns).tolist())"
   ]
  },
  {
   "cell_type": "code",
   "execution_count": 57,
   "metadata": {},
   "outputs": [
    {
     "data": {
      "text/plain": [
       "array(['Delhi', 'WestBengal', 'TamilNadu', 'Jharkhand', 'AndhraPradesh',\n",
       "       'Maharashtra', 'Gujarat', 'Kerala', 'MadhyaPradesh', 'Karnataka',\n",
       "       'Rajasthan', 'Orissa', 'Punjab', 'UttarPradesh', 'Nagaland',\n",
       "       'Haryana', 'Telangana', 'Chhattisgarh', 'Bihar', 'JammuandKashmir',\n",
       "       'Assam', 'Goa', 'Mizoram', 'Tripura', 'Uttaranchal', 'Pondicherry',\n",
       "       'Manipur', 'Meghalaya', 'ArunachalPradesh', 'HimachalPradesh',\n",
       "       'Chandigarh', 'AndamanandNicobarIslands'], dtype=object)"
      ]
     },
     "execution_count": 57,
     "metadata": {},
     "output_type": "execute_result"
    }
   ],
   "source": [
    "data1['state'].unique()"
   ]
  },
  {
   "cell_type": "code",
   "execution_count": 58,
   "metadata": {},
   "outputs": [],
   "source": [
    "# pull out data having state is Maharashtra\n",
    "allocated_state = ['Maharashtra']\n",
    "df_events_data = data1.loc[data1['state'].isin(allocated_state)]"
   ]
  },
  {
   "cell_type": "code",
   "execution_count": 59,
   "metadata": {},
   "outputs": [
    {
     "data": {
      "text/plain": [
       "(677168, 7)"
      ]
     },
     "execution_count": 59,
     "metadata": {},
     "output_type": "execute_result"
    }
   ],
   "source": [
    "df_events_data.shape"
   ]
  },
  {
   "cell_type": "code",
   "execution_count": 60,
   "metadata": {},
   "outputs": [
    {
     "name": "stdout",
     "output_type": "stream",
     "text": [
      "Datatype of column in event_data :  event_id       int64\n",
      "device_id    float64\n",
      "timestamp     object\n",
      "longitude    float64\n",
      "latitude     float64\n",
      "city          object\n",
      "state         object\n",
      "dtype: object\n",
      "Datatype of column in gender_age_train :  device_id     int64\n",
      "gender       object\n",
      "age           int64\n",
      "group        object\n",
      "dtype: object\n",
      "Datatype of column in phone_device_brand :  device_id        int64\n",
      "phone_brand     object\n",
      "device_model    object\n",
      "dtype: object\n"
     ]
    }
   ],
   "source": [
    "print(\"Datatype of column in event_data : \", (data1.dtypes))\n",
    "print(\"Datatype of column in gender_age_train : \", (df_gat.dtypes))\n",
    "print(\"Datatype of column in phone_device_brand : \", (df_pbdm.dtypes))"
   ]
  },
  {
   "cell_type": "code",
   "execution_count": 61,
   "metadata": {},
   "outputs": [
    {
     "name": "stdout",
     "output_type": "stream",
     "text": [
      "Datatype of column in event_data :  event_id       int64\n",
      "device_id    float64\n",
      "timestamp     object\n",
      "longitude    float64\n",
      "latitude     float64\n",
      "city          object\n",
      "state         object\n",
      "dtype: object\n",
      "Datatype of column in gender_age_train :  device_id     int64\n",
      "gender       object\n",
      "age           int64\n",
      "group        object\n",
      "dtype: object\n",
      "Datatype of column in phone_device_brand :  device_id        int64\n",
      "phone_brand     object\n",
      "device_model    object\n",
      "dtype: object\n"
     ]
    }
   ],
   "source": [
    "print(\"Datatype of column in event_data : \", (data1.dtypes))\n",
    "print(\"Datatype of column in gender_age_train : \", (df_gat.dtypes))\n",
    "print(\"Datatype of column in phone_device_brand : \", (df_pbdm.dtypes))"
   ]
  },
  {
   "cell_type": "markdown",
   "metadata": {},
   "source": [
    "### Typecasting the device_id into same dtypes before merging"
   ]
  },
  {
   "cell_type": "code",
   "execution_count": 62,
   "metadata": {},
   "outputs": [],
   "source": [
    "data1['device_id'] = data1['device_id'].astype(float)"
   ]
  },
  {
   "cell_type": "code",
   "execution_count": 63,
   "metadata": {},
   "outputs": [],
   "source": [
    "df_gat['device_id'] = df_gat['device_id'].astype(float)"
   ]
  },
  {
   "cell_type": "code",
   "execution_count": 64,
   "metadata": {},
   "outputs": [],
   "source": [
    "df_pbdm['device_id'] =df_pbdm['device_id'].astype(float)"
   ]
  },
  {
   "cell_type": "code",
   "execution_count": 65,
   "metadata": {},
   "outputs": [],
   "source": [
    "final_data_inner = df_events_data.merge(df_pbdm,on = 'device_id').merge(df_gat,on='device_id')"
   ]
  },
  {
   "cell_type": "code",
   "execution_count": 66,
   "metadata": {},
   "outputs": [
    {
     "data": {
      "text/html": [
       "<div>\n",
       "<style scoped>\n",
       "    .dataframe tbody tr th:only-of-type {\n",
       "        vertical-align: middle;\n",
       "    }\n",
       "\n",
       "    .dataframe tbody tr th {\n",
       "        vertical-align: top;\n",
       "    }\n",
       "\n",
       "    .dataframe thead th {\n",
       "        text-align: right;\n",
       "    }\n",
       "</style>\n",
       "<table border=\"1\" class=\"dataframe\">\n",
       "  <thead>\n",
       "    <tr style=\"text-align: right;\">\n",
       "      <th></th>\n",
       "      <th>event_id</th>\n",
       "      <th>device_id</th>\n",
       "      <th>timestamp</th>\n",
       "      <th>longitude</th>\n",
       "      <th>latitude</th>\n",
       "      <th>city</th>\n",
       "      <th>state</th>\n",
       "      <th>phone_brand</th>\n",
       "      <th>device_model</th>\n",
       "      <th>gender</th>\n",
       "      <th>age</th>\n",
       "      <th>group</th>\n",
       "    </tr>\n",
       "  </thead>\n",
       "  <tbody>\n",
       "    <tr>\n",
       "      <th>0</th>\n",
       "      <td>720049</td>\n",
       "      <td>4.928556e+18</td>\n",
       "      <td>2016-05-06 19:00:52</td>\n",
       "      <td>72.844795</td>\n",
       "      <td>18.974929</td>\n",
       "      <td>Mumbai</td>\n",
       "      <td>Maharashtra</td>\n",
       "      <td>vivo</td>\n",
       "      <td>X5L</td>\n",
       "      <td>M</td>\n",
       "      <td>33</td>\n",
       "      <td>M32-38</td>\n",
       "    </tr>\n",
       "    <tr>\n",
       "      <th>1</th>\n",
       "      <td>3006605</td>\n",
       "      <td>4.928556e+18</td>\n",
       "      <td>2016-05-03 18:43:46</td>\n",
       "      <td>72.844795</td>\n",
       "      <td>18.974929</td>\n",
       "      <td>Mumbai</td>\n",
       "      <td>Maharashtra</td>\n",
       "      <td>vivo</td>\n",
       "      <td>X5L</td>\n",
       "      <td>M</td>\n",
       "      <td>33</td>\n",
       "      <td>M32-38</td>\n",
       "    </tr>\n",
       "    <tr>\n",
       "      <th>2</th>\n",
       "      <td>1269070</td>\n",
       "      <td>4.928556e+18</td>\n",
       "      <td>2016-05-02 00:58:11</td>\n",
       "      <td>72.844795</td>\n",
       "      <td>18.974929</td>\n",
       "      <td>Mumbai</td>\n",
       "      <td>Maharashtra</td>\n",
       "      <td>vivo</td>\n",
       "      <td>X5L</td>\n",
       "      <td>M</td>\n",
       "      <td>33</td>\n",
       "      <td>M32-38</td>\n",
       "    </tr>\n",
       "    <tr>\n",
       "      <th>3</th>\n",
       "      <td>806151</td>\n",
       "      <td>4.928556e+18</td>\n",
       "      <td>2016-05-01 01:49:29</td>\n",
       "      <td>72.844795</td>\n",
       "      <td>18.974929</td>\n",
       "      <td>Mumbai</td>\n",
       "      <td>Maharashtra</td>\n",
       "      <td>vivo</td>\n",
       "      <td>X5L</td>\n",
       "      <td>M</td>\n",
       "      <td>33</td>\n",
       "      <td>M32-38</td>\n",
       "    </tr>\n",
       "    <tr>\n",
       "      <th>4</th>\n",
       "      <td>837585</td>\n",
       "      <td>4.928556e+18</td>\n",
       "      <td>2016-05-01 08:38:09</td>\n",
       "      <td>72.844795</td>\n",
       "      <td>18.974929</td>\n",
       "      <td>Mumbai</td>\n",
       "      <td>Maharashtra</td>\n",
       "      <td>vivo</td>\n",
       "      <td>X5L</td>\n",
       "      <td>M</td>\n",
       "      <td>33</td>\n",
       "      <td>M32-38</td>\n",
       "    </tr>\n",
       "  </tbody>\n",
       "</table>\n",
       "</div>"
      ],
      "text/plain": [
       "   event_id     device_id            timestamp  longitude   latitude    city  \\\n",
       "0    720049  4.928556e+18  2016-05-06 19:00:52  72.844795  18.974929  Mumbai   \n",
       "1   3006605  4.928556e+18  2016-05-03 18:43:46  72.844795  18.974929  Mumbai   \n",
       "2   1269070  4.928556e+18  2016-05-02 00:58:11  72.844795  18.974929  Mumbai   \n",
       "3    806151  4.928556e+18  2016-05-01 01:49:29  72.844795  18.974929  Mumbai   \n",
       "4    837585  4.928556e+18  2016-05-01 08:38:09  72.844795  18.974929  Mumbai   \n",
       "\n",
       "         state phone_brand device_model gender  age   group  \n",
       "0  Maharashtra        vivo          X5L      M   33  M32-38  \n",
       "1  Maharashtra        vivo          X5L      M   33  M32-38  \n",
       "2  Maharashtra        vivo          X5L      M   33  M32-38  \n",
       "3  Maharashtra        vivo          X5L      M   33  M32-38  \n",
       "4  Maharashtra        vivo          X5L      M   33  M32-38  "
      ]
     },
     "execution_count": 66,
     "metadata": {},
     "output_type": "execute_result"
    }
   ],
   "source": [
    "final_data_inner.head()"
   ]
  },
  {
   "cell_type": "code",
   "execution_count": 67,
   "metadata": {},
   "outputs": [
    {
     "data": {
      "text/plain": [
       "array(['Mumbai', 'Pune', 'Pusad', 'Anjangaon', 'Nashik', 'Basmat',\n",
       "       'Akola', 'Wardha', 'Chalisgaon', 'Navghar', 'Aurangabad',\n",
       "       'Karanja', 'Udgir', 'Latur', 'Amravati', 'Amalner', 'Osmanabad',\n",
       "       'Badlapur', 'Dhule', 'Chopda', 'Malegaon', 'Hinganghat',\n",
       "       'Bhusawal', 'Lonavale', 'Nanded', 'Sillod', 'Satara', 'Chandrapur',\n",
       "       'Pandharpur', 'Diglur', 'Palghar', 'Vasai', 'Bhadravati',\n",
       "       'Ballarpur', 'MiraBhayandar', 'Chikhli', 'Baramati', 'Kalyan',\n",
       "       'Buldana', 'Malkapur', 'Ahmadnagar', 'NaviMumbai', 'Ambajogai',\n",
       "       'Shegaon', 'Shahada', 'Nandurbar', 'Ichalkaranji', 'SangliMiraj',\n",
       "       'Shirpur', 'UranIslampur', 'Nagpur', 'Shrirampur', 'Khopoli',\n",
       "       'Kolhapur', 'Warud', 'Sholapur', 'Yavatmal', 'Nalasopara',\n",
       "       'Ratnagiri', 'Manmad', 'Chiplun', 'Jalgaon', 'Wani', 'Pimpri',\n",
       "       'Hingoli', 'Deolali', 'Phaltan', 'Thana', 'Jalna', 'Akot',\n",
       "       'Achalpur', 'Dahanu', 'Barsi', 'Bhiwandi', 'Bhandara', 'Parbhani',\n",
       "       'Ulhasnagar', 'Khadki', 'Bid', 'Khamgaon', 'Gondiya', 'Gadchiroli',\n",
       "       'Virar', 'Washim', 'PuneCantonment', 'Kamthi', 'Kopargaon'],\n",
       "      dtype=object)"
      ]
     },
     "execution_count": 67,
     "metadata": {},
     "output_type": "execute_result"
    }
   ],
   "source": [
    "final_data_inner['city'].unique()"
   ]
  },
  {
   "cell_type": "code",
   "execution_count": 68,
   "metadata": {},
   "outputs": [
    {
     "data": {
      "text/plain": [
       "(677096, 12)"
      ]
     },
     "execution_count": 68,
     "metadata": {},
     "output_type": "execute_result"
    }
   ],
   "source": [
    "final_data_inner.shape"
   ]
  },
  {
   "cell_type": "markdown",
   "metadata": {},
   "source": [
    "## Merging of data using outer join"
   ]
  },
  {
   "cell_type": "code",
   "execution_count": 69,
   "metadata": {},
   "outputs": [
    {
     "name": "stdout",
     "output_type": "stream",
     "text": [
      "Shape of Data after Merging : (3266730, 10)\n"
     ]
    }
   ],
   "source": [
    "# Merging of data1 and df_gat to get combine data\n",
    "final_data_outer = pd.merge(data1,df_gat,on='device_id',how='outer')\n",
    "print(\"Shape of Data after Merging :\",final_data_outer.shape)"
   ]
  },
  {
   "cell_type": "code",
   "execution_count": 70,
   "metadata": {},
   "outputs": [
    {
     "data": {
      "text/html": [
       "<div>\n",
       "<style scoped>\n",
       "    .dataframe tbody tr th:only-of-type {\n",
       "        vertical-align: middle;\n",
       "    }\n",
       "\n",
       "    .dataframe tbody tr th {\n",
       "        vertical-align: top;\n",
       "    }\n",
       "\n",
       "    .dataframe thead th {\n",
       "        text-align: right;\n",
       "    }\n",
       "</style>\n",
       "<table border=\"1\" class=\"dataframe\">\n",
       "  <thead>\n",
       "    <tr style=\"text-align: right;\">\n",
       "      <th></th>\n",
       "      <th>event_id</th>\n",
       "      <th>device_id</th>\n",
       "      <th>timestamp</th>\n",
       "      <th>longitude</th>\n",
       "      <th>latitude</th>\n",
       "      <th>city</th>\n",
       "      <th>state</th>\n",
       "      <th>gender</th>\n",
       "      <th>age</th>\n",
       "      <th>group</th>\n",
       "    </tr>\n",
       "  </thead>\n",
       "  <tbody>\n",
       "    <tr>\n",
       "      <th>0</th>\n",
       "      <td>2765368.0</td>\n",
       "      <td>2.973348e+18</td>\n",
       "      <td>2016-05-07 22:52:05</td>\n",
       "      <td>77.225676</td>\n",
       "      <td>28.73014</td>\n",
       "      <td>Delhi</td>\n",
       "      <td>Delhi</td>\n",
       "      <td>M</td>\n",
       "      <td>35.0</td>\n",
       "      <td>M32-38</td>\n",
       "    </tr>\n",
       "    <tr>\n",
       "      <th>1</th>\n",
       "      <td>1355198.0</td>\n",
       "      <td>2.973348e+18</td>\n",
       "      <td>2016-05-01 01:35:45</td>\n",
       "      <td>77.225676</td>\n",
       "      <td>28.73014</td>\n",
       "      <td>Delhi</td>\n",
       "      <td>Delhi</td>\n",
       "      <td>M</td>\n",
       "      <td>35.0</td>\n",
       "      <td>M32-38</td>\n",
       "    </tr>\n",
       "  </tbody>\n",
       "</table>\n",
       "</div>"
      ],
      "text/plain": [
       "    event_id     device_id            timestamp  longitude  latitude   city  \\\n",
       "0  2765368.0  2.973348e+18  2016-05-07 22:52:05  77.225676  28.73014  Delhi   \n",
       "1  1355198.0  2.973348e+18  2016-05-01 01:35:45  77.225676  28.73014  Delhi   \n",
       "\n",
       "   state gender   age   group  \n",
       "0  Delhi      M  35.0  M32-38  \n",
       "1  Delhi      M  35.0  M32-38  "
      ]
     },
     "execution_count": 70,
     "metadata": {},
     "output_type": "execute_result"
    }
   ],
   "source": [
    "final_data_outer.head(2)"
   ]
  },
  {
   "cell_type": "code",
   "execution_count": 71,
   "metadata": {},
   "outputs": [
    {
     "name": "stdout",
     "output_type": "stream",
     "text": [
      "Shape of Data after Merging : (3279839, 12)\n"
     ]
    }
   ],
   "source": [
    "# Merging of data2 and df_pbdm to get combine data\n",
    "final_data_outer = pd.merge(final_data_outer,df_pbdm,on='device_id',how='outer')\n",
    "print(\"Shape of Data after Merging :\",final_data_outer.shape)"
   ]
  },
  {
   "cell_type": "code",
   "execution_count": 72,
   "metadata": {},
   "outputs": [
    {
     "data": {
      "text/html": [
       "<div>\n",
       "<style scoped>\n",
       "    .dataframe tbody tr th:only-of-type {\n",
       "        vertical-align: middle;\n",
       "    }\n",
       "\n",
       "    .dataframe tbody tr th {\n",
       "        vertical-align: top;\n",
       "    }\n",
       "\n",
       "    .dataframe thead th {\n",
       "        text-align: right;\n",
       "    }\n",
       "</style>\n",
       "<table border=\"1\" class=\"dataframe\">\n",
       "  <thead>\n",
       "    <tr style=\"text-align: right;\">\n",
       "      <th></th>\n",
       "      <th>event_id</th>\n",
       "      <th>device_id</th>\n",
       "      <th>timestamp</th>\n",
       "      <th>longitude</th>\n",
       "      <th>latitude</th>\n",
       "      <th>city</th>\n",
       "      <th>state</th>\n",
       "      <th>gender</th>\n",
       "      <th>age</th>\n",
       "      <th>group</th>\n",
       "      <th>phone_brand</th>\n",
       "      <th>device_model</th>\n",
       "    </tr>\n",
       "  </thead>\n",
       "  <tbody>\n",
       "    <tr>\n",
       "      <th>0</th>\n",
       "      <td>2765368.0</td>\n",
       "      <td>2.973348e+18</td>\n",
       "      <td>2016-05-07 22:52:05</td>\n",
       "      <td>77.225676</td>\n",
       "      <td>28.73014</td>\n",
       "      <td>Delhi</td>\n",
       "      <td>Delhi</td>\n",
       "      <td>M</td>\n",
       "      <td>35.0</td>\n",
       "      <td>M32-38</td>\n",
       "      <td>Youmi</td>\n",
       "      <td>UIMI3</td>\n",
       "    </tr>\n",
       "    <tr>\n",
       "      <th>1</th>\n",
       "      <td>1355198.0</td>\n",
       "      <td>2.973348e+18</td>\n",
       "      <td>2016-05-01 01:35:45</td>\n",
       "      <td>77.225676</td>\n",
       "      <td>28.73014</td>\n",
       "      <td>Delhi</td>\n",
       "      <td>Delhi</td>\n",
       "      <td>M</td>\n",
       "      <td>35.0</td>\n",
       "      <td>M32-38</td>\n",
       "      <td>Youmi</td>\n",
       "      <td>UIMI3</td>\n",
       "    </tr>\n",
       "  </tbody>\n",
       "</table>\n",
       "</div>"
      ],
      "text/plain": [
       "    event_id     device_id            timestamp  longitude  latitude   city  \\\n",
       "0  2765368.0  2.973348e+18  2016-05-07 22:52:05  77.225676  28.73014  Delhi   \n",
       "1  1355198.0  2.973348e+18  2016-05-01 01:35:45  77.225676  28.73014  Delhi   \n",
       "\n",
       "   state gender   age   group phone_brand device_model  \n",
       "0  Delhi      M  35.0  M32-38       Youmi        UIMI3  \n",
       "1  Delhi      M  35.0  M32-38       Youmi        UIMI3  "
      ]
     },
     "execution_count": 72,
     "metadata": {},
     "output_type": "execute_result"
    }
   ],
   "source": [
    "final_data_outer.head(2)"
   ]
  },
  {
   "cell_type": "code",
   "execution_count": 73,
   "metadata": {},
   "outputs": [],
   "source": [
    "# final_data2.to_csv('tabular_data',sep=',',header=True,)"
   ]
  },
  {
   "cell_type": "code",
   "execution_count": 74,
   "metadata": {},
   "outputs": [
    {
     "data": {
      "text/plain": [
       "event_id        26889\n",
       "device_id           0\n",
       "timestamp       26889\n",
       "longitude       26889\n",
       "latitude        26889\n",
       "city            26889\n",
       "state           26889\n",
       "gender          13562\n",
       "age             13562\n",
       "group           13562\n",
       "phone_brand       481\n",
       "device_model      481\n",
       "dtype: int64"
      ]
     },
     "execution_count": 74,
     "metadata": {},
     "output_type": "execute_result"
    }
   ],
   "source": [
    "final_data_outer.isnull().sum()"
   ]
  },
  {
   "cell_type": "markdown",
   "metadata": {},
   "source": [
    "# Merging of data using left join"
   ]
  },
  {
   "cell_type": "code",
   "execution_count": 75,
   "metadata": {},
   "outputs": [
    {
     "name": "stdout",
     "output_type": "stream",
     "text": [
      "Shape of Data after Merging : (3252950, 10)\n"
     ]
    }
   ],
   "source": [
    "# Merging of data1 and df_gat to get combine data\n",
    "final_data_left = pd.merge(data1,df_gat,on='device_id',how='left')\n",
    "print(\"Shape of Data after Merging :\",final_data_left.shape)"
   ]
  },
  {
   "cell_type": "code",
   "execution_count": 76,
   "metadata": {},
   "outputs": [
    {
     "name": "stdout",
     "output_type": "stream",
     "text": [
      "Shape of Data after Merging : (3252950, 12)\n"
     ]
    }
   ],
   "source": [
    "# Merging of data2 and df_pbdm to get combine data\n",
    "final_data_left = pd.merge(final_data_left,df_pbdm,on='device_id',how='left')\n",
    "print(\"Shape of Data after Merging :\",final_data_left.shape)"
   ]
  },
  {
   "cell_type": "code",
   "execution_count": 77,
   "metadata": {},
   "outputs": [
    {
     "data": {
      "text/plain": [
       "event_id          0\n",
       "device_id         0\n",
       "timestamp         0\n",
       "longitude         0\n",
       "latitude          0\n",
       "city              0\n",
       "state             0\n",
       "gender          453\n",
       "age             453\n",
       "group           453\n",
       "phone_brand     453\n",
       "device_model    453\n",
       "dtype: int64"
      ]
     },
     "execution_count": 77,
     "metadata": {},
     "output_type": "execute_result"
    }
   ],
   "source": [
    "final_data_left.isnull().sum()"
   ]
  },
  {
   "cell_type": "markdown",
   "metadata": {},
   "source": [
    "# comparison of  Missing Value % = outer join vs  left join"
   ]
  },
  {
   "cell_type": "code",
   "execution_count": 78,
   "metadata": {},
   "outputs": [
    {
     "name": "stdout",
     "output_type": "stream",
     "text": [
      "===% of missing value using outer Join==================% of missing value using left Join==== \n"
     ]
    },
    {
     "data": {
      "text/html": [
       "<div>\n",
       "<style scoped>\n",
       "    .dataframe tbody tr th:only-of-type {\n",
       "        vertical-align: middle;\n",
       "    }\n",
       "\n",
       "    .dataframe tbody tr th {\n",
       "        vertical-align: top;\n",
       "    }\n",
       "\n",
       "    .dataframe thead th {\n",
       "        text-align: right;\n",
       "    }\n",
       "</style>\n",
       "<table border=\"1\" class=\"dataframe\">\n",
       "  <thead>\n",
       "    <tr style=\"text-align: right;\">\n",
       "      <th></th>\n",
       "      <th>Null_values_outer</th>\n",
       "      <th>percent_missing_in_outer</th>\n",
       "      <th>Null_values_left</th>\n",
       "      <th>percent_missing_in_left</th>\n",
       "    </tr>\n",
       "  </thead>\n",
       "  <tbody>\n",
       "    <tr>\n",
       "      <th>event_id</th>\n",
       "      <td>26889</td>\n",
       "      <td>0.819827</td>\n",
       "      <td>0</td>\n",
       "      <td>0.000000</td>\n",
       "    </tr>\n",
       "    <tr>\n",
       "      <th>device_id</th>\n",
       "      <td>0</td>\n",
       "      <td>0.000000</td>\n",
       "      <td>0</td>\n",
       "      <td>0.000000</td>\n",
       "    </tr>\n",
       "    <tr>\n",
       "      <th>timestamp</th>\n",
       "      <td>26889</td>\n",
       "      <td>0.819827</td>\n",
       "      <td>0</td>\n",
       "      <td>0.000000</td>\n",
       "    </tr>\n",
       "    <tr>\n",
       "      <th>longitude</th>\n",
       "      <td>26889</td>\n",
       "      <td>0.819827</td>\n",
       "      <td>0</td>\n",
       "      <td>0.000000</td>\n",
       "    </tr>\n",
       "    <tr>\n",
       "      <th>latitude</th>\n",
       "      <td>26889</td>\n",
       "      <td>0.819827</td>\n",
       "      <td>0</td>\n",
       "      <td>0.000000</td>\n",
       "    </tr>\n",
       "    <tr>\n",
       "      <th>city</th>\n",
       "      <td>26889</td>\n",
       "      <td>0.819827</td>\n",
       "      <td>0</td>\n",
       "      <td>0.000000</td>\n",
       "    </tr>\n",
       "    <tr>\n",
       "      <th>state</th>\n",
       "      <td>26889</td>\n",
       "      <td>0.819827</td>\n",
       "      <td>0</td>\n",
       "      <td>0.000000</td>\n",
       "    </tr>\n",
       "    <tr>\n",
       "      <th>gender</th>\n",
       "      <td>13562</td>\n",
       "      <td>0.413496</td>\n",
       "      <td>453</td>\n",
       "      <td>0.013926</td>\n",
       "    </tr>\n",
       "    <tr>\n",
       "      <th>age</th>\n",
       "      <td>13562</td>\n",
       "      <td>0.413496</td>\n",
       "      <td>453</td>\n",
       "      <td>0.013926</td>\n",
       "    </tr>\n",
       "    <tr>\n",
       "      <th>group</th>\n",
       "      <td>13562</td>\n",
       "      <td>0.413496</td>\n",
       "      <td>453</td>\n",
       "      <td>0.013926</td>\n",
       "    </tr>\n",
       "    <tr>\n",
       "      <th>phone_brand</th>\n",
       "      <td>481</td>\n",
       "      <td>0.014665</td>\n",
       "      <td>453</td>\n",
       "      <td>0.013926</td>\n",
       "    </tr>\n",
       "    <tr>\n",
       "      <th>device_model</th>\n",
       "      <td>481</td>\n",
       "      <td>0.014665</td>\n",
       "      <td>453</td>\n",
       "      <td>0.013926</td>\n",
       "    </tr>\n",
       "  </tbody>\n",
       "</table>\n",
       "</div>"
      ],
      "text/plain": [
       "              Null_values_outer  percent_missing_in_outer  Null_values_left  \\\n",
       "event_id                  26889                  0.819827                 0   \n",
       "device_id                     0                  0.000000                 0   \n",
       "timestamp                 26889                  0.819827                 0   \n",
       "longitude                 26889                  0.819827                 0   \n",
       "latitude                  26889                  0.819827                 0   \n",
       "city                      26889                  0.819827                 0   \n",
       "state                     26889                  0.819827                 0   \n",
       "gender                    13562                  0.413496               453   \n",
       "age                       13562                  0.413496               453   \n",
       "group                     13562                  0.413496               453   \n",
       "phone_brand                 481                  0.014665               453   \n",
       "device_model                481                  0.014665               453   \n",
       "\n",
       "              percent_missing_in_left  \n",
       "event_id                     0.000000  \n",
       "device_id                    0.000000  \n",
       "timestamp                    0.000000  \n",
       "longitude                    0.000000  \n",
       "latitude                     0.000000  \n",
       "city                         0.000000  \n",
       "state                        0.000000  \n",
       "gender                       0.013926  \n",
       "age                          0.013926  \n",
       "group                        0.013926  \n",
       "phone_brand                  0.013926  \n",
       "device_model                 0.013926  "
      ]
     },
     "execution_count": 78,
     "metadata": {},
     "output_type": "execute_result"
    }
   ],
   "source": [
    "# Missing data %\n",
    "print(\"===% of missing value using outer Join==================% of missing value using left Join==== \")\n",
    "percent_missing_outer = final_data_outer.isnull().sum() * 100 / len(final_data_outer)\n",
    "percent_missing_left = final_data_left.isnull().sum() * 100 / len(final_data_left)\n",
    "missing_value_df = pd.DataFrame({'Null_values_outer': final_data_outer.isnull().sum(),\n",
    "                                 'percent_missing_in_outer': percent_missing_outer,\n",
    "                                'Null_values_left': final_data_left.isnull().sum(),\n",
    "                                 'percent_missing_in_left': percent_missing_left,})\n",
    "missing_value_df"
   ]
  },
  {
   "cell_type": "code",
   "execution_count": 79,
   "metadata": {},
   "outputs": [
    {
     "data": {
      "text/plain": [
       "Index(['event_id', 'device_id', 'timestamp', 'longitude', 'latitude', 'city',\n",
       "       'state', 'gender', 'age', 'group', 'phone_brand', 'device_model'],\n",
       "      dtype='object')"
      ]
     },
     "execution_count": 79,
     "metadata": {},
     "output_type": "execute_result"
    }
   ],
   "source": [
    "final_data_left.columns"
   ]
  },
  {
   "cell_type": "code",
   "execution_count": 80,
   "metadata": {},
   "outputs": [
    {
     "name": "stdout",
     "output_type": "stream",
     "text": [
      "<class 'pandas.core.frame.DataFrame'>\n",
      "Int64Index: 3252950 entries, 0 to 3252949\n",
      "Data columns (total 12 columns):\n",
      " #   Column        Dtype  \n",
      "---  ------        -----  \n",
      " 0   event_id      int64  \n",
      " 1   device_id     float64\n",
      " 2   timestamp     object \n",
      " 3   longitude     float64\n",
      " 4   latitude      float64\n",
      " 5   city          object \n",
      " 6   state         object \n",
      " 7   gender        object \n",
      " 8   age           float64\n",
      " 9   group         object \n",
      " 10  phone_brand   object \n",
      " 11  device_model  object \n",
      "dtypes: float64(4), int64(1), object(7)\n",
      "memory usage: 322.6+ MB\n"
     ]
    }
   ],
   "source": [
    "final_data_left.info()"
   ]
  },
  {
   "cell_type": "code",
   "execution_count": 81,
   "metadata": {},
   "outputs": [
    {
     "data": {
      "text/plain": [
       "event_id          0\n",
       "device_id         0\n",
       "timestamp         0\n",
       "longitude         0\n",
       "latitude          0\n",
       "city              0\n",
       "state             0\n",
       "gender          453\n",
       "age             453\n",
       "group           453\n",
       "phone_brand     453\n",
       "device_model    453\n",
       "dtype: int64"
      ]
     },
     "execution_count": 81,
     "metadata": {},
     "output_type": "execute_result"
    }
   ],
   "source": [
    "final_data_left.isnull().sum()"
   ]
  },
  {
   "cell_type": "markdown",
   "metadata": {},
   "source": [
    "# Handling null value of age"
   ]
  },
  {
   "cell_type": "code",
   "execution_count": 82,
   "metadata": {},
   "outputs": [
    {
     "name": "stdout",
     "output_type": "stream",
     "text": [
      "Minimum age :  1.0\n",
      "Maximum age :  96.0\n",
      "Mean age :  31.96278735998834\n",
      "Median age :  30.0\n",
      "Mode age :  0    26.0\n",
      "dtype: float64\n"
     ]
    }
   ],
   "source": [
    "print('Minimum age : ',final_data_left['age'].min())\n",
    "print('Maximum age : ',final_data_left['age'].max())\n",
    "print('Mean age : ',final_data_left['age'].mean())\n",
    "print('Median age : ',final_data_left['age'].median())\n",
    "print('Mode age : ',final_data_left['age'].mode())"
   ]
  },
  {
   "cell_type": "code",
   "execution_count": 83,
   "metadata": {},
   "outputs": [
    {
     "name": "stderr",
     "output_type": "stream",
     "text": [
      "C:\\Users\\ITQLAP\\anaconda3\\lib\\site-packages\\seaborn\\_decorators.py:36: FutureWarning: Pass the following variable as a keyword arg: x. From version 0.12, the only valid positional argument will be `data`, and passing other arguments without an explicit keyword will result in an error or misinterpretation.\n",
      "  warnings.warn(\n"
     ]
    },
    {
     "data": {
      "image/png": "[encoded data removed]",
      "text/plain": [
       "<Figure size 720x432 with 1 Axes>"
      ]
     },
     "metadata": {
      "needs_background": "light"
     },
     "output_type": "display_data"
    }
   ],
   "source": [
    "fig,ax = plt.subplots(figsize=(10,6))\n",
    "sns.boxplot(final_data_left['age'])\n",
    "plt.show()"
   ]
  },
  {
   "cell_type": "code",
   "execution_count": 84,
   "metadata": {},
   "outputs": [
    {
     "name": "stderr",
     "output_type": "stream",
     "text": [
      "C:\\Users\\ITQLAP\\anaconda3\\lib\\site-packages\\seaborn\\distributions.py:2551: FutureWarning: `distplot` is a deprecated function and will be removed in a future version. Please adapt your code to use either `displot` (a figure-level function with similar flexibility) or `histplot` (an axes-level function for histograms).\n",
      "  warnings.warn(msg, FutureWarning)\n"
     ]
    },
    {
     "data": {
      "image/png": "[encoded data removed]",
      "text/plain": [
       "<Figure size 432x288 with 1 Axes>"
      ]
     },
     "metadata": {
      "needs_background": "light"
     },
     "output_type": "display_data"
    }
   ],
   "source": [
    "sns.distplot(final_data_left['age'])\n",
    "plt.show()"
   ]
  },
  {
   "cell_type": "code",
   "execution_count": 85,
   "metadata": {},
   "outputs": [
    {
     "name": "stdout",
     "output_type": "stream",
     "text": [
      "Total null value in age columns : 453\n",
      "Mean age of data :  30.0\n"
     ]
    }
   ],
   "source": [
    "print(\"Total null value in age columns :\",final_data_left.age.isnull().sum())\n",
    "print('Mean age of data : ',final_data_left['age'].median())"
   ]
  },
  {
   "cell_type": "code",
   "execution_count": 86,
   "metadata": {},
   "outputs": [
    {
     "name": "stdout",
     "output_type": "stream",
     "text": [
      "Total null value in age columns : 0\n"
     ]
    }
   ],
   "source": [
    "final_data_left['age'] =final_data_left.age.fillna(final_data_left['age'].median())\n",
    "print(\"Total null value in age columns :\",final_data_left.age.isnull().sum())"
   ]
  },
  {
   "cell_type": "code",
   "execution_count": 87,
   "metadata": {},
   "outputs": [
    {
     "data": {
      "text/plain": [
       "event_id          0\n",
       "device_id         0\n",
       "timestamp         0\n",
       "longitude         0\n",
       "latitude          0\n",
       "city              0\n",
       "state             0\n",
       "gender          453\n",
       "age               0\n",
       "group           453\n",
       "phone_brand     453\n",
       "device_model    453\n",
       "dtype: int64"
      ]
     },
     "execution_count": 87,
     "metadata": {},
     "output_type": "execute_result"
    }
   ],
   "source": [
    "final_data_left.isnull().sum()"
   ]
  },
  {
   "cell_type": "markdown",
   "metadata": {},
   "source": [
    "# Handling null value in gender"
   ]
  },
  {
   "cell_type": "code",
   "execution_count": 88,
   "metadata": {},
   "outputs": [
    {
     "data": {
      "text/plain": [
       "dtype('O')"
      ]
     },
     "execution_count": 88,
     "metadata": {},
     "output_type": "execute_result"
    }
   ],
   "source": [
    "final_data_left['gender'].dtypes"
   ]
  },
  {
   "cell_type": "code",
   "execution_count": 89,
   "metadata": {},
   "outputs": [
    {
     "data": {
      "text/plain": [
       "array(['M', 'F', nan], dtype=object)"
      ]
     },
     "execution_count": 89,
     "metadata": {},
     "output_type": "execute_result"
    }
   ],
   "source": [
    "final_data_left['gender'].unique()"
   ]
  },
  {
   "cell_type": "code",
   "execution_count": 90,
   "metadata": {},
   "outputs": [
    {
     "name": "stdout",
     "output_type": "stream",
     "text": [
      "Model age of data :  0    M\n",
      "dtype: object\n"
     ]
    }
   ],
   "source": [
    "# As gender is categorical in nature so we will use mode for filling null values\n",
    "print('Model age of data : ',final_data_left['gender'].mode())"
   ]
  },
  {
   "cell_type": "code",
   "execution_count": 91,
   "metadata": {},
   "outputs": [
    {
     "name": "stdout",
     "output_type": "stream",
     "text": [
      "Total null value in gender columns : 0\n"
     ]
    }
   ],
   "source": [
    "final_data_left['gender'] =final_data_left.gender.fillna(final_data_left['gender'].mode()[0])\n",
    "print(\"Total null value in gender columns :\",final_data_left.gender.isnull().sum())"
   ]
  },
  {
   "cell_type": "code",
   "execution_count": 92,
   "metadata": {},
   "outputs": [
    {
     "data": {
      "text/plain": [
       "event_id          0\n",
       "device_id         0\n",
       "timestamp         0\n",
       "longitude         0\n",
       "latitude          0\n",
       "city              0\n",
       "state             0\n",
       "gender            0\n",
       "age               0\n",
       "group           453\n",
       "phone_brand     453\n",
       "device_model    453\n",
       "dtype: int64"
      ]
     },
     "execution_count": 92,
     "metadata": {},
     "output_type": "execute_result"
    }
   ],
   "source": [
    "final_data_left.isna().sum()"
   ]
  },
  {
   "cell_type": "markdown",
   "metadata": {},
   "source": [
    "# Handling null values in phone_brand"
   ]
  },
  {
   "cell_type": "code",
   "execution_count": 93,
   "metadata": {},
   "outputs": [
    {
     "name": "stdout",
     "output_type": "stream",
     "text": [
      "Data type of phone_brand :  object\n",
      "Number of unique value in gender : ['Youmi' 'vivo' 'Xiaomi' 'HTC' 'Samsung' 'Huawei' 'Coolpad' 'Meizu' 'OPPO'\n",
      " 'LeTV' 'China Mobile' 'OnePlus' 'Coobie' 'Nubia' 'Lenovo' 'ASUS' 'LG'\n",
      " 'Tianyu' 'Bolead' 'Nibiru' 'Belfeng' 'Oboxin' 'Nokia' 'Hammer' 'Meitu'\n",
      " 'Qiku' 'PPTV' 'Desai' 'Hisense' 'InFocus' 'TCL' 'Motorola' 'Konka'\n",
      " 'Weimi' 'Duowei' 'Ouxin' 'White_Rice' 'Vitu' 'Blue_Devil' 'ZUK' 'LOGO'\n",
      " 'Bailifeng' 'Xiaxin' 'Black_Rice' 'Shenzhou' nan 'Lovme' 'Taipower'\n",
      " 'Newman' 'Big_Q' 'Cool_Doo_Cube' 'Yuxin' 'Cupper' 'Haier' 'Yitong'\n",
      " 'Baika' 'Kivu' 'Aipaier' 'Guomi' 'Phixun' 'AIYuni' 'Xiangmi'\n",
      " 'Supreme Treasure' 'Simi' 'Ling Yun' 'Noah_letter' 'E_Pai' 'Mi_Ge'\n",
      " 'Little_Poplar' 'Dream rice' 'Scallion' 'Mickey' 'Yougo' 'Onda'\n",
      " 'Green_Orange' 'Kellytone' 'Oraldi' 'Shouyun' 'Epai' 'SUGAR' 'Xianmi'\n",
      " 'Google' 'Big_Cola' 'Purnell' 'Pioneer' 'Obi' 'Wopfeng' 'Banghua'\n",
      " 'Guangxin' 'Baojiexun' 'Changhong' 'Glutinous Rice' 'Ox' 'Ouqi' 'Youyu'\n",
      " 'Venus_Digital' 'Chi_magnesium' 'HP' 'Shrimp' 'Mole' 'Hengyufeng'\n",
      " 'Femtosecond' 'Candied_Haws' 'Weibi' 'Philips' 'Overall']\n"
     ]
    }
   ],
   "source": [
    "print(\"Data type of phone_brand : \",final_data_left['phone_brand'].dtypes)\n",
    "print(\"Number of unique value in gender :\",final_data_left['phone_brand'].unique())"
   ]
  },
  {
   "cell_type": "code",
   "execution_count": 94,
   "metadata": {},
   "outputs": [
    {
     "name": "stdout",
     "output_type": "stream",
     "text": [
      "Model phone_brand of data :  0    Xiaomi\n",
      "dtype: object\n"
     ]
    }
   ],
   "source": [
    "# As gender is categorical in nature so we will use mode for filling null values\n",
    "print('Model phone_brand of data : ',final_data_left['phone_brand'].mode())"
   ]
  },
  {
   "cell_type": "code",
   "execution_count": 95,
   "metadata": {},
   "outputs": [
    {
     "name": "stdout",
     "output_type": "stream",
     "text": [
      "Total null value in phone_brand columns : 0\n"
     ]
    }
   ],
   "source": [
    "final_data_left['phone_brand'] =final_data_left.phone_brand.fillna(final_data_left['phone_brand'].mode()[0])\n",
    "print(\"Total null value in phone_brand columns :\",final_data_left.phone_brand.isnull().sum())"
   ]
  },
  {
   "cell_type": "code",
   "execution_count": 96,
   "metadata": {},
   "outputs": [
    {
     "data": {
      "text/plain": [
       "event_id          0\n",
       "device_id         0\n",
       "timestamp         0\n",
       "longitude         0\n",
       "latitude          0\n",
       "city              0\n",
       "state             0\n",
       "gender            0\n",
       "age               0\n",
       "group           453\n",
       "phone_brand       0\n",
       "device_model    453\n",
       "dtype: int64"
      ]
     },
     "execution_count": 96,
     "metadata": {},
     "output_type": "execute_result"
    }
   ],
   "source": [
    "final_data_left.isna().sum()"
   ]
  },
  {
   "cell_type": "markdown",
   "metadata": {},
   "source": [
    "# Handling null value in device_model"
   ]
  },
  {
   "cell_type": "code",
   "execution_count": 97,
   "metadata": {},
   "outputs": [
    {
     "name": "stdout",
     "output_type": "stream",
     "text": [
      "Data type of device_model :  object\n",
      "Number of unique value in device_model : ['UIMI3' 'X5M' 'MI pad' ... '5860A' 'Find 3' 'T860']\n"
     ]
    }
   ],
   "source": [
    "print(\"Data type of device_model : \",final_data_left['device_model'].dtypes)\n",
    "print(\"Number of unique value in device_model :\",final_data_left['device_model'].unique())"
   ]
  },
  {
   "cell_type": "code",
   "execution_count": 98,
   "metadata": {},
   "outputs": [
    {
     "name": "stdout",
     "output_type": "stream",
     "text": [
      "Model device_model of data :  0    Redmi Note\n",
      "dtype: object\n"
     ]
    }
   ],
   "source": [
    "# As gender is categorical in nature so we will use mode for filling null values\n",
    "print('Model device_model of data : ',final_data_left['device_model'].mode())"
   ]
  },
  {
   "cell_type": "code",
   "execution_count": 99,
   "metadata": {},
   "outputs": [
    {
     "name": "stdout",
     "output_type": "stream",
     "text": [
      "Total null value in device_model columns : 0\n"
     ]
    }
   ],
   "source": [
    "final_data_left['device_model'] =final_data_left.device_model.fillna(final_data_left['device_model'].mode()[0])\n",
    "print(\"Total null value in device_model columns :\",final_data_left.device_model.isnull().sum())"
   ]
  },
  {
   "cell_type": "code",
   "execution_count": 100,
   "metadata": {},
   "outputs": [
    {
     "data": {
      "text/plain": [
       "event_id          0\n",
       "device_id         0\n",
       "timestamp         0\n",
       "longitude         0\n",
       "latitude          0\n",
       "city              0\n",
       "state             0\n",
       "gender            0\n",
       "age               0\n",
       "group           453\n",
       "phone_brand       0\n",
       "device_model      0\n",
       "dtype: int64"
      ]
     },
     "execution_count": 100,
     "metadata": {},
     "output_type": "execute_result"
    }
   ],
   "source": [
    "final_data_left.isnull().sum()"
   ]
  },
  {
   "cell_type": "code",
   "execution_count": 101,
   "metadata": {},
   "outputs": [
    {
     "data": {
      "text/plain": [
       "(3252950, 12)"
      ]
     },
     "execution_count": 101,
     "metadata": {},
     "output_type": "execute_result"
    }
   ],
   "source": [
    "final_data_left.shape"
   ]
  },
  {
   "cell_type": "markdown",
   "metadata": {},
   "source": [
    "# Handling missing value of group"
   ]
  },
  {
   "cell_type": "code",
   "execution_count": 102,
   "metadata": {},
   "outputs": [
    {
     "name": "stdout",
     "output_type": "stream",
     "text": [
      "Data type of group :  object\n",
      "Number of unique value in group : ['M32-38' 'M29-31' 'M23-26' 'F43+' 'M39+' 'M22-' 'F27-28' 'F33-42'\n",
      " 'M27-28' 'F23-' 'F24-26' 'F29-32' nan]\n"
     ]
    }
   ],
   "source": [
    "print(\"Data type of group : \",final_data_left['group'].dtypes)\n",
    "print(\"Number of unique value in group :\",final_data_left['group'].unique())"
   ]
  },
  {
   "cell_type": "code",
   "execution_count": 103,
   "metadata": {},
   "outputs": [
    {
     "name": "stdout",
     "output_type": "stream",
     "text": [
      "Model of group data :  0    M32-38\n",
      "dtype: object\n"
     ]
    }
   ],
   "source": [
    "# As group is categorical in nature so we will use mode for filling null values\n",
    "print('Model of group data : ',final_data_left['group'].mode())"
   ]
  },
  {
   "cell_type": "code",
   "execution_count": 104,
   "metadata": {},
   "outputs": [
    {
     "name": "stdout",
     "output_type": "stream",
     "text": [
      "Total null value in group columns : 0\n"
     ]
    }
   ],
   "source": [
    "final_data_left['group'] =final_data_left.group.fillna(final_data_left['group'].mode()[0])\n",
    "print(\"Total null value in group columns :\",final_data_left.group.isnull().sum())"
   ]
  },
  {
   "cell_type": "code",
   "execution_count": 105,
   "metadata": {},
   "outputs": [
    {
     "data": {
      "text/plain": [
       "array(['M32-38', 'M29-31', 'M23-26', 'F43+', 'M39+', 'M22-', 'F27-28',\n",
       "       'F33-42', 'M27-28', 'F23-', 'F24-26', 'F29-32'], dtype=object)"
      ]
     },
     "execution_count": 105,
     "metadata": {},
     "output_type": "execute_result"
    }
   ],
   "source": [
    "final_data_left['group'].unique()"
   ]
  },
  {
   "cell_type": "code",
   "execution_count": 106,
   "metadata": {},
   "outputs": [
    {
     "name": "stdout",
     "output_type": "stream",
     "text": [
      "Shape of data :  (3252950, 12)\n",
      "********* NiLL Null value and ready for Exploratory data analysis*********\n"
     ]
    },
    {
     "data": {
      "text/plain": [
       "event_id        0\n",
       "device_id       0\n",
       "timestamp       0\n",
       "longitude       0\n",
       "latitude        0\n",
       "city            0\n",
       "state           0\n",
       "gender          0\n",
       "age             0\n",
       "group           0\n",
       "phone_brand     0\n",
       "device_model    0\n",
       "dtype: int64"
      ]
     },
     "execution_count": 106,
     "metadata": {},
     "output_type": "execute_result"
    }
   ],
   "source": [
    "print(\"Shape of data : \",final_data_left.shape)\n",
    "print(\"********* NiLL Null value and ready for Exploratory data analysis*********\")\n",
    "final_data_left.isnull().sum()"
   ]
  },
  {
   "cell_type": "markdown",
   "metadata": {},
   "source": [
    "# Handling and splitting of timestamp to date,time and other"
   ]
  },
  {
   "cell_type": "code",
   "execution_count": 107,
   "metadata": {},
   "outputs": [],
   "source": [
    "# Conerting timestamp to datetime dataframe\n",
    "final_data_left['timestamp']=pd.to_datetime(final_data_left['timestamp'])"
   ]
  },
  {
   "cell_type": "code",
   "execution_count": 108,
   "metadata": {},
   "outputs": [],
   "source": [
    "import datetime as dt\n",
    "final_data_left['Day'] = final_data_left['timestamp'].dt.date\n",
    "final_data_left['Year'] = final_data_left['timestamp'].dt.year\n",
    "final_data_left['Month'] = final_data_left['timestamp'].dt.month\n",
    "final_data_left['Hour'] = final_data_left['timestamp'].dt.hour"
   ]
  },
  {
   "cell_type": "code",
   "execution_count": 109,
   "metadata": {},
   "outputs": [
    {
     "name": "stdout",
     "output_type": "stream",
     "text": [
      "<class 'pandas.core.frame.DataFrame'>\n",
      "Int64Index: 3252950 entries, 0 to 3252949\n",
      "Data columns (total 16 columns):\n",
      " #   Column        Dtype         \n",
      "---  ------        -----         \n",
      " 0   event_id      int64         \n",
      " 1   device_id     float64       \n",
      " 2   timestamp     datetime64[ns]\n",
      " 3   longitude     float64       \n",
      " 4   latitude      float64       \n",
      " 5   city          object        \n",
      " 6   state         object        \n",
      " 7   gender        object        \n",
      " 8   age           float64       \n",
      " 9   group         object        \n",
      " 10  phone_brand   object        \n",
      " 11  device_model  object        \n",
      " 12  Day           object        \n",
      " 13  Year          int64         \n",
      " 14  Month         int64         \n",
      " 15  Hour          int64         \n",
      "dtypes: datetime64[ns](1), float64(4), int64(4), object(7)\n",
      "memory usage: 421.9+ MB\n"
     ]
    }
   ],
   "source": [
    "final_data_left.info()"
   ]
  },
  {
   "cell_type": "code",
   "execution_count": 110,
   "metadata": {},
   "outputs": [
    {
     "data": {
      "text/plain": [
       "event_id        0\n",
       "device_id       0\n",
       "timestamp       0\n",
       "longitude       0\n",
       "latitude        0\n",
       "city            0\n",
       "state           0\n",
       "gender          0\n",
       "age             0\n",
       "group           0\n",
       "phone_brand     0\n",
       "device_model    0\n",
       "Day             0\n",
       "Year            0\n",
       "Month           0\n",
       "Hour            0\n",
       "dtype: int64"
      ]
     },
     "execution_count": 110,
     "metadata": {},
     "output_type": "execute_result"
    }
   ],
   "source": [
    "final_data_left.isnull().sum()"
   ]
  },
  {
   "cell_type": "code",
   "execution_count": 111,
   "metadata": {},
   "outputs": [
    {
     "data": {
      "text/html": [
       "<div>\n",
       "<style scoped>\n",
       "    .dataframe tbody tr th:only-of-type {\n",
       "        vertical-align: middle;\n",
       "    }\n",
       "\n",
       "    .dataframe tbody tr th {\n",
       "        vertical-align: top;\n",
       "    }\n",
       "\n",
       "    .dataframe thead th {\n",
       "        text-align: right;\n",
       "    }\n",
       "</style>\n",
       "<table border=\"1\" class=\"dataframe\">\n",
       "  <thead>\n",
       "    <tr style=\"text-align: right;\">\n",
       "      <th></th>\n",
       "      <th>event_id</th>\n",
       "      <th>device_id</th>\n",
       "      <th>timestamp</th>\n",
       "      <th>longitude</th>\n",
       "      <th>latitude</th>\n",
       "      <th>city</th>\n",
       "      <th>state</th>\n",
       "      <th>gender</th>\n",
       "      <th>age</th>\n",
       "      <th>group</th>\n",
       "      <th>phone_brand</th>\n",
       "      <th>device_model</th>\n",
       "      <th>Day</th>\n",
       "      <th>Year</th>\n",
       "      <th>Month</th>\n",
       "      <th>Hour</th>\n",
       "    </tr>\n",
       "  </thead>\n",
       "  <tbody>\n",
       "    <tr>\n",
       "      <th>0</th>\n",
       "      <td>2765368</td>\n",
       "      <td>2.973348e+18</td>\n",
       "      <td>2016-05-07 22:52:05</td>\n",
       "      <td>77.225676</td>\n",
       "      <td>28.730140</td>\n",
       "      <td>Delhi</td>\n",
       "      <td>Delhi</td>\n",
       "      <td>M</td>\n",
       "      <td>35.0</td>\n",
       "      <td>M32-38</td>\n",
       "      <td>Youmi</td>\n",
       "      <td>UIMI3</td>\n",
       "      <td>2016-05-07</td>\n",
       "      <td>2016</td>\n",
       "      <td>5</td>\n",
       "      <td>22</td>\n",
       "    </tr>\n",
       "    <tr>\n",
       "      <th>1</th>\n",
       "      <td>2955066</td>\n",
       "      <td>4.734221e+18</td>\n",
       "      <td>2016-05-01 20:44:16</td>\n",
       "      <td>88.388361</td>\n",
       "      <td>22.660325</td>\n",
       "      <td>Calcutta</td>\n",
       "      <td>WestBengal</td>\n",
       "      <td>M</td>\n",
       "      <td>30.0</td>\n",
       "      <td>M29-31</td>\n",
       "      <td>vivo</td>\n",
       "      <td>X5M</td>\n",
       "      <td>2016-05-01</td>\n",
       "      <td>2016</td>\n",
       "      <td>5</td>\n",
       "      <td>20</td>\n",
       "    </tr>\n",
       "    <tr>\n",
       "      <th>2</th>\n",
       "      <td>605968</td>\n",
       "      <td>-3.264500e+18</td>\n",
       "      <td>2016-05-02 14:23:04</td>\n",
       "      <td>77.256809</td>\n",
       "      <td>28.757906</td>\n",
       "      <td>Delhi</td>\n",
       "      <td>Delhi</td>\n",
       "      <td>M</td>\n",
       "      <td>24.0</td>\n",
       "      <td>M23-26</td>\n",
       "      <td>Xiaomi</td>\n",
       "      <td>MI pad</td>\n",
       "      <td>2016-05-02</td>\n",
       "      <td>2016</td>\n",
       "      <td>5</td>\n",
       "      <td>14</td>\n",
       "    </tr>\n",
       "    <tr>\n",
       "      <th>3</th>\n",
       "      <td>448114</td>\n",
       "      <td>5.731369e+18</td>\n",
       "      <td>2016-05-03 13:21:16</td>\n",
       "      <td>80.343613</td>\n",
       "      <td>13.153332</td>\n",
       "      <td>Chennai</td>\n",
       "      <td>TamilNadu</td>\n",
       "      <td>M</td>\n",
       "      <td>26.0</td>\n",
       "      <td>M23-26</td>\n",
       "      <td>HTC</td>\n",
       "      <td>One max</td>\n",
       "      <td>2016-05-03</td>\n",
       "      <td>2016</td>\n",
       "      <td>5</td>\n",
       "      <td>13</td>\n",
       "    </tr>\n",
       "    <tr>\n",
       "      <th>4</th>\n",
       "      <td>665740</td>\n",
       "      <td>3.388880e+17</td>\n",
       "      <td>2016-05-06 03:51:05</td>\n",
       "      <td>85.997745</td>\n",
       "      <td>23.842609</td>\n",
       "      <td>Bokaro</td>\n",
       "      <td>Jharkhand</td>\n",
       "      <td>M</td>\n",
       "      <td>30.0</td>\n",
       "      <td>M29-31</td>\n",
       "      <td>Xiaomi</td>\n",
       "      <td>MI 4</td>\n",
       "      <td>2016-05-06</td>\n",
       "      <td>2016</td>\n",
       "      <td>5</td>\n",
       "      <td>3</td>\n",
       "    </tr>\n",
       "  </tbody>\n",
       "</table>\n",
       "</div>"
      ],
      "text/plain": [
       "   event_id     device_id           timestamp  longitude   latitude      city  \\\n",
       "0   2765368  2.973348e+18 2016-05-07 22:52:05  77.225676  28.730140     Delhi   \n",
       "1   2955066  4.734221e+18 2016-05-01 20:44:16  88.388361  22.660325  Calcutta   \n",
       "2    605968 -3.264500e+18 2016-05-02 14:23:04  77.256809  28.757906     Delhi   \n",
       "3    448114  5.731369e+18 2016-05-03 13:21:16  80.343613  13.153332   Chennai   \n",
       "4    665740  3.388880e+17 2016-05-06 03:51:05  85.997745  23.842609    Bokaro   \n",
       "\n",
       "        state gender   age   group phone_brand device_model         Day  Year  \\\n",
       "0       Delhi      M  35.0  M32-38       Youmi        UIMI3  2016-05-07  2016   \n",
       "1  WestBengal      M  30.0  M29-31        vivo          X5M  2016-05-01  2016   \n",
       "2       Delhi      M  24.0  M23-26      Xiaomi       MI pad  2016-05-02  2016   \n",
       "3   TamilNadu      M  26.0  M23-26         HTC      One max  2016-05-03  2016   \n",
       "4   Jharkhand      M  30.0  M29-31      Xiaomi         MI 4  2016-05-06  2016   \n",
       "\n",
       "   Month  Hour  \n",
       "0      5    22  \n",
       "1      5    20  \n",
       "2      5    14  \n",
       "3      5    13  \n",
       "4      5     3  "
      ]
     },
     "execution_count": 111,
     "metadata": {},
     "output_type": "execute_result"
    }
   ],
   "source": [
    "final_data_left.head()"
   ]
  },
  {
   "cell_type": "markdown",
   "metadata": {},
   "source": [
    "# Pull out city having state is Maharashtra and use it for analysis"
   ]
  },
  {
   "cell_type": "code",
   "execution_count": null,
   "metadata": {},
   "outputs": [],
   "source": [
    "# pull out data having state is Maharashtra\n",
    "mumbai_state = ['Maharashtra']\n",
    "mumbai_state_data = final_data_left.loc[data1['state'].isin(mumbai_state)]"
   ]
  },
  {
   "cell_type": "code",
   "execution_count": null,
   "metadata": {},
   "outputs": [],
   "source": [
    "mumbai_state_data.shape"
   ]
  },
  {
   "cell_type": "code",
   "execution_count": null,
   "metadata": {},
   "outputs": [],
   "source": [
    "mumbai_state_data.isna().sum()"
   ]
  },
  {
   "cell_type": "code",
   "execution_count": null,
   "metadata": {},
   "outputs": [],
   "source": [
    "mumbai_state_data.head()"
   ]
  },
  {
   "cell_type": "code",
   "execution_count": null,
   "metadata": {},
   "outputs": [],
   "source": [
    "final_data_left.isna().sum()"
   ]
  },
  {
   "cell_type": "code",
   "execution_count": null,
   "metadata": {},
   "outputs": [],
   "source": [
    "from pathlib import Path  \n",
    "filepath = Path('C:/Users/ITQLAP/OneDrive/Capstonr project-1/mumbai_data.csv')  \n",
    "filepath.parent.mkdir(parents=True, exist_ok=True)  \n",
    "mumbai_state_data.to_csv(filepath)"
   ]
  },
  {
   "cell_type": "code",
   "execution_count": null,
   "metadata": {},
   "outputs": [],
   "source": [
    "from pathlib import Path  \n",
    "filepath = Path('C:/Users/ITQLAP/OneDrive/Capstonr project-1/final_data_left.csv')  \n",
    "filepath.parent.mkdir(parents=True, exist_ok=True)  \n",
    "final_data_left.to_csv(filepath)"
   ]
  },
  {
   "cell_type": "markdown",
   "metadata": {},
   "source": [
    "# <center>EDA(Exploratory data analysis)</center>\n",
    "<img src=\"https://www.researchgate.net/publication/329930775/figure/fig3/AS:873046667710469@1585161954284/The-fundamental-steps-of-the-exploratory-data-analysis-process.png\" align= 'center' width=\"600\" height=\"260\">"
   ]
  },
  {
   "cell_type": "markdown",
   "metadata": {},
   "source": [
    "### Demographic Analysis : covered analyzing what age group and gender are dominant in every segment. Besides, the population of customers in every egment in all Indian states is analyzed and special attention on State Maharastra."
   ]
  },
  {
   "cell_type": "code",
   "execution_count": null,
   "metadata": {},
   "outputs": [],
   "source": [
    "print(\"Name of columns :\",final_data_left.columns.tolist())\n",
    "print(\"---------------------------------------------------------\")\n",
    "print (\"Datatype of columns :\",final_data_left.dtypes)"
   ]
  },
  {
   "cell_type": "markdown",
   "metadata": {},
   "source": [
    "# A) Univariate analysis"
   ]
  },
  {
   "cell_type": "markdown",
   "metadata": {},
   "source": [
    "## sweetviz and autoviz report and Geographysical visualization"
   ]
  },
  {
   "cell_type": "markdown",
   "metadata": {},
   "source": [
    "## A1. Sweetviz Report"
   ]
  },
  {
   "cell_type": "code",
   "execution_count": null,
   "metadata": {},
   "outputs": [],
   "source": [
    "# ! pip install sweetviz"
   ]
  },
  {
   "cell_type": "code",
   "execution_count": null,
   "metadata": {},
   "outputs": [],
   "source": [
    "# import sweetviz as sv\n",
    "# sweet_report = sv.analyze(final_data_left)\n",
    "# sweet_report.show_html('sweet_report.html')"
   ]
  },
  {
   "cell_type": "code",
   "execution_count": null,
   "metadata": {},
   "outputs": [],
   "source": [
    "mumbai_state_data.columns"
   ]
  },
  {
   "cell_type": "code",
   "execution_count": null,
   "metadata": {},
   "outputs": [],
   "source": [
    "eda_data = mumbai_state_data.copy()"
   ]
  },
  {
   "cell_type": "code",
   "execution_count": null,
   "metadata": {},
   "outputs": [],
   "source": [
    "eda_data.head(2)"
   ]
  },
  {
   "cell_type": "markdown",
   "metadata": {},
   "source": [
    "## A2. Geographysical visualisation of Data Set  using Folium"
   ]
  },
  {
   "cell_type": "code",
   "execution_count": null,
   "metadata": {},
   "outputs": [],
   "source": [
    "! pip install folium"
   ]
  },
  {
   "cell_type": "code",
   "execution_count": null,
   "metadata": {},
   "outputs": [],
   "source": [
    "eda_data.head(2)"
   ]
  },
  {
   "cell_type": "code",
   "execution_count": null,
   "metadata": {},
   "outputs": [],
   "source": [
    "map_data = eda_data[['city','latitude','longitude']].drop_duplicates('city')"
   ]
  },
  {
   "cell_type": "code",
   "execution_count": null,
   "metadata": {},
   "outputs": [],
   "source": [
    "map_data.sort_values(\"city\", inplace = True)"
   ]
  },
  {
   "cell_type": "code",
   "execution_count": null,
   "metadata": {},
   "outputs": [],
   "source": [
    "map_data"
   ]
  },
  {
   "cell_type": "code",
   "execution_count": null,
   "metadata": {},
   "outputs": [],
   "source": [
    "map_final_data = map_data.values.tolist()"
   ]
  },
  {
   "cell_type": "code",
   "execution_count": null,
   "metadata": {},
   "outputs": [],
   "source": [
    "map_final_data"
   ]
  },
  {
   "cell_type": "code",
   "execution_count": null,
   "metadata": {},
   "outputs": [],
   "source": [
    "# from folium.plugins import MarkerCluster\n",
    "import folium\n",
    "map2 = folium.Map(location=[18.928113, 73.242773],zoom_start=11)\n",
    "fg = folium.FeatureGroup(name='mobile data point')\n",
    "\n",
    "for i  in map_final_data:\n",
    "    fg.add_child(folium.Marker(location=[i[1],i[2]],popup=i[0],icon =folium.Icon(color='green')))\n",
    "                             \n",
    "map2.add_child(fg)\n",
    "# map2.save('Mobile distribustion in the state of Maharastra.jpg')"
   ]
  },
  {
   "cell_type": "markdown",
   "metadata": {},
   "source": [
    "# Mobile user visualization for whole data sets"
   ]
  },
  {
   "cell_type": "code",
   "execution_count": null,
   "metadata": {},
   "outputs": [],
   "source": [
    "final_data_left.shape"
   ]
  },
  {
   "cell_type": "code",
   "execution_count": null,
   "metadata": {},
   "outputs": [],
   "source": [
    "eda_final_data = final_data_left.copy()"
   ]
  },
  {
   "cell_type": "code",
   "execution_count": null,
   "metadata": {},
   "outputs": [],
   "source": [
    "from branca.element import Figure\n",
    "fig=Figure(width=800,height=500)"
   ]
  },
  {
   "cell_type": "code",
   "execution_count": null,
   "metadata": {},
   "outputs": [],
   "source": [
    "#Keeping only the columnsi need\n",
    "map_left_data = eda_final_data[['latitude','longitude','city']]"
   ]
  },
  {
   "cell_type": "code",
   "execution_count": null,
   "metadata": {},
   "outputs": [],
   "source": [
    "#Remove duplicates\n",
    "map_left_data= map_left_data.drop_duplicates('city')"
   ]
  },
  {
   "cell_type": "code",
   "execution_count": null,
   "metadata": {},
   "outputs": [],
   "source": [
    "map_left_data.sort_values('city',inplace= True)"
   ]
  },
  {
   "cell_type": "code",
   "execution_count": null,
   "metadata": {},
   "outputs": [],
   "source": [
    "geo_final_data = map_left_data.values.tolist()"
   ]
  },
  {
   "cell_type": "code",
   "execution_count": null,
   "metadata": {},
   "outputs": [],
   "source": [
    "geo_final_data"
   ]
  },
  {
   "cell_type": "code",
   "execution_count": null,
   "metadata": {
    "scrolled": false
   },
   "outputs": [],
   "source": [
    "# Import folium\n",
    "import folium\n",
    "\n",
    "# Add base Map layer\n",
    "map3 = folium.Map(location=[18.928113, 73.242773],zoom_start=11)\n",
    "\n",
    "#Add or initialise feature group\n",
    "fg1 = folium.FeatureGroup(name='mobile data view')\n",
    "\n",
    "# Applying for loop in list of data\n",
    "for i in geo_final_data:\n",
    "    fg1.add_child(folium.Marker(location = [i[0],i[1]],popup=i[2],icon = folium.Icon(color='green')))\n",
    "\n",
    "#combine map layer and feature group\n",
    "map3.add_child(fg1)"
   ]
  },
  {
   "cell_type": "markdown",
   "metadata": {},
   "source": [
    "### 1. Distribution of Users(device_id) across States using whole data"
   ]
  },
  {
   "cell_type": "code",
   "execution_count": null,
   "metadata": {},
   "outputs": [],
   "source": [
    "eda_final_data.shape"
   ]
  },
  {
   "cell_type": "code",
   "execution_count": null,
   "metadata": {},
   "outputs": [],
   "source": [
    "eda_final_data.columns"
   ]
  },
  {
   "cell_type": "code",
   "execution_count": null,
   "metadata": {},
   "outputs": [],
   "source": [
    "eda_final_data['device_id'].dtypes"
   ]
  },
  {
   "cell_type": "code",
   "execution_count": null,
   "metadata": {},
   "outputs": [],
   "source": [
    "eda_final_data['state'].dtypes"
   ]
  },
  {
   "cell_type": "code",
   "execution_count": null,
   "metadata": {},
   "outputs": [],
   "source": [
    "# device-id == continuous  vs state==Categorical\n",
    "device_data = eda_final_data[['device_id','state']].drop_duplicates()"
   ]
  },
  {
   "cell_type": "code",
   "execution_count": null,
   "metadata": {},
   "outputs": [],
   "source": [
    "plt.figure(figsize=(12,5))\n",
    "ax = sns.countplot(x = 'state',data = device_data,palette= 'bright')\n",
    "plt.xticks(rotation= -90)\n",
    "ax.set_title(\"Count of device_id in diffierent state\",fontsize=20)\n",
    "plt.xlabel('Name of State',fontsize=20)\n",
    "plt.ylabel('Count of Device Id',fontsize=20)\n",
    "\n",
    "\n",
    "\n",
    "for rect in ax.patches: ax.text (rect.get_x() + rect.get_width() / 2,rect.get_height()+ 0.75,\n",
    "                                 rect.get_height(),horizontalalignment='center', fontsize = 11)\n",
    "plt.show()"
   ]
  },
  {
   "cell_type": "markdown",
   "metadata": {},
   "source": [
    "### Distribution of Users(device_id) across States using Maharastra/mumbai state data"
   ]
  },
  {
   "cell_type": "code",
   "execution_count": null,
   "metadata": {},
   "outputs": [],
   "source": [
    "mumbai_state_data.head(2)"
   ]
  },
  {
   "cell_type": "code",
   "execution_count": null,
   "metadata": {},
   "outputs": [],
   "source": [
    "# device-id == continuous  vs state==Categorical\n",
    "mumbai_device_data = mumbai_state_data[['device_id','city']].sort_values(by='city',ascending=False)[:10].reset_index()"
   ]
  },
  {
   "cell_type": "code",
   "execution_count": null,
   "metadata": {},
   "outputs": [],
   "source": [
    "# contribution of each city\n",
    "mumbai_device_data = pd.DataFrame(mumbai_state_data.groupby(['city'])['device_id'].nunique()).sort_values('device_id',ascending=False)[:10].reset_index()\n",
    "mumbai_device_data['percent_contribution'] =(mumbai_device_data['device_id']/sum(mumbai_device_data['device_id'])*100) \n",
    "mumbai_device_data"
   ]
  },
  {
   "cell_type": "code",
   "execution_count": null,
   "metadata": {},
   "outputs": [],
   "source": [
    "plt.figure(figsize=(12,8))\n",
    "fig=sns.barplot(x='city',y='percent_contribution',data=mumbai_device_data,palette='dark')\n",
    "fig.set_title('Contribution of Users across each city and Maharastra',fontsize=20)\n",
    "plt.xticks(rotation=90)\n",
    "plt.xlabel('Name of City',fontsize=20)\n",
    "plt.ylabel('% Contribution of device id',fontsize=20)\n",
    "\n",
    "for bar in fig.patches:\n",
    "    fig.annotate(format(bar.get_height(),'.2f'),\n",
    "                   (bar.get_x()+bar.get_width()/2,\n",
    "                   bar.get_height()), ha = 'center', va = 'center',\n",
    "                  size = 15,xytext = (0,8),\n",
    "                  textcoords = 'offset points')\n",
    "plt.show()"
   ]
  },
  {
   "cell_type": "markdown",
   "metadata": {},
   "source": [
    "* Maximum user is in Mumbai which is 70.46 % , pune = 23.75% so on"
   ]
  },
  {
   "cell_type": "markdown",
   "metadata": {},
   "source": [
    "### 2. Distribution of Users across Phone Brands(Consider only 10 Most used Phone Brands) using whole data"
   ]
  },
  {
   "cell_type": "code",
   "execution_count": null,
   "metadata": {},
   "outputs": [],
   "source": [
    "eda_final_data['phone_brand'].unique()"
   ]
  },
  {
   "cell_type": "code",
   "execution_count": null,
   "metadata": {},
   "outputs": [],
   "source": [
    "aad=eda_final_data.groupby(['phone_brand'])['device_id'].nunique()\n",
    "aad"
   ]
  },
  {
   "cell_type": "code",
   "execution_count": null,
   "metadata": {},
   "outputs": [],
   "source": [
    "type(aad)"
   ]
  },
  {
   "cell_type": "code",
   "execution_count": null,
   "metadata": {},
   "outputs": [],
   "source": [
    "aad.sort_values(ascending= False)"
   ]
  },
  {
   "cell_type": "code",
   "execution_count": null,
   "metadata": {},
   "outputs": [],
   "source": [
    "aad1 = aad.sort_values(ascending= False)[:10]"
   ]
  },
  {
   "cell_type": "code",
   "execution_count": null,
   "metadata": {},
   "outputs": [],
   "source": [
    "# % Share of each phone_brand\n",
    "phone_brand_share = pd.DataFrame(eda_final_data.groupby(['phone_brand'])['device_id'].nunique()).sort_values('device_id',ascending=False)[:10].reset_index()\n",
    "phone_brand_share['percent_distribution'] =(phone_brand_share['device_id']/sum(phone_brand_share['device_id'])*100) \n",
    "phone_brand_share"
   ]
  },
  {
   "cell_type": "code",
   "execution_count": null,
   "metadata": {},
   "outputs": [],
   "source": [
    "phone_brand_share_data = phone_brand_share\n",
    "phone_brand_share_data"
   ]
  },
  {
   "cell_type": "code",
   "execution_count": null,
   "metadata": {},
   "outputs": [],
   "source": [
    "phone_brand_share_data = phone_brand_share\n",
    "plt.figure(figsize=(12,8))\n",
    "ax=sns.barplot(x='phone_brand',y='percent_distribution',data=phone_brand_share_data,palette='bright')\n",
    "ax.set_title('Distribution of Users across Phone Brands',fontsize=20)\n",
    "plt.xticks(rotation=90)\n",
    "plt.xlabel('Name of Phone brand',fontsize=20)\n",
    "plt.ylabel('% Distribution of phone_brand',fontsize=20)\n",
    "\n",
    "for bar in ax.patches:\n",
    "    ax.annotate(format(bar.get_height(),'.2f'),\n",
    "                   (bar.get_x()+bar.get_width()/2,\n",
    "                   bar.get_height()), ha = 'center', va = 'center',\n",
    "                  size = 15,xytext = (0,8),\n",
    "                  textcoords = 'offset points')\n",
    "plt.show()"
   ]
  },
  {
   "cell_type": "markdown",
   "metadata": {},
   "source": [
    "## 3. Distribution of Users across Gender using whole data"
   ]
  },
  {
   "cell_type": "code",
   "execution_count": null,
   "metadata": {},
   "outputs": [],
   "source": [
    "eda_final_data['gender'].unique()"
   ]
  },
  {
   "cell_type": "code",
   "execution_count": null,
   "metadata": {},
   "outputs": [],
   "source": [
    "eda_final_data['gender'].value_counts()"
   ]
  },
  {
   "cell_type": "code",
   "execution_count": null,
   "metadata": {},
   "outputs": [],
   "source": [
    "eda_final_data['gender'].value_counts()[1]"
   ]
  },
  {
   "cell_type": "code",
   "execution_count": null,
   "metadata": {},
   "outputs": [],
   "source": [
    "#Create a pie chart for visualization\n",
    "plt.figure(figsize=(10,5))\n",
    "genders = eda_final_data['gender'].value_counts()\n",
    "print(\"Total Male in data : \",eda_final_data['gender'].value_counts()[0])\n",
    "print(\"Total Female in data : \",eda_final_data['gender'].value_counts()[1])\n",
    "plt.pie(genders.values, labels=[\"Male\",'Female'],shadow=True,autopct='%.2f%%')\n",
    "plt.axis('equal')\n",
    "plt.legend(['Male','Female'],title = \"Gender Type\")\n",
    "plt.show()"
   ]
  },
  {
   "cell_type": "markdown",
   "metadata": {},
   "source": [
    "### Distribution of Users across Gender using Maharastra data"
   ]
  },
  {
   "cell_type": "code",
   "execution_count": null,
   "metadata": {},
   "outputs": [],
   "source": [
    "#Create a pie chart for visualization\n",
    "plt.figure(figsize=(10,5))\n",
    "genders1 = eda_data['gender'].value_counts()\n",
    "print(\"Total Male in Maharastra : \",eda_data['gender'].value_counts()[0])\n",
    "print(\"Total Female in Maharastra : \",eda_data['gender'].value_counts()[1])\n",
    "plt.pie(genders1.values, labels=[\"Male\",'Female'],shadow=True,autopct='%.2f%%')\n",
    "plt.axis('equal')\n",
    "plt.legend(['Male','Female'],title = \"Gender Type\")\n",
    "plt.show()"
   ]
  },
  {
   "cell_type": "markdown",
   "metadata": {},
   "source": [
    "### 4. Distribution of Users across Age Segments using whole data"
   ]
  },
  {
   "cell_type": "code",
   "execution_count": null,
   "metadata": {},
   "outputs": [],
   "source": [
    "# Create a list 0-18 in <18 ,\n",
    "print(\"Minimum age :\",eda_final_data['age'].min())\n",
    "print(\"Maximum age : \",eda_final_data['age'].max())"
   ]
  },
  {
   "cell_type": "code",
   "execution_count": null,
   "metadata": {},
   "outputs": [],
   "source": [
    "len(eda_final_data)"
   ]
  },
  {
   "cell_type": "code",
   "execution_count": null,
   "metadata": {},
   "outputs": [],
   "source": [
    "# Create age range <18,19-26, 27-31,32-40,40+\n",
    "age_list = []\n",
    "\n",
    "for i in range(len(eda_final_data)):\n",
    "    if eda_final_data['age'][i] <=18:\n",
    "        age_list.append('Less than 18')\n",
    "    elif 18 < eda_final_data['age'][i] <=26:\n",
    "        age_list.append('19-26')\n",
    "    elif 26 < eda_final_data['age'][i] <=31:\n",
    "        age_list.append('27-31')\n",
    "    elif 31 < eda_final_data['age'][i] < 40:\n",
    "        age_list.append('32-40')\n",
    "    else:\n",
    "        age_list.append('More than 40') \n",
    "        \n",
    "eda_final_data['age_group'] = age_list   "
   ]
  },
  {
   "cell_type": "code",
   "execution_count": null,
   "metadata": {},
   "outputs": [],
   "source": [
    "eda_final_data.head(2)"
   ]
  },
  {
   "cell_type": "code",
   "execution_count": null,
   "metadata": {},
   "outputs": [],
   "source": [
    "eda_final_data['age_group'].unique()"
   ]
  },
  {
   "cell_type": "code",
   "execution_count": null,
   "metadata": {},
   "outputs": [],
   "source": [
    "# drop duplicates from age_group\n",
    "user_age_group = eda_final_data[['age_group',\"device_id\"]].drop_duplicates()"
   ]
  },
  {
   "cell_type": "code",
   "execution_count": null,
   "metadata": {},
   "outputs": [],
   "source": [
    "plt.figure(figsize=(10,7))\n",
    "ax= sns.countplot(x ='age_group',hue='gender',data =eda_final_data,palette='bright')\n",
    "ax.set_title('Distribution of Users across Age Segments.')\n",
    "plt.xlabel('Diffierent interval of age group', fontsize=20)\n",
    "plt.xticks(fontsize=12)\n",
    "plt.ylabel('Count of value in each age group', fontsize=20)\n",
    "plt.xticks(rotation=45)\n",
    "\n",
    "\n",
    "for p in ax.patches:\n",
    "    ax.annotate(format(p.get_height()),\n",
    "                   (p.get_x()+p.get_width()/2,\n",
    "                   p.get_height()), ha = 'center', va = 'center',\n",
    "                  size = 15,xytext = (0,8),\n",
    "                  textcoords = 'offset points')\n",
    "\n",
    "plt.show()"
   ]
  },
  {
   "cell_type": "markdown",
   "metadata": {},
   "source": [
    "### 5. Distribution of Phone Brands(Consider only 10 Most used Phone Brands) for each Age Segment, State, Gender."
   ]
  },
  {
   "cell_type": "code",
   "execution_count": null,
   "metadata": {},
   "outputs": [],
   "source": [
    "eda_final_data.columns"
   ]
  },
  {
   "cell_type": "code",
   "execution_count": null,
   "metadata": {},
   "outputs": [],
   "source": [
    "top_brands = pd.DataFrame(eda_final_data.groupby(['phone_brand'])['device_id'].nunique()).sort_values('device_id',ascending=False)[:10].reset_index()['phone_brand']"
   ]
  },
  {
   "cell_type": "code",
   "execution_count": null,
   "metadata": {},
   "outputs": [],
   "source": [
    "top_brands"
   ]
  },
  {
   "cell_type": "code",
   "execution_count": null,
   "metadata": {},
   "outputs": [],
   "source": [
    "top_10_brands = eda_final_data[eda_final_data['phone_brand'].isin(top_brands)]\n",
    "data=top_10_brands[['device_id','age_group','state','gender','phone_brand']].drop_duplicates()"
   ]
  },
  {
   "cell_type": "code",
   "execution_count": null,
   "metadata": {},
   "outputs": [],
   "source": [
    "data"
   ]
  },
  {
   "cell_type": "code",
   "execution_count": null,
   "metadata": {},
   "outputs": [],
   "source": [
    "data1 =pd.DataFrame(top_10_brands.groupby(['age_group','state','gender','phone_brand'])['device_id'].nunique()).reset_index()"
   ]
  },
  {
   "cell_type": "code",
   "execution_count": null,
   "metadata": {},
   "outputs": [],
   "source": [
    "data1"
   ]
  },
  {
   "cell_type": "code",
   "execution_count": null,
   "metadata": {},
   "outputs": [],
   "source": [
    "! pip install plotly-express"
   ]
  },
  {
   "cell_type": "code",
   "execution_count": null,
   "metadata": {},
   "outputs": [],
   "source": [
    "import plotly.express as px\n",
    "fig = px.treemap(data1,path=['age_group','state','gender','phone_brand'],values='device_id',width=1000, height=400)\n",
    "fig.data[0].textinfo = 'label+text+value'\n",
    "fig.show()"
   ]
  },
  {
   "cell_type": "markdown",
   "metadata": {},
   "source": [
    "1. "
   ]
  },
  {
   "cell_type": "markdown",
   "metadata": {},
   "source": [
    "### 6. Distribution of Gender for each State, Age Segment and Phone Brand(Consider only 10 Most used Phone Brands)."
   ]
  },
  {
   "cell_type": "code",
   "execution_count": null,
   "metadata": {},
   "outputs": [],
   "source": [
    "data2=pd.DataFrame(top_10_brands.groupby(['state','age_group','phone_brand','gender'])['device_id'].nunique()).reset_index()"
   ]
  },
  {
   "cell_type": "code",
   "execution_count": null,
   "metadata": {},
   "outputs": [],
   "source": [
    "fig = px.treemap(data2, path=['gender','state','age_group','phone_brand'],values='device_id',width=1000, height=600)\n",
    "fig.data[0].textinfo = 'label+text+value'\n",
    "fig.show()"
   ]
  },
  {
   "cell_type": "markdown",
   "metadata": {},
   "source": [
    "1. In term of top 10 brands, number of Male  is 36,866 and female 20691.\n",
    "2. Male age between 19-26 and 27-31 in Maharastra is the most contributer in top 10 brand  .\n",
    "3. Market share of Xiaomi is the most in Maharstra ,Karnatka and West bengal between all age group\n",
    "4. In Delhi , Huawei  has main brand between age 27-31 but in age-group 32-40 agian Xioami is brand.\n",
    "5. In Female group, all age group xioami  has maximum market share."
   ]
  },
  {
   "cell_type": "markdown",
   "metadata": {},
   "source": [
    "### 7. Distribution of Age Segments for each State, Gender and Phone Brand(Consider only 10 Most used Phone Brands)."
   ]
  },
  {
   "cell_type": "code",
   "execution_count": null,
   "metadata": {},
   "outputs": [],
   "source": [
    "data3 = pd.DataFrame(top_10_brands.groupby(['state','gender','phone_brand','age_group'])['device_id'].nunique()).reset_index()"
   ]
  },
  {
   "cell_type": "code",
   "execution_count": null,
   "metadata": {},
   "outputs": [],
   "source": [
    "fig = px.treemap(data3, path=['age_group','state','gender','phone_brand'],values='device_id',width=1000, height=600)\n",
    "fig.data[0].textinfo = 'label+text+value'\n",
    "fig.show()"
   ]
  },
  {
   "cell_type": "markdown",
   "metadata": {},
   "source": [
    "### 8. Hourly distribution of Phone Calls."
   ]
  },
  {
   "cell_type": "code",
   "execution_count": null,
   "metadata": {},
   "outputs": [],
   "source": [
    "eda_final_data.columns"
   ]
  },
  {
   "cell_type": "code",
   "execution_count": null,
   "metadata": {},
   "outputs": [],
   "source": [
    "eda_final_data.info()"
   ]
  },
  {
   "cell_type": "code",
   "execution_count": null,
   "metadata": {},
   "outputs": [],
   "source": [
    "time_data = eda_final_data[['event_id','timestamp']].set_index('timestamp')"
   ]
  },
  {
   "cell_type": "code",
   "execution_count": null,
   "metadata": {},
   "outputs": [],
   "source": [
    "time_data"
   ]
  },
  {
   "cell_type": "code",
   "execution_count": null,
   "metadata": {},
   "outputs": [],
   "source": [
    "time_data_hourly=time_data.resample('H').count().reset_index()"
   ]
  },
  {
   "cell_type": "code",
   "execution_count": null,
   "metadata": {},
   "outputs": [],
   "source": [
    "time_data_hourly"
   ]
  },
  {
   "cell_type": "code",
   "execution_count": null,
   "metadata": {},
   "outputs": [],
   "source": [
    "plt.figure(figsize=(10,6))\n",
    "ax = sns.lineplot(x=\"timestamp\", y=\"event_id\", data=time_data_hourly)\n",
    "ax.set_title('Hourly distribution of Phone Calls',fontsize=20)\n",
    "plt.xlabel('Timestamp',fontsize=20)\n",
    "plt.ylabel('Event Id',fontsize=20)\n",
    "plt.show()"
   ]
  },
  {
   "cell_type": "code",
   "execution_count": null,
   "metadata": {},
   "outputs": [],
   "source": [
    "eda_final_data.head(2)"
   ]
  },
  {
   "cell_type": "code",
   "execution_count": null,
   "metadata": {},
   "outputs": [],
   "source": [
    "timestamp_data1= eda_final_data.copy()"
   ]
  },
  {
   "cell_type": "code",
   "execution_count": null,
   "metadata": {},
   "outputs": [],
   "source": [
    "timestamp_data1.head(2)"
   ]
  },
  {
   "cell_type": "code",
   "execution_count": null,
   "metadata": {},
   "outputs": [],
   "source": [
    "timestamp_data1 = timestamp_data1.sort_values(['Hour'])"
   ]
  },
  {
   "cell_type": "code",
   "execution_count": null,
   "metadata": {},
   "outputs": [],
   "source": [
    "timestamp_data1['Hour']"
   ]
  },
  {
   "cell_type": "code",
   "execution_count": null,
   "metadata": {},
   "outputs": [],
   "source": [
    "# Two continuous and one categorical \n",
    "plt.figure(figsize=(20,6))\n",
    "ax = sns.lineplot(x = 'Hour',y = 'event_id', hue ='Day',sort = True,data =timestamp_data1).set_title('Hourly distribution of phone call')\n",
    "plt.xticks(rotation= -45)\n",
    "plt.show()"
   ]
  },
  {
   "cell_type": "markdown",
   "metadata": {},
   "source": [
    "### 9. Brand and Model Share"
   ]
  },
  {
   "cell_type": "code",
   "execution_count": null,
   "metadata": {},
   "outputs": [],
   "source": [
    "# for brands\n",
    "c = mumbai_state_data.phone_brand.value_counts()\n",
    "market_share = c.cumsum()/c.sum()\n",
    "# for models\n",
    "c2 = mumbai_state_data.device_model.value_counts()\n",
    "market_share2 = c2.cumsum()/c2.sum()"
   ]
  },
  {
   "cell_type": "code",
   "execution_count": null,
   "metadata": {},
   "outputs": [],
   "source": [
    "ax = plt.subplot(1,2,1)\n",
    "plt.gcf().set_figheight(4)\n",
    "plt.gcf().set_figwidth(12)\n",
    "plt.plot(market_share.values, 'b-')\n",
    "plt.title('Brand share')\n",
    "sns.despine()\n",
    "\n",
    "ax = plt.subplot(1,2,2)\n",
    "plt.plot(market_share2.values, 'g-')\n",
    "plt.title('Model share')\n",
    "sns.despine()\n",
    "\n",
    "plt.subplots_adjust(top=0.8)\n",
    "plt.suptitle('Brand and model share');"
   ]
  },
  {
   "cell_type": "markdown",
   "metadata": {},
   "source": [
    "### 10. Share of phone_brand with respect to age and gender"
   ]
  },
  {
   "cell_type": "code",
   "execution_count": null,
   "metadata": {},
   "outputs": [],
   "source": [
    "majority_share = market_share[~(market_share>0.95)].index.tolist()\n",
    "share_others = market_share[market_share>0.95].index.tolist()\n",
    "\n",
    "majority_share2 = market_share2[~(market_share2>0.60)].index.tolist()\n",
    "share_others2 = market_share2[market_share2>0.60].index.tolist()"
   ]
  },
  {
   "cell_type": "code",
   "execution_count": null,
   "metadata": {},
   "outputs": [],
   "source": [
    "fig = plt.figure(figsize=(20, 6))\n",
    "ax = sns.boxplot(x=\"phone_brand\", y=\"age\", hue=\"gender\", data=mumbai_state_data[mumbai_state_data.phone_brand.isin(majority_share)]\n",
    "                 .sort_values('age'), ax=fig.gca());\n",
    "ax.set_xticklabels(majority_share, rotation=30);\n",
    "str(majority_share)\n",
    "plt.suptitle('95 % share of phone_brand with age and gender ');"
   ]
  },
  {
   "cell_type": "code",
   "execution_count": null,
   "metadata": {},
   "outputs": [],
   "source": [
    "fig = plt.figure(figsize=(20, 6))\n",
    "ax = sns.boxplot(x=\"device_model\", y=\"age\", hue=\"gender\", \n",
    "                 data=mumbai_state_data[mumbai_state_data.device_model.isin(majority_share2)]\n",
    "                 .sort_values('age'), ax=fig.gca());\n",
    "ax.set_xticklabels(ax.get_xticklabels(), rotation=90);\n",
    "str(majority_share2)\n",
    "plt.suptitle('Usage of device_model with respect to age and gender');"
   ]
  },
  {
   "cell_type": "markdown",
   "metadata": {},
   "source": [
    "### 11. When gender and age using device most"
   ]
  },
  {
   "cell_type": "code",
   "execution_count": null,
   "metadata": {},
   "outputs": [],
   "source": [
    "mumbai_state_data.head(2)"
   ]
  },
  {
   "cell_type": "code",
   "execution_count": null,
   "metadata": {},
   "outputs": [],
   "source": [
    "large_time = mumbai_state_data.groupby('device_id')['Hour'].apply(lambda x:max(x))\n",
    "small_time = mumbai_state_data.groupby('device_id')['Hour'].apply(lambda x:min(x))"
   ]
  },
  {
   "cell_type": "code",
   "execution_count": null,
   "metadata": {},
   "outputs": [],
   "source": [
    "from collections import Counter\n",
    "most_of_time = mumbai_state_data.groupby('device_id')['Hour'].apply(lambda x : Counter(x).most_common(1)[0][0])"
   ]
  },
  {
   "cell_type": "code",
   "execution_count": null,
   "metadata": {},
   "outputs": [],
   "source": [
    "mumbai_state_data.head(2)"
   ]
  },
  {
   "cell_type": "code",
   "execution_count": null,
   "metadata": {},
   "outputs": [],
   "source": [
    "# adding large_time,small_time columns in mumbai_state_data\n",
    "mumbai_state_data['most_of_time'] = mumbai_state_data['device_id'].map(most_of_time)\n",
    "mumbai_state_data['large_time'] = mumbai_state_data['device_id'].map(large_time)\n",
    "mumbai_state_data['small_time'] = mumbai_state_data['device_id'].map(small_time)"
   ]
  },
  {
   "cell_type": "code",
   "execution_count": null,
   "metadata": {},
   "outputs": [],
   "source": [
    "# Usage of device_id most of time\n",
    "fig = plt.figure(figsize=(20, 6))\n",
    "ax = sns.boxplot(x=\"most_of_time\", y=\"age\", hue=\"gender\", data=mumbai_state_data, ax=fig.gca());\n",
    "ax.set_xticklabels(ax.get_xticklabels(), rotation=90);\n",
    "plt.suptitle('Usage of device_id , most_of _times on basis of age and gender');"
   ]
  },
  {
   "cell_type": "code",
   "execution_count": null,
   "metadata": {},
   "outputs": [],
   "source": [
    "fig = plt.figure(figsize=(20, 6))\n",
    "ax = sns.boxplot(x=\"large_time\", y=\"age\", hue=\"gender\", data=mumbai_state_data, ax=fig.gca());\n",
    "ax.set_xticklabels(ax.get_xticklabels(), rotation=30);\n",
    "plt.suptitle('Usage of device_id , maximum_tims on basis of age and gender');"
   ]
  },
  {
   "cell_type": "code",
   "execution_count": null,
   "metadata": {},
   "outputs": [],
   "source": [
    "fig = plt.figure(figsize=(20, 6))\n",
    "ax = sns.boxplot(x=\"small_time\", y=\"age\", hue=\"gender\", data=mumbai_state_data, ax=fig.gca());\n",
    "ax.set_xticklabels(ax.get_xticklabels(), rotation=30);\n",
    "plt.suptitle('Usage of device_id , minimum_times on basis of age and gender');"
   ]
  },
  {
   "cell_type": "code",
   "execution_count": null,
   "metadata": {},
   "outputs": [],
   "source": [
    "# from folium.plugins import MarkerCluster\n",
    "import folium\n",
    "map2 = folium.Map(location=[18.928113, 73.242773],zoom_start=11)\n",
    "fg = folium.FeatureGroup(name='mobile data point')\n",
    "\n",
    "for i  in map_final_data:\n",
    "    fg.add_child(folium.Marker(location=[i[1],i[2]],popup=i[0],icon =folium.Icon(color='green')))\n",
    "                             \n",
    "map2.add_child(fg)\n",
    "# map2.save('Mobile distribustion in the state of Maharastra.jpg')"
   ]
  },
  {
   "cell_type": "code",
   "execution_count": null,
   "metadata": {},
   "outputs": [],
   "source": [
    "# Import folium\n",
    "import folium\n",
    "\n",
    "# Add base Map layer\n",
    "map3 = folium.Map(location=[18.928113, 73.242773],zoom_start=11)\n",
    "\n",
    "#Add or initialise feature group\n",
    "fg1 = folium.FeatureGroup(name='mobile data view')\n",
    "\n",
    "# Applying for loop in list of data\n",
    "for i in geo_final_data:\n",
    "    fg1.add_child(folium.Marker(location = [i[0],i[1]],popup=i[2],icon = folium.Icon(color='green')))\n",
    "\n",
    "#combine map layer and feature group\n",
    "map3.add_child(fg1)"
   ]
  },
  {
   "cell_type": "markdown",
   "metadata": {},
   "source": [
    "# <center><em>The END</em></center>"
   ]
  }
 ],
 "metadata": {
  "celltoolbar": "Raw Cell Format",
  "kernelspec": {
   "display_name": "Python 3",
   "language": "python",
   "name": "python3"
  },
  "language_info": {
   "codemirror_mode": {
    "name": "ipython",
    "version": 3
   },
   "file_extension": ".py",
   "mimetype": "text/x-python",
   "name": "python",
   "nbconvert_exporter": "python",
   "pygments_lexer": "ipython3",
   "version": "3.8.5"
  },
  "widgets": {
   "application/vnd.jupyter.widget-state+json": {
    "state": {},
    "version_major": 2,
    "version_minor": 0
   }
  }
 },
 "nbformat": 4,
 "nbformat_minor": 4
}
